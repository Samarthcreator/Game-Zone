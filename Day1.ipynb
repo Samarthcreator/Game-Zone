{
 "cells": [
  {
   "cell_type": "code",
   "execution_count": 2,
   "id": "9f33669c-95c9-41c4-a79d-93647cfbf737",
   "metadata": {},
   "outputs": [
    {
     "name": "stdout",
     "output_type": "stream",
     "text": [
      "112\n"
     ]
    }
   ],
   "source": [
    "x = 112\n",
    "print(x)"
   ]
  },
  {
   "cell_type": "code",
   "execution_count": 3,
   "id": "f3ab175c-b34c-47f9-91ad-19e716e454bb",
   "metadata": {},
   "outputs": [
    {
     "name": "stderr",
     "output_type": "stream",
     "text": [
      "\n",
      "KeyboardInterrupt\n",
      "\n"
     ]
    }
   ],
   "source": [
    "n =int(input())\n",
    "if n%5==0:\n",
    "    print(\"It is multiple of 5\")\n",
    "else:\n",
    "    print(\"It is not a multiple of 5\")"
   ]
  },
  {
   "cell_type": "code",
   "execution_count": 8,
   "id": "a98a1f5e-0ff7-41b4-b310-883efc95e58e",
   "metadata": {},
   "outputs": [
    {
     "name": "stdin",
     "output_type": "stream",
     "text": [
      " 101\n"
     ]
    },
    {
     "name": "stdout",
     "output_type": "stream",
     "text": [
      "no\n"
     ]
    }
   ],
   "source": [
    "num = int(input())\n",
    "if num%2==0 or num%7==0:\n",
    "    print(\"yes\")\n",
    "else:\n",
    "    print(\"no\")"
   ]
  },
  {
   "cell_type": "code",
   "execution_count": 9,
   "id": "db5a3ceb-677c-4ff8-abfd-ba82a46afdf3",
   "metadata": {},
   "outputs": [
    {
     "name": "stdin",
     "output_type": "stream",
     "text": [
      "Enter The length 50\n",
      "Enter ther breath 40\n"
     ]
    },
    {
     "name": "stdout",
     "output_type": "stream",
     "text": [
      "it is a rectangle\n"
     ]
    }
   ],
   "source": [
    " l=int(input(\"Enter The length\"))\n",
    " b=int(input(\"Enter ther breath\"))\n",
    "if l==b: \n",
    "    print(\"It is square\")\n",
    "else:\n",
    "    print(\"it is a rectangle\")"
   ]
  },
  {
   "cell_type": "code",
   "execution_count": 14,
   "id": "9fbae8c8-0dae-4e1c-9904-76bb138a61a0",
   "metadata": {},
   "outputs": [
    {
     "name": "stdin",
     "output_type": "stream",
     "text": [
      "Enter the number:  2\n"
     ]
    },
    {
     "name": "stdout",
     "output_type": "stream",
     "text": [
      "It's a Digit\n"
     ]
    }
   ],
   "source": [
    "n=input(\"Enter the number: \")\n",
    "num=int(n)\n",
    "if num>=0 and num<=9:\n",
    "    print(\"It's a Digit\")\n",
    "else:\n",
    "    print(\"Not a Digit\")"
   ]
  },
  {
   "cell_type": "code",
   "execution_count": 20,
   "id": "7a3c7139-0149-42d8-b78e-9d27ee7adb36",
   "metadata": {},
   "outputs": [
    {
     "name": "stdin",
     "output_type": "stream",
     "text": [
      "Enter the name aman\n"
     ]
    },
    {
     "name": "stdout",
     "output_type": "stream",
     "text": [
      "It is a vowel\n"
     ]
    }
   ],
   "source": [
    "name = input(\"Enter the name\")\n",
    "li = ['A', 'E', 'I', 'O', 'U', 'a', 'e', 'i', 'o', 'u']\n",
    "if name[0] in li:\n",
    "    print(\"It is a vowel\")\n",
    "else:\n",
    "    print(\"It is not a vowel\")"
   ]
  },
  {
   "cell_type": "code",
   "execution_count": 19,
   "id": "3c46e43b-ad62-4d23-85bb-f6d2fd431fe5",
   "metadata": {},
   "outputs": [
    {
     "name": "stdin",
     "output_type": "stream",
     "text": [
      " -85\n"
     ]
    },
    {
     "name": "stdout",
     "output_type": "stream",
     "text": [
      "It is not a positive number\n"
     ]
    }
   ],
   "source": [
    "num = int(input())\n",
    "if num>=0:\n",
    "    print(\"it is positive number\")\n",
    "else:\n",
    "    print(\"It is not a positive number\")"
   ]
  },
  {
   "cell_type": "code",
   "execution_count": 25,
   "id": "87378471-ddbe-4f42-8948-b3cf1e240e46",
   "metadata": {},
   "outputs": [
    {
     "name": "stdin",
     "output_type": "stream",
     "text": [
      "Enter shirt Quantity 4\n",
      "Enter pant Quantity 4\n"
     ]
    },
    {
     "name": "stdout",
     "output_type": "stream",
     "text": [
      "1980.0\n"
     ]
    }
   ],
   "source": [
    "shirt=250\n",
    "pant=300\n",
    "shirtquantity=int(input(\"Enter shirt Quantity\"))\n",
    "pantquantity=int(input(\"Enter pant Quantity\"))\n",
    "total_bill=(shirt*shirtquantity)+(pant*pantquantity)\n",
    "if total_bill>=2000:\n",
    "    total_bill=(total_bill*90)/100\n",
    "    new_bill=float(total_bill)\n",
    "    print('Your bill is', new_bill)\n",
    "else:\n",
    "    print(total_bill)"
   ]
  },
  {
   "cell_type": "code",
   "execution_count": 28,
   "id": "7e63dc31-9f7d-4578-aa5a-9b1f56a0e883",
   "metadata": {},
   "outputs": [
    {
     "name": "stdin",
     "output_type": "stream",
     "text": [
      " samar12\n"
     ]
    },
    {
     "name": "stdout",
     "output_type": "stream",
     "text": [
      "no\n"
     ]
    }
   ],
   "source": [
    "user=input()\n",
    "li = ['A', 'E', 'I', 'O', 'U', 'a', 'e', 'i', 'o', 'u']\n",
    "li2 =['0', '1', '2', '3', '4', '5', '6', '7', '8', '9']\n",
    "if user[0] in li and user[-1] in li2:\n",
    "    print(\"yes\")\n",
    "else:\n",
    "    print(\"no\")"
   ]
  },
  {
   "cell_type": "code",
   "execution_count": 31,
   "id": "03901e6f-57c2-4079-97e5-5a938ab1df49",
   "metadata": {},
   "outputs": [
    {
     "name": "stdin",
     "output_type": "stream",
     "text": [
      " Jatin Rajput\n"
     ]
    },
    {
     "name": "stdout",
     "output_type": "stream",
     "text": [
      "It is full name\n"
     ]
    }
   ],
   "source": [
    "name = input()\n",
    "num=' '\n",
    "if num in name:\n",
    "    print(\"It is full name\")\n",
    "else:\n",
    "    print(\"It is a single name\")"
   ]
  },
  {
   "cell_type": "code",
   "execution_count": 1,
   "id": "42d6a201-ba7a-4032-813d-ff18379fd27e",
   "metadata": {},
   "outputs": [
    {
     "name": "stdout",
     "output_type": "stream",
     "text": [
      "B\n"
     ]
    }
   ],
   "source": [
    "num = 90\n",
    "if num>=0 and num<=10:\n",
    "    print(\"A\")\n",
    "elif num>=90 and num<=100:\n",
    "    print(\"B\")"
   ]
  },
  {
   "cell_type": "code",
   "execution_count": 13,
   "id": "91616893-4047-4a67-b7e6-45aa6c8313a6",
   "metadata": {},
   "outputs": [
    {
     "name": "stdin",
     "output_type": "stream",
     "text": [
      " 20\n",
      " 50\n",
      " 45\n",
      " 33\n",
      " 35\n",
      "Enter total number 250\n"
     ]
    },
    {
     "name": "stdout",
     "output_type": "stream",
     "text": [
      "73.2\n",
      "B 73.2\n"
     ]
    }
   ],
   "source": [
    "sub1 = int(input(\"Enter The English Mark\"))\n",
    "sub2 = int(input(\"Enter The Hindi Mark\"))\n",
    "sub3 = int(input(\"Enter The Maths Mark\"))\n",
    "sub4 = int(input(\"Enter The Physic Mark\"))\n",
    "sub5 = int(input(\"Enter The Chemistry Mark\"))\n",
    "total_number=int(input(\"Enter total number\"))\n",
    "perc= ((sub1+sub2+sub3+sub4+sub5)/(total_number))*100\n",
    "print(perc)\n",
    "if perc>=95 and perc<=100:\n",
    "    print(\"A+\", perc)\n",
    "elif perc>=85 and perc<95:\n",
    "    print(\"A\", perc)\n",
    "elif perc>=75 and perc<85:\n",
    "    print(\"B+\", perc) \n",
    "elif perc>=65 and perc<75:\n",
    "    print(\"B\", perc)\n",
    "elif perc>=55 and perc<65:\n",
    "    print(\"C+\", perc)\n",
    "elif perc>=45 and perc<55:\n",
    "    print(\"C\", perc)\n",
    "elif perc>=33 and perc<45:\n",
    "    print(\"D\", perc)\n",
    "else:\n",
    "    print(\"fail\")"
   ]
  },
  {
   "cell_type": "code",
   "execution_count": 17,
   "id": "99194808-de3a-44ba-9620-8a9901a6b507",
   "metadata": {},
   "outputs": [
    {
     "name": "stdin",
     "output_type": "stream",
     "text": [
      "Enter the number from 1 to 7 8\n"
     ]
    },
    {
     "name": "stdout",
     "output_type": "stream",
     "text": [
      "invalid input\n"
     ]
    }
   ],
   "source": [
    "num = int(input(\"Enter the number from 1 to 7\"))\n",
    "dic = [\"Monday\", \"Tuesday\", \"Wednesday\", \"Thrusday\", \"Friday\", \"Saturday\", \"Sunday\"]\n",
    "if   num==1: print(dic[0])\n",
    "elif num==2: print(dic[1])\n",
    "elif num==3: print(dic[2])\n",
    "elif num==4: print(dic[3])\n",
    "elif num==5: print(dic[4])\n",
    "elif num==6: print(dic[5])\n",
    "elif num==7: print(dic[6])\n",
    "else       : print(\"invalid input\")"
   ]
  },
  {
   "cell_type": "code",
   "execution_count": 51,
   "id": "13c323ae-023a-4b87-ae38-915c123becb7",
   "metadata": {},
   "outputs": [
    {
     "name": "stdin",
     "output_type": "stream",
     "text": [
      "Enter the number from 1 to 7:  5\n"
     ]
    },
    {
     "name": "stdout",
     "output_type": "stream",
     "text": [
      "Friday\n"
     ]
    }
   ],
   "source": [
    "# num = int(input(\"Enter the number from 1 to 7\"))\n",
    "# dic = [\"Monday\", \"Tuesday\", \"Wednesday\", \"Thrusday\", \"Friday\", \"Saturday\", \"Sunday\"]\n",
    "# if num >= 1 and num <=7: print(dic[num-1])\n",
    "# else                   : print(\"invalid input\")\n",
    "\n",
    "# num = int(input(\"Enter the number from 1 to 7: \"))\n",
    "# dic = [\"Monday\", \"Tuesday\", \"Wednesday\", \"Thrusday\", \"Friday\", \"Saturday\", \"Sunday\"]\n",
    "# if 1 <= num <= 7: print(dic[num-1])\n",
    "# else            : print(\"invalid input\")\n",
    "\n",
    "num = int(input(\"Enter the number from 1 to 7: \"))\n",
    "dic = {1: 'Monday',\n",
    " 2: 'Tuesday',\n",
    " 3: 'Wednesday',\n",
    " 4: 'Thrusday',\n",
    " 5: 'Friday',\n",
    " 6: 'Saturday',\n",
    " 7: 'Sunday'}\n",
    "if 1 <= num <= 7: print(dic[num])\n",
    "else            : print(\"invalid input\")"
   ]
  },
  {
   "cell_type": "code",
   "execution_count": 50,
   "id": "f45c834d-6659-4b28-b076-f8b9149b1863",
   "metadata": {},
   "outputs": [
    {
     "data": {
      "text/plain": [
       "{1: 'Monday',\n",
       " 2: 'Tuesday',\n",
       " 3: 'Wednesday',\n",
       " 4: 'Thrusday',\n",
       " 5: 'Friday',\n",
       " 6: 'Saturday',\n",
       " 7: 'Sunday'}"
      ]
     },
     "execution_count": 50,
     "metadata": {},
     "output_type": "execute_result"
    }
   ],
   "source": [
    "dict(zip(range(1, 8), [\"Monday\", \"Tuesday\", \"Wednesday\", \"Thrusday\", \"Friday\", \"Saturday\", \"Sunday\"]))"
   ]
  },
  {
   "cell_type": "code",
   "execution_count": 7,
   "id": "707a5c65-295c-4355-8aaa-6e10c19814fd",
   "metadata": {},
   "outputs": [
    {
     "name": "stdin",
     "output_type": "stream",
     "text": [
      "Enter first side 45.5\n",
      "Enter second side 45.5\n",
      "Enter third side 22\n"
     ]
    },
    {
     "name": "stdout",
     "output_type": "stream",
     "text": [
      "It is a isoceles\n"
     ]
    }
   ],
   "source": [
    "side1 = float(input(\"Enter first side\"))\n",
    "side2 = float(input(\"Enter second side\"))\n",
    "side3 = float(input(\"Enter third side\"))\n",
    "\n",
    "if side1==side2==side3:\n",
    "    print(\"It is equilateral triangle\")\n",
    "elif side1==side2 or side1==side3 or side2==side3:\n",
    "    print(\"It is a isoceles\")\n",
    "else:\n",
    "    print(\"It is scalene\")"
   ]
  },
  {
   "cell_type": "code",
   "execution_count": 2,
   "id": "ecee4cd0-1c2b-49eb-9019-2e47a2c897d0",
   "metadata": {},
   "outputs": [
    {
     "name": "stdin",
     "output_type": "stream",
     "text": [
      "Enter your income 983546565465\n"
     ]
    },
    {
     "name": "stdout",
     "output_type": "stream",
     "text": [
      "Payable tax:  393417988686.0\n"
     ]
    }
   ],
   "source": [
    "income = int(input(\"Enter your income\"))\n",
    "\n",
    "if income<=250000:\n",
    "    total_tax = 0\n",
    "elif income>250000 and income<=500000:\n",
    "    taxableincome = income-250000\n",
    "    total_tax = taxableincome*0.05\n",
    "elif income>=500001 and income<=1000000:\n",
    "    taxableincome = income-500000\n",
    "    tax1=(taxableincome/100)*10\n",
    "    total_tax= tax1+12500\n",
    "elif income>=1000001 and income<=2000000:\n",
    "    taxableincome = income-1000000\n",
    "    tax1=(taxableincome/100)*20\n",
    "    total_tax= tax1+12500+50000\n",
    "elif income>=2000001 and income<=3000000:\n",
    "    taxableincome = income-2000000\n",
    "    tax1=(taxableincome/100)*30\n",
    "    total_tax= tax1+12500+50000+200000\n",
    "elif income>=3000001 :\n",
    "    taxableincome = income-3000000\n",
    "    tax1=(taxableincome/100)*40\n",
    "    total_tax= tax1+12500+50000+200000+300000\n",
    "print(\"Payable tax: \", total_tax)"
   ]
  },
  {
   "cell_type": "code",
   "execution_count": 3,
   "id": "2641d034-2b32-4c01-b249-17bd57121688",
   "metadata": {},
   "outputs": [
    {
     "name": "stdin",
     "output_type": "stream",
     "text": [
      "Enter the number 20\n"
     ]
    },
    {
     "name": "stdout",
     "output_type": "stream",
     "text": [
      "0\n"
     ]
    }
   ],
   "source": [
    "num = int(input(\"Enter the number\"))\n",
    "num=num%10\n",
    "print(num)"
   ]
  },
  {
   "cell_type": "code",
   "execution_count": 10,
   "id": "8bbb10e4-29d5-41ef-9f3c-943bf77741a7",
   "metadata": {},
   "outputs": [
    {
     "name": "stdin",
     "output_type": "stream",
     "text": [
      "Enter the temperature:  32\n"
     ]
    },
    {
     "name": "stdout",
     "output_type": "stream",
     "text": [
      "89.6\n"
     ]
    }
   ],
   "source": [
    "temp = int(input(\"Enter the temperature: \"))\n",
    "\n",
    "farhenite = (temp*9/5)+32\n",
    "print(farhenite)"
   ]
  },
  {
   "cell_type": "code",
   "execution_count": 11,
   "id": "ca9215f9-8b86-40aa-8ec9-244237543ce0",
   "metadata": {},
   "outputs": [
    {
     "name": "stdin",
     "output_type": "stream",
     "text": [
      "Enter the breath 12\n",
      "Enter the height 45\n"
     ]
    },
    {
     "name": "stdout",
     "output_type": "stream",
     "text": [
      "270.0\n"
     ]
    }
   ],
   "source": [
    "breath = int(input(\"Enter the breath\"))\n",
    "height = int(input(\"Enter the height\"))\n",
    "\n",
    "area_of_triangle = height*breath*(1/2)\n",
    "print(area_of_triangle)"
   ]
  },
  {
   "cell_type": "code",
   "execution_count": 14,
   "id": "79ddb3ba-d662-444d-9db6-0d06694105bd",
   "metadata": {},
   "outputs": [
    {
     "name": "stdin",
     "output_type": "stream",
     "text": [
      "Enter the any name Samarth\n"
     ]
    },
    {
     "name": "stdout",
     "output_type": "stream",
     "text": [
      "7\n"
     ]
    }
   ],
   "source": [
    "name = input(\"Enter the any name\")\n",
    "\n",
    "count = len(name.)\n",
    "print(count)"
   ]
  },
  {
   "cell_type": "code",
   "execution_count": 4,
   "id": "ba3101e8-f938-46f1-b794-24038af586b5",
   "metadata": {},
   "outputs": [
    {
     "name": "stdin",
     "output_type": "stream",
     "text": [
      " 55\n"
     ]
    },
    {
     "name": "stdout",
     "output_type": "stream",
     "text": [
      "1\n",
      "It is odd\n"
     ]
    }
   ],
   "source": [
    "num = int(input())\n",
    "rem = num%2\n",
    "print(rem)\n",
    "if rem==0:\n",
    "    print(\"It is even\")\n",
    "else:\n",
    "    print(\"It is odd\")"
   ]
  },
  {
   "cell_type": "code",
   "execution_count": 3,
   "id": "228b4860-65ef-48d2-a414-4cb811ac8649",
   "metadata": {},
   "outputs": [
    {
     "name": "stdin",
     "output_type": "stream",
     "text": [
      "Enter first angle 120\n",
      "Enter second angle 60\n",
      "Enter third angle 0\n"
     ]
    },
    {
     "name": "stdout",
     "output_type": "stream",
     "text": [
      "this is a valid triangle\n"
     ]
    }
   ],
   "source": [
    "angle1 = float(input(\"Enter first angle\"))\n",
    "angle2 = float(input(\"Enter second angle\"))\n",
    "angle3 = float(input(\"Enter third angle\"))\n",
    "\n",
    "sums = angle1+angle2+angle3\n",
    "\n",
    "if sums==180:\n",
    "    print(\"this is a valid triangle\")\n",
    "else:\n",
    "    print(\"it is not a valid triangle\")"
   ]
  },
  {
   "cell_type": "code",
   "execution_count": 7,
   "id": "ec5541fd-d648-41a1-b721-4d1c37c9ba1f",
   "metadata": {},
   "outputs": [
    {
     "name": "stdin",
     "output_type": "stream",
     "text": [
      "Enter x value 0\n",
      "Enter y value 0\n"
     ]
    },
    {
     "name": "stdout",
     "output_type": "stream",
     "text": [
      "It is neutral point\n"
     ]
    }
   ],
   "source": [
    "x = int(input(\"Enter x value\"))\n",
    "y = int(input(\"Enter y value\"))\n",
    "\n",
    "if x>0 and y>0:\n",
    "    print(\"Point lies in first quadrant\")\n",
    "elif x<0 and y>0:\n",
    "    print(\"It lies in second quandrant\")\n",
    "elif x<0 and y<0:\n",
    "    print(\"It is lies in third Quadrant\")\n",
    "elif x>0 and y<0:\n",
    "    print(\"It lies in fourth quadrant\")\n",
    "elif x==0 and y==0:\n",
    "    print(\"It is neutral point\")"
   ]
  },
  {
   "cell_type": "code",
   "execution_count": 14,
   "id": "c80f7a75-3c3b-46e6-9140-3dfa059c17eb",
   "metadata": {},
   "outputs": [
    {
     "name": "stdin",
     "output_type": "stream",
     "text": [
      "Enter your password Samarth@12\n"
     ]
    },
    {
     "name": "stdout",
     "output_type": "stream",
     "text": [
      "Password in weak\n"
     ]
    }
   ],
   "source": [
    "password = input(\"Enter your password\")\n",
    "num = [\"1\", \"2\", \"3\", \"4\", \"5\", \"6\", \"7\", \"8\", \"9\"]\n",
    "char = [\"!\", \"@\", \"#\", \"$\", \"%\", \"^\", \"&\", \"*\"]\n",
    "if len(password)>=8 and password in num:\n",
    "    print(\"Your password in strong\")\n",
    "else:\n",
    "    print(\"Password in weak\")"
   ]
  },
  {
   "cell_type": "code",
   "execution_count": 21,
   "id": "02bc5233-8d16-40f6-9c35-b7456a1bebfb",
   "metadata": {},
   "outputs": [
    {
     "name": "stdout",
     "output_type": "stream",
     "text": [
      "[0]\n"
     ]
    }
   ],
   "source": [
    " a = list(range(1))\n",
    "print(a)"
   ]
  },
  {
   "cell_type": "code",
   "execution_count": 31,
   "id": "31ea4345-2278-41cb-aa02-4c855d6b0fef",
   "metadata": {},
   "outputs": [
    {
     "name": "stdout",
     "output_type": "stream",
     "text": [
      "Samarth\n",
      "Kunal\n",
      "Jatin\n"
     ]
    }
   ],
   "source": [
    "a = ['Samarth', 'Kunal', 'Jatin']\n",
    "for i in range(len(a)):\n",
    "    print(a[i])"
   ]
  },
  {
   "cell_type": "code",
   "execution_count": 36,
   "id": "d9f0df1d-775b-494c-9823-ee8157b8f22c",
   "metadata": {},
   "outputs": [
    {
     "name": "stdout",
     "output_type": "stream",
     "text": [
      "Samarth\n",
      "Kunal\n",
      "Jatin\n",
      "12\n",
      "75.5\n"
     ]
    }
   ],
   "source": [
    "a = ['Samarth', 'Kunal', 'Jatin', 12, 75.5]\n",
    "for i in range(len(a)):\n",
    "    print(a[i])"
   ]
  },
  {
   "cell_type": "code",
   "execution_count": 6,
   "id": "b64aca1b-a5ee-4b44-a4bc-f10ac6f02d70",
   "metadata": {},
   "outputs": [
    {
     "name": "stdin",
     "output_type": "stream",
     "text": [
      "Enter the number 1900\n"
     ]
    },
    {
     "name": "stdout",
     "output_type": "stream",
     "text": [
      "1900\n",
      "Given number is not armstrong\n"
     ]
    }
   ],
   "source": [
    "num1 = int(input(\"Enter the number\"))\n",
    "num3= num1\n",
    "print(num1)\n",
    "num2=0\n",
    "for i in range(3):\n",
    "    num = num1%10\n",
    "    num1=(num1-num)/10\n",
    "    num2 = num2+(num)*(num)*(num)\n",
    "    \n",
    "if num2==num3:\n",
    "        print(\"Given number is armstrong\")\n",
    "else:\n",
    "        print(\"Given number is not armstrong\")"
   ]
  },
  {
   "cell_type": "code",
   "execution_count": 9,
   "id": "1716c4e8-61bf-4285-a610-5486f48096d2",
   "metadata": {},
   "outputs": [
    {
     "name": "stdin",
     "output_type": "stream",
     "text": [
      "Enter the number 8\n"
     ]
    },
    {
     "name": "stdout",
     "output_type": "stream",
     "text": [
      "It is a leap year\n"
     ]
    }
   ],
   "source": [
    "num= int(input(\"Enter the number\"))\n",
    "\n",
    "if num%100==0:\n",
    "    if num%400==0:\n",
    "        print(\"It is a century leap year\")\n",
    "    else:\n",
    "        \n",
    "        print(\"Not a leap year\")\n",
    "else:\n",
    "    if num%4==0:\n",
    "        print(\"It is a leap year\")\n",
    "    else:\n",
    "        print(\"It is not a leap year\")\n",
    "        "
   ]
  },
  {
   "cell_type": "code",
   "execution_count": 38,
   "id": "493d6462-4faf-4e60-9011-2dabf0e056e2",
   "metadata": {},
   "outputs": [
    {
     "name": "stdin",
     "output_type": "stream",
     "text": [
      "Enter the number 10\n"
     ]
    },
    {
     "name": "stdout",
     "output_type": "stream",
     "text": [
      "1\n",
      "4\n",
      "9\n",
      "16\n",
      "25\n",
      "36\n",
      "49\n",
      "64\n",
      "81\n",
      "100\n"
     ]
    }
   ],
   "source": [
    "num = int(input(\"Enter the number\"))  \n",
    "\n",
    "for i in range(1,num+1):\n",
    "    print(i*i)"
   ]
  },
  {
   "cell_type": "code",
   "execution_count": 48,
   "id": "20963d21-a3d7-492e-a1b6-5749a43472b0",
   "metadata": {},
   "outputs": [
    {
     "name": "stdout",
     "output_type": "stream",
     "text": [
      "123\n",
      "125\n"
     ]
    }
   ],
   "source": [
    "lis = [20, 840, 123, 15204, 1540, 153, 371, 125]\n",
    "num\n",
    "for i in range(len(lis)):\n",
    "    num = str(lis[i])\n",
    "    if num[-2] in '2468' and num[-1] in '13579' :\n",
    "        print(num)"
   ]
  },
  {
   "cell_type": "code",
   "execution_count": 75,
   "id": "85f1dad3-f5e9-4802-8143-ba348e2c7040",
   "metadata": {},
   "outputs": [
    {
     "name": "stdout",
     "output_type": "stream",
     "text": [
      "['A', '0', '0', '0', 'O', 'U', '0', '0', 'A', ' ', 'A', '0', '0', '0', 'O', 'U', '0', '0', 'A', '0', '0', '0', 'O', 'U', '0', '0', 'A', '0', '0', '0', 'O', 'U', '0', '0', 'A', '0', '0', '0', 'O', 'U', '0', '0', 'A', '0', '0', '0', 'O', 'U', '0', '0']\n"
     ]
    }
   ],
   "source": [
    "        "
   ]
  },
  {
   "cell_type": "code",
   "execution_count": 93,
   "id": "832cd700-975d-4acf-bc2f-76a50aaf6f5d",
   "metadata": {},
   "outputs": [
    {
     "name": "stdout",
     "output_type": "stream",
     "text": [
      "['.', '.', '.', '.', '.', '.', '.', '.']\n",
      "['A', 0, 0, 0, 'O', 'U', 0, 0]\n"
     ]
    }
   ],
   "source": [
    "lis = ['Akash', 'Samarth', 'Jatin', 'Ayan', \"Onamu\", \"Uttapam\", \"Kunal\", \"Om\"]\n",
    "lis1 = ['.'] * len(lis)\n",
    "print(lis1)\n",
    "for i in range(len(lis)):\n",
    "    if lis[i][0] in \"AEIOUaeiou\" and len(lis[i])>=5:\n",
    "        lis1[i] = lis[i][0]\n",
    "       # print(lis1)\n",
    "    else:\n",
    "        lis1[i] =0\n",
    "        \n",
    "\n",
    "print(lis1)"
   ]
  },
  {
   "cell_type": "code",
   "execution_count": 91,
   "id": "627cb600-264f-4c6e-b739-676b573f7e6c",
   "metadata": {},
   "outputs": [
    {
     "data": {
      "text/plain": [
       "['Akash',\n",
       " 'Samarth',\n",
       " 'Jatin',\n",
       " 'Ayan',\n",
       " 'Onamu',\n",
       " 'Uttapam',\n",
       " 'Kunal',\n",
       " 'Om',\n",
       " 'Akash',\n",
       " 'Samarth',\n",
       " 'Jatin',\n",
       " 'Ayan',\n",
       " 'Onamu',\n",
       " 'Uttapam',\n",
       " 'Kunal',\n",
       " 'Om']"
      ]
     },
     "execution_count": 91,
     "metadata": {},
     "output_type": "execute_result"
    }
   ],
   "source": []
  },
  {
   "cell_type": "code",
   "execution_count": 19,
   "id": "4e9bae31-751d-44eb-89e2-5ad106300289",
   "metadata": {},
   "outputs": [
    {
     "name": "stdout",
     "output_type": "stream",
     "text": [
      "5\n",
      "10\n",
      "1\n",
      "Sum is  16\n"
     ]
    }
   ],
   "source": [
    "d = {5:16, 3:9, 10:81, 1:0, 6:36}\n",
    "sums = 0\n",
    "for i in d:\n",
    "    num = i-1\n",
    "    if num*num==d[i]:\n",
    "        print(i)\n",
    "        sums = sums+i\n",
    "print(\"Sum is \", sums)\n",
    "\n"
   ]
  },
  {
   "cell_type": "code",
   "execution_count": 33,
   "id": "a735687f-5f3d-4dfa-9171-338743afa91a",
   "metadata": {},
   "outputs": [
    {
     "name": "stdin",
     "output_type": "stream",
     "text": [
      "Enter The number 2468\n"
     ]
    },
    {
     "name": "stdout",
     "output_type": "stream",
     "text": [
      "20\n"
     ]
    }
   ],
   "source": [
    "num = input(\"Enter The number\")\n",
    "sums = 0\n",
    "num2 = 0\n",
    "for i in range(len(num)):\n",
    "    num = int(num)\n",
    "    num1 = num%10\n",
    "    num = num/10\n",
    "    if num1%2==0:\n",
    "        sums = sums+num1\n",
    "\n",
    "print(sums)"
   ]
  },
  {
   "cell_type": "code",
   "execution_count": 7,
   "id": "dafa0060-92db-4720-8378-9d94d75973ec",
   "metadata": {},
   "outputs": [
    {
     "name": "stdout",
     "output_type": "stream",
     "text": [
      "19.75\n",
      "Average Age is:  19 years and 9  months\n"
     ]
    }
   ],
   "source": [
    "mf = ['M', 'F','F', 'M','F', 'M','M', 'F']\n",
    "Age =  [20, 19, 18, 18, 18, 21, 20, 22]\n",
    "sum_age = 0\n",
    "count=0\n",
    "for i in range(len(mf)):\n",
    "        if mf[i]=='M':\n",
    "            sum_age = sum_age+Age[i]\n",
    "            count=count+1\n",
    "\n",
    "average_age = sum_age/count\n",
    "print(average_age)\n",
    "differ = average_age-average_age//1\n",
    "differ = differ*12\n",
    "print(\"Average Age is: \", int(average_age//1),\"years and\", int(differ), \" months\")"
   ]
  },
  {
   "cell_type": "code",
   "execution_count": 6,
   "id": "5d84d0f2-506b-4862-8009-1d510537c30d",
   "metadata": {},
   "outputs": [
    {
     "name": "stdout",
     "output_type": "stream",
     "text": [
      "Akash\n",
      "Samarth\n",
      "Jatin\n",
      "Ayan\n",
      "Kunal\n",
      "Kunal\n"
     ]
    }
   ],
   "source": [
    "li = ['Akash','Samarth','Jatin','Ayan','Onamu','Uttapam','Kunal', \"nishanti\", 'Kunal', \"niishant\"]\n",
    "count=0\n",
    "for i in (li):\n",
    "    count=0\n",
    "    for j in range(len(i)):\n",
    "        if i[j] in \"AEIOUaeiou\":\n",
    "            count = count+1\n",
    "         \n",
    "    if count==2:\n",
    "        print(i)\n",
    "        #count=0               \n",
    "        \n"
   ]
  },
  {
   "cell_type": "code",
   "execution_count": 10,
   "id": "dfdd41c1-db43-423b-8ae3-be41591a3111",
   "metadata": {},
   "outputs": [
    {
     "name": "stdout",
     "output_type": "stream",
     "text": [
      "50\n",
      "10\n",
      "60\n",
      "50\n",
      "60\n"
     ]
    }
   ],
   "source": [
    "li1 =[10, 20, 50, 80, 60]\n",
    "li = [50, 88, 95, 76, 81, 10, 60, 50, 60]\n",
    "\n",
    "for i in range(len(li)):\n",
    "    if li[i] in li1:\n",
    "        print(li[i])"
   ]
  },
  {
   "cell_type": "code",
   "execution_count": 20,
   "id": "7839db10-bf8c-4445-a9c2-7f9e71c07655",
   "metadata": {},
   "outputs": [
    {
     "name": "stdout",
     "output_type": "stream",
     "text": [
      "Jatin Average is  91.8\n",
      "Nishant Average is  95.6\n"
     ]
    }
   ],
   "source": [
    "d = {\"Samarth\":[45, 60, 50, 90, 70], \"Jatin\": [90, 95, 93, 91, 90], \"Nishant\":[93, 99, 98, 97, 91]}\n",
    "\n",
    "for i in d:\n",
    "    sums = 0\n",
    "    for j in range(len(d[i])):\n",
    "        sums = sums+d[i][j]\n",
    "    average = (sums/500)*100\n",
    "    if average>=90:\n",
    "        print(i, \"Average is \", average)\n",
    "    "
   ]
  },
  {
   "cell_type": "code",
   "execution_count": 31,
   "id": "f3ed25c4-ca0e-4d0e-b19c-d95cab678e9b",
   "metadata": {},
   "outputs": [
    {
     "name": "stderr",
     "output_type": "stream",
     "text": [
      "\n",
      "KeyboardInterrupt\n",
      "\n"
     ]
    },
    {
     "name": "stdin",
     "output_type": "stream",
     "text": [
      "Enter Name or Roll no: 5\n"
     ]
    }
   ],
   "source": [
    "Name = [\"Samarth\", \"Jatin\", \"Nishant\", \"Harishil\", \"Dabru\", \"Kunal\"]\n",
    "Roll_no = [1, 2, 3, 4, 5, 16]\n",
    "name = input(\"Enter Name or Roll no:\")\n",
    "if name in Name:\n",
    "    for i in range(len(Name)):\n",
    "        if Name[i]==name:\n",
    "            print(Roll_no[i])\n",
    "else:\n",
    "    if name in \"123456\":\n",
    "        name = int(name)\n",
    "        name = name-1\n",
    "        if name>0 and name<=len(Roll_no):\n",
    "            print(Name[name])\n",
    "        else:\n",
    "            print(\"invalid input\")\n",
    "    else:\n",
    "        print(\"No Exist\")"
   ]
  },
  {
   "cell_type": "code",
   "execution_count": 12,
   "id": "b018114f-c208-4455-968c-f85753f21ac5",
   "metadata": {},
   "outputs": [
    {
     "name": "stdin",
     "output_type": "stream",
     "text": [
      "Enter any number 4513164\n"
     ]
    },
    {
     "name": "stdout",
     "output_type": "stream",
     "text": [
      "4513164 * 1 = 4513164\n",
      "4513164 * 2 = 9026328\n",
      "4513164 * 3 = 13539492\n",
      "4513164 * 4 = 18052656\n",
      "4513164 * 5 = 22565820\n",
      "4513164 * 6 = 27078984\n",
      "4513164 * 7 = 31592148\n",
      "4513164 * 8 = 36105312\n",
      "4513164 * 9 = 40618476\n",
      "4513164 * 10 = 45131640\n"
     ]
    }
   ],
   "source": [
    "num = int(input(\"Enter any number\"))\n",
    "\n",
    "for i in range(1, 11):\n",
    "    print(num, \"*\", i, \"=\", num*i)"
   ]
  },
  {
   "cell_type": "code",
   "execution_count": 2,
   "id": "caf1b265-1e6f-4c3a-ba03-9c10b68689a3",
   "metadata": {},
   "outputs": [
    {
     "name": "stdin",
     "output_type": "stream",
     "text": [
      "Enter a number 124-\n"
     ]
    }
   ],
   "source": [
    "num = input(\"Enter a number\")\n",
    "li = [\"0\", \"1\", \"2\", \"3\", \"4\", \"5\", \"6\", \"7\", \"8\", \"9\"]\n",
    "flag = 0\n",
    "for i in num:\n",
    "    if i not in li:\n",
    "        flag =1\n",
    "        break\n",
    "\n",
    "if flag==0:\n",
    "    print(num)\n",
    "    "
   ]
  },
  {
   "cell_type": "code",
   "execution_count": 7,
   "id": "af435efc-ed5d-4f13-b430-931a2045b7e9",
   "metadata": {},
   "outputs": [
    {
     "name": "stdin",
     "output_type": "stream",
     "text": [
      "Enter any number 5\n"
     ]
    },
    {
     "name": "stdout",
     "output_type": "stream",
     "text": [
      "1\n",
      "4\n",
      "9\n",
      "16\n",
      "25\n"
     ]
    }
   ],
   "source": [
    "num = int(input(\"Enter any number\"))\n",
    "i=1\n",
    "while i<=num:\n",
    "    print(i*i)\n",
    "    i=i+1"
   ]
  },
  {
   "cell_type": "code",
   "execution_count": 9,
   "id": "2afc6e2d-2796-4c34-8386-89b350598596",
   "metadata": {},
   "outputs": [
    {
     "name": "stdout",
     "output_type": "stream",
     "text": [
      "SS\n",
      "Samarth\n",
      "Kunal\n",
      "Jatin\n"
     ]
    }
   ],
   "source": [
    "b = ['Samarth', 'Kunal', 'Jatin']\n",
    "i=0\n",
    "while i<len(b):\n",
    "    print(b[i])\n",
    "    i=i+1"
   ]
  },
  {
   "cell_type": "code",
   "execution_count": 4,
   "id": "8dbd332a-ebd7-4b79-bd08-a424a02f1c20",
   "metadata": {},
   "outputs": [
    {
     "name": "stdin",
     "output_type": "stream",
     "text": [
      "Enter the number 153\n"
     ]
    },
    {
     "name": "stdout",
     "output_type": "stream",
     "text": [
      "It is armstrong\n"
     ]
    }
   ],
   "source": [
    "num1 = int(input(\"Enter the number\"))\n",
    "num3 = num1\n",
    "num2=0\n",
    "while num1!=0:\n",
    "    num = num1%10\n",
    "    num1=(num1-num)/10\n",
    "    num2 = num2+(num)*(num)*(num)\n",
    "\n",
    "if num2==num3:\n",
    "    print(\"It is armstrong\")\n",
    "else:\n",
    "    print(\"It is not a armstrong\")"
   ]
  },
  {
   "cell_type": "code",
   "execution_count": 8,
   "id": "797ef919-52bb-454d-a5fa-bd055f076e4d",
   "metadata": {},
   "outputs": [
    {
     "name": "stdout",
     "output_type": "stream",
     "text": [
      "20\n",
      "840\n",
      "123\n",
      "1540\n",
      "125\n"
     ]
    }
   ],
   "source": [
    "lis = [20, 840, 123, 15204, 1540, 153, 371, 125]\n",
    "i=0\n",
    "while i<len(lis):\n",
    "    num = str(lis[i])\n",
    "    if num[-2] in '2468' and num[-1] in '013579':\n",
    "        print(num)\n",
    "    i=i+1"
   ]
  },
  {
   "cell_type": "code",
   "execution_count": 30,
   "id": "83335f77-0ba7-4906-8c1a-f558f302d872",
   "metadata": {
    "scrolled": true
   },
   "outputs": [
    {
     "name": "stdout",
     "output_type": "stream",
     "text": [
      "SS\n",
      "Akash\n",
      "Samarth\n",
      "Jatin\n",
      "Ayan\n",
      "Kunal\n",
      "Kunal\n"
     ]
    }
   ],
   "source": [
    "li = ['Akash','Samarth','Jatin','Ayan','Onamu','Uttapam','Kunal', \"nishanti\", 'Kunal', \"niishant\"]\n",
    "i=0\n",
    "j=0\n",
    "print(\"SS\")\n",
    "while i<len(li):\n",
    "    j=0\n",
    "    while j<len(li[i]):\n",
    "        if li[i][j] in 'AEIOUaeiou':\n",
    "            count =count+1   \n",
    "        j=j+1\n",
    "    if count==2:\n",
    "        print(li[i])\n",
    "    count=0\n",
    "    i=i+1\n",
    "   "
   ]
  },
  {
   "cell_type": "code",
   "execution_count": 51,
   "id": "91678755-cfb3-43cb-98d2-85fd4aec1fc6",
   "metadata": {},
   "outputs": [
    {
     "name": "stdout",
     "output_type": "stream",
     "text": [
      "Samarth\n",
      "Samarth\n"
     ]
    }
   ],
   "source": [
    "d = {\"Samarth\":[45, 60, 50, 90, 70], \"Jatin\": [90, 95, 93, 91, 90], \"Nishant\":[93, 99, 98, 97, 91]}\n",
    "i=0\n",
    "sums=0\n",
    "dk = list(d.keys())\n",
    "for z in dk:\n",
    "    while i<len(d):\n",
    "        j=0 \n",
    "        while j<len(d[z]):\n",
    "            sums=sums+d[z][j]\n",
    "            #print(sums)\n",
    "            j=j+1\n",
    "        average = (sums/500)*100\n",
    "        if average>=90:\n",
    "            print(z)\n",
    "        i=i+1"
   ]
  },
  {
   "cell_type": "code",
   "execution_count": 3,
   "id": "478e3083-bdc9-4b4d-85e8-05231dad1b35",
   "metadata": {},
   "outputs": [
    {
     "name": "stdout",
     "output_type": "stream",
     "text": [
      "['A', 0, 0, 0, 'O', 'U', 0, 0]\n"
     ]
    }
   ],
   "source": [
    "lis = ['Akash', 'Samarth', 'Jatin', 'Ayan', \"Onamu\", \"Uttapam\", \"Kunal\", \"Om\"]\n",
    "i=0\n",
    "while i<len(lis):\n",
    "    if lis[i][0] in \"AEIOUaeiou\" and len(lis[i])>=5:\n",
    "        lis[i] = lis[i][0]\n",
    "       # print(lis1\n",
    "    else:\n",
    "        lis[i] =0\n",
    "    i=i+1\n",
    "print(lis)"
   ]
  },
  {
   "cell_type": "code",
   "execution_count": 5,
   "id": "325cedeb-a391-40e6-9a1b-d5495031167a",
   "metadata": {},
   "outputs": [
    {
     "name": "stdout",
     "output_type": "stream",
     "text": [
      "0\n",
      "10\n",
      "20\n",
      "30\n",
      "40\n",
      "50\n",
      "60\n",
      "70\n",
      "80\n",
      "90\n",
      "100\n",
      "110\n",
      "120\n",
      "130\n",
      "140\n",
      "150\n",
      "160\n",
      "170\n",
      "180\n",
      "190\n",
      "200\n",
      "210\n",
      "220\n",
      "230\n",
      "240\n",
      "250\n",
      "260\n",
      "270\n",
      "280\n",
      "290\n",
      "300\n"
     ]
    }
   ],
   "source": [
    "num =10\n",
    "i=0\n",
    "while i<=30:\n",
    "    print(num*i)\n",
    "    i=i+1"
   ]
  },
  {
   "cell_type": "code",
   "execution_count": 8,
   "id": "b4967407-4d5a-455e-b89d-3e79bdde49ac",
   "metadata": {},
   "outputs": [
    {
     "name": "stdout",
     "output_type": "stream",
     "text": [
      "9\n",
      "8\n",
      "7\n",
      "6\n",
      "5\n",
      "4\n",
      "3\n",
      "2\n",
      "1\n",
      "0\n"
     ]
    }
   ],
   "source": [
    "num = 9\n",
    "i=num\n",
    "while i>=0:\n",
    "    print(i)\n",
    "    i=i-1"
   ]
  },
  {
   "cell_type": "code",
   "execution_count": 9,
   "id": "3a826a5e-68fc-4763-891b-257aa61270f6",
   "metadata": {},
   "outputs": [
    {
     "name": "stdout",
     "output_type": "stream",
     "text": [
      "20\n"
     ]
    }
   ],
   "source": [
    "num = 10\n",
    "i=0\n",
    "sums=0\n",
    "while i<10:\n",
    "    if i%2==0:\n",
    "        sums = sums+i\n",
    "    i=i+1\n",
    "print(sums)"
   ]
  },
  {
   "cell_type": "code",
   "execution_count": 10,
   "id": "7eb0b9bd-6a22-4161-a086-a46a43a92054",
   "metadata": {},
   "outputs": [
    {
     "name": "stdin",
     "output_type": "stream",
     "text": [
      "Enter first Number 12\n",
      "Enter Second Number 30\n"
     ]
    },
    {
     "name": "stdout",
     "output_type": "stream",
     "text": [
      "12\n",
      "14\n",
      "16\n",
      "18\n",
      "20\n",
      "22\n",
      "24\n",
      "26\n",
      "28\n",
      "30\n"
     ]
    }
   ],
   "source": [
    "num1 = int(input(\"Enter first Number\"))\n",
    "num2 = int(input(\"Enter Second Number\"))\n",
    "i=num1\n",
    "while i>=num1 and i<=num2:\n",
    "    if i%2==0:\n",
    "        print(i)\n",
    "    i+=1"
   ]
  },
  {
   "cell_type": "code",
   "execution_count": 12,
   "id": "369bf663-98c6-47b1-8033-1fb72e9b4530",
   "metadata": {},
   "outputs": [
    {
     "name": "stdin",
     "output_type": "stream",
     "text": [
      "Enter the number 850\n"
     ]
    },
    {
     "name": "stdout",
     "output_type": "stream",
     "text": [
      "13.0\n"
     ]
    }
   ],
   "source": [
    "num = int(input(\"Enter the number\"))\n",
    "sums = 0\n",
    "while num!=0:\n",
    "    i=num%10\n",
    "    num = (num-i)/10\n",
    "    sums = sums+i\n",
    "print(sums)"
   ]
  },
  {
   "cell_type": "code",
   "execution_count": 20,
   "id": "6ada9d0a-75ac-441a-b14f-4176eba1bdcf",
   "metadata": {},
   "outputs": [
    {
     "name": "stdin",
     "output_type": "stream",
     "text": [
      "Enter The number 789456123\n"
     ]
    },
    {
     "name": "stdout",
     "output_type": "stream",
     "text": [
      "321654987\n"
     ]
    }
   ],
   "source": [
    "num = int(input(\"Enter The number\"))\n",
    "sums = \"\"\n",
    "while num!=0:\n",
    "    i=num%10\n",
    "    num = (num-i)//10\n",
    "    sums = sums+str(i)\n",
    "print(sums)\n"
   ]
  },
  {
   "cell_type": "code",
   "execution_count": 29,
   "id": "3c1ecbc5-c8e3-4d2f-9684-db2bf010bd70",
   "metadata": {},
   "outputs": [
    {
     "name": "stdin",
     "output_type": "stream",
     "text": [
      "Enter any number 85200\n"
     ]
    },
    {
     "name": "stdout",
     "output_type": "stream",
     "text": [
      "Eight\n",
      "Five\n",
      "Two\n",
      "Zero\n",
      "Zero\n"
     ]
    }
   ],
   "source": [
    "lis = [\"Zero\", \"One\", \"Two\", \"Three\", \"Four\", \"Five\", \"Six\", \"Seven\", \"Eight\", \"Nine\"]\n",
    "num = input(\"Enter any number\")\n",
    "i=0\n",
    "while i<len(num):\n",
    "    digit = int(num[i])\n",
    "    print(lis[digit])\n",
    "    i+=1\n",
    "    \n",
    "    "
   ]
  },
  {
   "cell_type": "code",
   "execution_count": 44,
   "id": "ca8eae85-7600-4090-adb9-98b14df0b117",
   "metadata": {},
   "outputs": [
    {
     "name": "stdin",
     "output_type": "stream",
     "text": [
      "Enter number 0\n"
     ]
    },
    {
     "name": "stdout",
     "output_type": "stream",
     "text": [
      "0\n"
     ]
    }
   ],
   "source": [
    "num = int(input(\"Enter number\"))\n",
    "i=0\n",
    "sums = 0\n",
    "while i<=num:\n",
    "    count = count+i\n",
    "    print(count)\n",
    "    i+=1\n",
    "# 0, 1, 1, 2, 3, 5, 8, 13"
   ]
  },
  {
   "cell_type": "code",
   "execution_count": 15,
   "id": "fd8d0ac4-2e19-4f18-bf15-6424fb78bf5f",
   "metadata": {},
   "outputs": [
    {
     "name": "stdin",
     "output_type": "stream",
     "text": [
      "Enter number 5\n"
     ]
    },
    {
     "name": "stdout",
     "output_type": "stream",
     "text": [
      "1\n",
      "2\n",
      "3\n",
      "5\n",
      "8\n"
     ]
    }
   ],
   "source": [
    "num = int(input(\"Enter number\"))\n",
    "i = 1\n",
    "count = 0\n",
    "\n",
    "while num>0:\n",
    "    sums = i+count\n",
    "    count = i\n",
    "    i= sums\n",
    "    print(sums)\n",
    "    num -=1"
   ]
  },
  {
   "cell_type": "code",
   "execution_count": 22,
   "id": "2f1ede27-ae8f-490d-9cde-2a503b2a83c4",
   "metadata": {},
   "outputs": [
    {
     "name": "stdin",
     "output_type": "stream",
     "text": [
      "Enter any number 5\n"
     ]
    },
    {
     "name": "stdout",
     "output_type": "stream",
     "text": [
      "120\n",
      "24\n",
      "24\n",
      "24\n",
      "24\n"
     ]
    }
   ],
   "source": [
    "num = int(input(\"Enter any number\"))\n",
    "\n",
    "num1 = num\n",
    "i = 0\n",
    "while i<num:\n",
    "    sums = 1\n",
    "    while num1>0:\n",
    "        sums = sums*num1\n",
    "        num1 = num1-1\n",
    "    print(sums)\n",
    "    num1= num-1\n",
    "    i= i+1"
   ]
  },
  {
   "cell_type": "code",
   "execution_count": 26,
   "id": "f420f0b3-71d2-4d06-a32d-1f963e7f2fa7",
   "metadata": {},
   "outputs": [
    {
     "name": "stdin",
     "output_type": "stream",
     "text": [
      "Enter any number 3\n"
     ]
    },
    {
     "name": "stdout",
     "output_type": "stream",
     "text": [
      "1.6666666666666665\n"
     ]
    }
   ],
   "source": [
    "num = int(input(\"Enter any number\"))\n",
    "\n",
    "num1 = num\n",
    "i = 0\n",
    "count=0\n",
    "while num>0:\n",
    "    sums = 1\n",
    "    while num1>0:\n",
    "        sums = sums*num1\n",
    "        num1 = num1-1\n",
    "    count = count+(1/sums)\n",
    "    num1= num-1\n",
    "    num = num-1\n",
    "print(count)"
   ]
  },
  {
   "cell_type": "code",
   "execution_count": 27,
   "id": "9663dbd1-f3e2-4c1d-baed-e5138b849560",
   "metadata": {},
   "outputs": [
    {
     "name": "stdin",
     "output_type": "stream",
     "text": [
      "Enter any number 5\n",
      "do want to add more type y for yes and n for no: y\n",
      "Enter any number 6\n",
      "do want to add more type y for yes and n for no: n\n"
     ]
    },
    {
     "name": "stdout",
     "output_type": "stream",
     "text": [
      "Sums of number is 11\n"
     ]
    }
   ],
   "source": [
    "choice = \"y\"\n",
    "sums = 0\n",
    "while choice ==\"y\":\n",
    "    num = int(input(\"Enter any number\"))\n",
    "    sums = sums+num\n",
    "    choice = input(\"do want to add more type y for yes and n for no:\")\n",
    "print(\"Sums of number is\", sums)"
   ]
  },
  {
   "cell_type": "code",
   "execution_count": 33,
   "id": "5055326d-dfc8-4925-b3b5-1630740cdf60",
   "metadata": {},
   "outputs": [
    {
     "name": "stdin",
     "output_type": "stream",
     "text": [
      "Enter any number 5464\n",
      "Enter any number 654654\n",
      "Enter any number 54654\n",
      "Enter any number -54654\n",
      "Enter any number 0\n"
     ]
    },
    {
     "name": "stdout",
     "output_type": "stream",
     "text": [
      "Positive number count is: 3\n",
      "Negative number count is: 1\n"
     ]
    }
   ],
   "source": [
    "num = 1\n",
    "Pcount, Ncount=0, 0\n",
    "while num!=0:\n",
    "    num = int(input(\"Enter any number\"))\n",
    "    if num>0:\n",
    "        Pcount = Pcount +1\n",
    "    elif num<0:\n",
    "        Ncount=Ncount+1\n",
    "    \n",
    "\n",
    "print(\"Positive number count is:\", Pcount)\n",
    "print(\"Negative number count is:\", Ncount)"
   ]
  },
  {
   "cell_type": "code",
   "execution_count": 6,
   "id": "802a5d07-b6fc-42f0-bbb6-1a0d547bdcb6",
   "metadata": {},
   "outputs": [
    {
     "name": "stdin",
     "output_type": "stream",
     "text": [
      "Enter first number 45\n",
      "Enter Second number 81\n"
     ]
    },
    {
     "name": "stdout",
     "output_type": "stream",
     "text": [
      "81\n"
     ]
    }
   ],
   "source": [
    "a = int(input(\"Enter first number\"))\n",
    "b = int(input(\"Enter Second number\"))\n",
    "while b != 0:\n",
    "    a= b  \n",
    "    b= a % b\n",
    "print(a)"
   ]
  },
  {
   "cell_type": "code",
   "execution_count": 12,
   "id": "fd966afe-88f6-49b3-a7da-dfffb7c1b539",
   "metadata": {},
   "outputs": [
    {
     "name": "stdin",
     "output_type": "stream",
     "text": [
      "Enter any number 10\n"
     ]
    },
    {
     "name": "stdout",
     "output_type": "stream",
     "text": [
      "1010\n"
     ]
    }
   ],
   "source": [
    "num = int(input(\"Enter any number\"))\n",
    "binary = \"\"\n",
    "while num!=0:\n",
    "    rem = num%2\n",
    "    binary = binary +str(rem)\n",
    "    num = num//2 \n",
    "binary = binary[::-1]\n",
    "print(binary)\n",
    "\n"
   ]
  },
  {
   "cell_type": "code",
   "execution_count": 15,
   "id": "00969b92-4a5d-4e82-8471-1cd141eae87e",
   "metadata": {},
   "outputs": [
    {
     "name": "stdout",
     "output_type": "stream",
     "text": [
      "117\n",
      "156\n",
      "195\n",
      "234\n",
      "273\n",
      "312\n",
      "351\n",
      "390\n",
      "429\n",
      "468\n"
     ]
    }
   ],
   "source": [
    "num = 100\n",
    "\n",
    "while num<=500:\n",
    "    if num%13==0 and num%3==0:\n",
    "        print(num)\n",
    "    num = num+1"
   ]
  },
  {
   "cell_type": "code",
   "execution_count": 20,
   "id": "f6342c03-3a2f-4455-8fd3-53189e104874",
   "metadata": {},
   "outputs": [
    {
     "name": "stdin",
     "output_type": "stream",
     "text": [
      "Enter the number 4\n",
      "Enter the number 5\n",
      "Enter the number 4\n",
      "Enter the number 54\n",
      "Enter the number 5\n",
      "Enter the number 5265\n",
      "Enter the number 454\n",
      "Enter the number 6545\n",
      "Enter the number 5465\n",
      "Enter the number 6556\n"
     ]
    },
    {
     "name": "stdout",
     "output_type": "stream",
     "text": [
      "2435.7\n"
     ]
    }
   ],
   "source": [
    " i = 10\n",
    "sums =0\n",
    "while i>0:\n",
    "    num = int(input(\"Enter the number\"))\n",
    "    sums = sums +num\n",
    "    i=i-1\n",
    "print(sums/10)"
   ]
  },
  {
   "cell_type": "code",
   "execution_count": 24,
   "id": "33fc5dc5-2a01-4066-9a62-6853f9114924",
   "metadata": {},
   "outputs": [
    {
     "name": "stdin",
     "output_type": "stream",
     "text": [
      "Enter number 2\n"
     ]
    },
    {
     "name": "stdout",
     "output_type": "stream",
     "text": [
      "24\n",
      "2424\n"
     ]
    }
   ],
   "source": [
    "num = int(input(\"Enter number\"))\n",
    "sums = \"\"\n",
    "i=0\n",
    "while i<num:\n",
    "    sums = sums+\"2\"+\"4\"\n",
    "    print(sums)\n",
    "    i+=1"
   ]
  },
  {
   "cell_type": "code",
   "execution_count": 27,
   "id": "eb829b28-2978-4aaa-995a-fc659a4aee08",
   "metadata": {},
   "outputs": [
    {
     "name": "stdin",
     "output_type": "stream",
     "text": [
      "Enter first number 10\n",
      "Enter Second number 10\n"
     ]
    }
   ],
   "source": [
    "flag = True\n",
    "while flag:\n",
    "    n1 =int(input(\"Enter first number\"))\n",
    "    n2 =int(input(\"Enter Second number\"))\n",
    "    n3 = (n1+n2)/2\n",
    "    if n3==10:\n",
    "        flag = 0\n",
    "    "
   ]
  },
  {
   "cell_type": "code",
   "execution_count": 39,
   "id": "8f6bfbf8-fa65-4e96-996f-2f45d5906f62",
   "metadata": {},
   "outputs": [
    {
     "name": "stdin",
     "output_type": "stream",
     "text": [
      "Enter word Samarth\n",
      "Enter word Gupta\n",
      "Enter word Rhytm\n"
     ]
    },
    {
     "name": "stdout",
     "output_type": "stream",
     "text": [
      "Rhytm\n"
     ]
    }
   ],
   "source": [
    "flag = True\n",
    "\n",
    "while flag:\n",
    "    word = input(\"Enter word\")\n",
    "    count = 0\n",
    "    i=0\n",
    "    while i<len(word):\n",
    "        if word[i] in \"AEIOUaeiou\":\n",
    "            count = count+1\n",
    "        i=i+1\n",
    "    if count==0:\n",
    "        flag =()\n",
    "        print(word)"
   ]
  },
  {
   "cell_type": "code",
   "execution_count": 52,
   "id": "507c9863-50e5-4d32-9e13-ed888b6ba064",
   "metadata": {},
   "outputs": [
    {
     "name": "stdin",
     "output_type": "stream",
     "text": [
      "Enter Operator +\n",
      "Enter the first Number 20\n",
      "Enter the second number 10\n"
     ]
    },
    {
     "name": "stdout",
     "output_type": "stream",
     "text": [
      "30\n"
     ]
    },
    {
     "name": "stdin",
     "output_type": "stream",
     "text": [
      "Enter Operator .\n"
     ]
    },
    {
     "name": "stdout",
     "output_type": "stream",
     "text": [
      "Bye\n"
     ]
    }
   ],
   "source": [
    "flag = True\n",
    "while flag:\n",
    "    op = input(\"Enter Operator\")\n",
    "    if op ==\".\":\n",
    "        flag = 0\n",
    "        print(\"Bye\")\n",
    "    else:\n",
    "        num1 = float(input(\"Enter the first Number\"))\n",
    "        num2 = float(input(\"Enter the second number\"))\n",
    "        if op ==\"+\":\n",
    "            num1 = num1+num2\n",
    "            print(num1)\n",
    "        if op ==\"*\":\n",
    "            num1 = num1*num2\n",
    "            print(num1)\n",
    "        if op ==\"/\":\n",
    "            num1 = num1/num2\n",
    "            print(num1)\n",
    "        if op ==\"-\":\n",
    "            num1 = num1-num2\n",
    "            print(num1)\n",
    "        if op ==\"%\":\n",
    "            num1 = num1%num2\n",
    "            print(num1)\n",
    "        if op ==\"**\":\n",
    "            num1 = num1**num2\n",
    "            print(num1)\n",
    "        "
   ]
  },
  {
   "cell_type": "code",
   "execution_count": 8,
   "id": "3d2189ff-3317-4997-8d9c-650563a6faf4",
   "metadata": {},
   "outputs": [
    {
     "name": "stdout",
     "output_type": "stream",
     "text": [
      "\n",
      "*\n",
      "**\n",
      "***\n",
      "****\n",
      "*****\n"
     ]
    }
   ],
   "source": [
    "num1 = 5\n",
    "num2 = 5\n",
    "char = \"*\"\n",
    "for i in range(num1+1):\n",
    "    j=0\n",
    "    while j<i:\n",
    "        print(char, end=\"\")\n",
    "        j = j+1\n",
    "    print(\"\")"
   ]
  },
  {
   "cell_type": "code",
   "execution_count": 1,
   "id": "2db93fdd-5776-4bfd-93b9-f505fb361e3e",
   "metadata": {},
   "outputs": [
    {
     "name": "stdout",
     "output_type": "stream",
     "text": [
      "***** \n",
      "**** \n",
      "*** \n",
      "** \n",
      "* \n"
     ]
    }
   ],
   "source": [
    "num1 = 5\n",
    "\n",
    "char = \"*\"\n",
    "while num1>0:\n",
    "    num2=0\n",
    "    while num2<num1:\n",
    "        print(char, end=\"\")\n",
    "        num2 = num2+1\n",
    "    print(\" \")\n",
    "    num1=num1-1\n"
   ]
  },
  {
   "cell_type": "code",
   "execution_count": 69,
   "id": "f2b67c16-acb8-416f-9dd3-48f0896af65e",
   "metadata": {},
   "outputs": [
    {
     "name": "stdout",
     "output_type": "stream",
     "text": [
      "    \n",
      "   *\n",
      "  ***\n",
      " *****\n",
      "*******\n"
     ]
    }
   ],
   "source": [
    "\n",
    "char = \"*\"\n",
    "n=9\n",
    "i=0\n",
    "for i in range(5):\n",
    "    for j in range(int(n/2), 0, -1):\n",
    "        print(\" \", end=\"\")\n",
    "    for k in range (1,int(i*2)):\n",
    "        print(\"*\", end=\"\")\n",
    "    n=n-2\n",
    "    print(\"\")\n",
    "   \n"
   ]
  },
  {
   "cell_type": "code",
   "execution_count": 71,
   "id": "c5f89970-cfdc-4acb-b930-e110d2fdcee3",
   "metadata": {},
   "outputs": [
    {
     "ename": "IndentationError",
     "evalue": "expected an indented block after 'for' statement on line 5 (1536952734.py, line 7)",
     "output_type": "error",
     "traceback": [
      "\u001b[1;36m  Cell \u001b[1;32mIn[71], line 7\u001b[1;36m\u001b[0m\n\u001b[1;33m    n=n-2\u001b[0m\n\u001b[1;37m    ^\u001b[0m\n\u001b[1;31mIndentationError\u001b[0m\u001b[1;31m:\u001b[0m expected an indented block after 'for' statement on line 5\n"
     ]
    }
   ],
   "source": [
    "char = \"*\"\n",
    "n=9\n",
    "i=0\n",
    "for i in range(5):\n",
    "    for j in range(9):\n",
    "        \n",
    "    n=n-2\n",
    "    print(\"\")"
   ]
  },
  {
   "cell_type": "markdown",
   "id": "115a9856-f092-4a2d-b3fb-17265177189b",
   "metadata": {
    "jp-MarkdownHeadingCollapsed": true
   },
   "source": [
    " num = int(input(\"Enter the number\"))\n",
    "flag = True\n",
    "i=2\n",
    "p=0\n",
    "for i in range(2, num): \n",
    "        if num%i==0:\n",
    "            p=1\n",
    "            ans=\"It is not a prime number\"\n",
    "if p==1:\n",
    "    print(ans)\n",
    "else:\n",
    "    print(\"It is a prime number\")"
   ]
  },
  {
   "cell_type": "code",
   "execution_count": 42,
   "id": "f4f16831-9dd8-412b-9224-1b681df3fdf5",
   "metadata": {},
   "outputs": [
    {
     "name": "stdin",
     "output_type": "stream",
     "text": [
      "Enter the number 11\n"
     ]
    },
    {
     "name": "stdout",
     "output_type": "stream",
     "text": [
      "It is a prime number\n"
     ]
    }
   ],
   "source": [
    "num = int(input(\"Enter the number\")) \n",
    "flag = True \n",
    "i=2 \n",
    "p=0 \n",
    "for i in range(2, num): \n",
    "    if num%i==0: \n",
    "        p=1 \n",
    "if p==1: \n",
    "    print(\"it is not a prime number\") \n",
    "else: \n",
    "    print(\"It is a prime number\")"
   ]
  },
  {
   "cell_type": "code",
   "execution_count": 8,
   "id": "8aad33e9-9e6b-4ecc-b113-efe9fe9be847",
   "metadata": {},
   "outputs": [
    {
     "name": "stdin",
     "output_type": "stream",
     "text": [
      "Enter the visit 1\n"
     ]
    },
    {
     "name": "stdout",
     "output_type": "stream",
     "text": [
      "1.Rabekind -Rs.100 for 10\n",
      "2.Paracetamol -Rs.10 for 10\n",
      "3.Metxl - Rs.45 for 10\n",
      "4.Pantakind - Rs. 100 for 10\n",
      "5.Crocin -Rs. 5 for 10\n"
     ]
    },
    {
     "name": "stdin",
     "output_type": "stream",
     "text": [
      "Enter number for medicine you want or type n for total bill:  1\n"
     ]
    },
    {
     "name": "stdout",
     "output_type": "stream",
     "text": [
      "1.Rabekind -Rs.100 for 10\n",
      "2.Paracetamol -Rs.10 for 10\n",
      "3.Metxl - Rs.45 for 10\n",
      "4.Pantakind - Rs. 100 for 10\n",
      "5.Crocin -Rs. 5 for 10\n"
     ]
    },
    {
     "name": "stdin",
     "output_type": "stream",
     "text": [
      "Enter number for medicine you want or type n for total bill:  1\n"
     ]
    },
    {
     "name": "stdout",
     "output_type": "stream",
     "text": [
      "1.Rabekind -Rs.100 for 10\n",
      "2.Paracetamol -Rs.10 for 10\n",
      "3.Metxl - Rs.45 for 10\n",
      "4.Pantakind - Rs. 100 for 10\n",
      "5.Crocin -Rs. 5 for 10\n"
     ]
    },
    {
     "name": "stdin",
     "output_type": "stream",
     "text": [
      "Enter number for medicine you want or type n for total bill:  1\n"
     ]
    },
    {
     "name": "stdout",
     "output_type": "stream",
     "text": [
      "1.Rabekind -Rs.100 for 10\n",
      "2.Paracetamol -Rs.10 for 10\n",
      "3.Metxl - Rs.45 for 10\n",
      "4.Pantakind - Rs. 100 for 10\n",
      "5.Crocin -Rs. 5 for 10\n"
     ]
    },
    {
     "name": "stdin",
     "output_type": "stream",
     "text": [
      "Enter number for medicine you want or type n for total bill:  1\n"
     ]
    },
    {
     "name": "stdout",
     "output_type": "stream",
     "text": [
      "1.Rabekind -Rs.100 for 10\n",
      "2.Paracetamol -Rs.10 for 10\n",
      "3.Metxl - Rs.45 for 10\n",
      "4.Pantakind - Rs. 100 for 10\n",
      "5.Crocin -Rs. 5 for 10\n"
     ]
    },
    {
     "name": "stdin",
     "output_type": "stream",
     "text": [
      "Enter number for medicine you want or type n for total bill:  n\n"
     ]
    },
    {
     "name": "stdout",
     "output_type": "stream",
     "text": [
      "your total bill is  4000 you get  30 point\n"
     ]
    },
    {
     "name": "stdin",
     "output_type": "stream",
     "text": [
      "Do you want to continue: y\n",
      "Enter the visit 1\n"
     ]
    },
    {
     "name": "stdout",
     "output_type": "stream",
     "text": [
      "1.Rabekind -Rs.100 for 10\n",
      "2.Paracetamol -Rs.10 for 10\n",
      "3.Metxl - Rs.45 for 10\n",
      "4.Pantakind - Rs. 100 for 10\n",
      "5.Crocin -Rs. 5 for 10\n"
     ]
    },
    {
     "name": "stdin",
     "output_type": "stream",
     "text": [
      "Enter number for medicine you want or type n for total bill:  1\n"
     ]
    },
    {
     "name": "stdout",
     "output_type": "stream",
     "text": [
      "1.Rabekind -Rs.100 for 10\n",
      "2.Paracetamol -Rs.10 for 10\n",
      "3.Metxl - Rs.45 for 10\n",
      "4.Pantakind - Rs. 100 for 10\n",
      "5.Crocin -Rs. 5 for 10\n"
     ]
    },
    {
     "name": "stdin",
     "output_type": "stream",
     "text": [
      "Enter number for medicine you want or type n for total bill:  1\n"
     ]
    },
    {
     "name": "stdout",
     "output_type": "stream",
     "text": [
      "1.Rabekind -Rs.100 for 10\n",
      "2.Paracetamol -Rs.10 for 10\n",
      "3.Metxl - Rs.45 for 10\n",
      "4.Pantakind - Rs. 100 for 10\n",
      "5.Crocin -Rs. 5 for 10\n"
     ]
    },
    {
     "name": "stdin",
     "output_type": "stream",
     "text": [
      "Enter number for medicine you want or type n for total bill:  1\n"
     ]
    },
    {
     "name": "stdout",
     "output_type": "stream",
     "text": [
      "1.Rabekind -Rs.100 for 10\n",
      "2.Paracetamol -Rs.10 for 10\n",
      "3.Metxl - Rs.45 for 10\n",
      "4.Pantakind - Rs. 100 for 10\n",
      "5.Crocin -Rs. 5 for 10\n"
     ]
    },
    {
     "name": "stdin",
     "output_type": "stream",
     "text": [
      "Enter number for medicine you want or type n for total bill:  n\n"
     ]
    },
    {
     "name": "stdout",
     "output_type": "stream",
     "text": [
      "your total bill is  3000 you get  50 point\n"
     ]
    },
    {
     "name": "stdin",
     "output_type": "stream",
     "text": [
      "Do you want to continue: y\n",
      "Enter the visit 2\n"
     ]
    },
    {
     "name": "stdout",
     "output_type": "stream",
     "text": [
      "1.Rabekind -Rs.100 for 10\n",
      "2.Paracetamol -Rs.10 for 10\n",
      "3.Metxl - Rs.45 for 10\n",
      "4.Pantakind - Rs. 100 for 10\n",
      "5.Crocin -Rs. 5 for 10\n"
     ]
    },
    {
     "name": "stdin",
     "output_type": "stream",
     "text": [
      "Enter number for medicine you want or type n for total bill:  1\n"
     ]
    },
    {
     "name": "stdout",
     "output_type": "stream",
     "text": [
      "1.Rabekind -Rs.100 for 10\n",
      "2.Paracetamol -Rs.10 for 10\n",
      "3.Metxl - Rs.45 for 10\n",
      "4.Pantakind - Rs. 100 for 10\n",
      "5.Crocin -Rs. 5 for 10\n"
     ]
    },
    {
     "name": "stdin",
     "output_type": "stream",
     "text": [
      "Enter number for medicine you want or type n for total bill:  1\n"
     ]
    },
    {
     "name": "stdout",
     "output_type": "stream",
     "text": [
      "1.Rabekind -Rs.100 for 10\n",
      "2.Paracetamol -Rs.10 for 10\n",
      "3.Metxl - Rs.45 for 10\n",
      "4.Pantakind - Rs. 100 for 10\n",
      "5.Crocin -Rs. 5 for 10\n"
     ]
    },
    {
     "name": "stdin",
     "output_type": "stream",
     "text": [
      "Enter number for medicine you want or type n for total bill:  1\n"
     ]
    },
    {
     "name": "stdout",
     "output_type": "stream",
     "text": [
      "1.Rabekind -Rs.100 for 10\n",
      "2.Paracetamol -Rs.10 for 10\n",
      "3.Metxl - Rs.45 for 10\n",
      "4.Pantakind - Rs. 100 for 10\n",
      "5.Crocin -Rs. 5 for 10\n"
     ]
    },
    {
     "name": "stdin",
     "output_type": "stream",
     "text": [
      "Enter number for medicine you want or type n for total bill:  1\n"
     ]
    },
    {
     "name": "stdout",
     "output_type": "stream",
     "text": [
      "1.Rabekind -Rs.100 for 10\n",
      "2.Paracetamol -Rs.10 for 10\n",
      "3.Metxl - Rs.45 for 10\n",
      "4.Pantakind - Rs. 100 for 10\n",
      "5.Crocin -Rs. 5 for 10\n"
     ]
    },
    {
     "name": "stdin",
     "output_type": "stream",
     "text": [
      "Enter number for medicine you want or type n for total bill:  n\n"
     ]
    },
    {
     "name": "stdout",
     "output_type": "stream",
     "text": [
      "your total bill is  4000 you get  80 point\n"
     ]
    },
    {
     "name": "stdin",
     "output_type": "stream",
     "text": [
      "do you want to redeem points:  50\n",
      "Do you want to continue: y\n",
      "Enter the visit 2\n"
     ]
    },
    {
     "name": "stdout",
     "output_type": "stream",
     "text": [
      "1.Rabekind -Rs.100 for 10\n",
      "2.Paracetamol -Rs.10 for 10\n",
      "3.Metxl - Rs.45 for 10\n",
      "4.Pantakind - Rs. 100 for 10\n",
      "5.Crocin -Rs. 5 for 10\n"
     ]
    },
    {
     "name": "stdin",
     "output_type": "stream",
     "text": [
      "Enter number for medicine you want or type n for total bill:  1\n"
     ]
    },
    {
     "name": "stdout",
     "output_type": "stream",
     "text": [
      "1.Rabekind -Rs.100 for 10\n",
      "2.Paracetamol -Rs.10 for 10\n",
      "3.Metxl - Rs.45 for 10\n",
      "4.Pantakind - Rs. 100 for 10\n",
      "5.Crocin -Rs. 5 for 10\n"
     ]
    },
    {
     "name": "stdin",
     "output_type": "stream",
     "text": [
      "Enter number for medicine you want or type n for total bill:  1\n"
     ]
    },
    {
     "name": "stdout",
     "output_type": "stream",
     "text": [
      "1.Rabekind -Rs.100 for 10\n",
      "2.Paracetamol -Rs.10 for 10\n",
      "3.Metxl - Rs.45 for 10\n",
      "4.Pantakind - Rs. 100 for 10\n",
      "5.Crocin -Rs. 5 for 10\n"
     ]
    },
    {
     "name": "stdin",
     "output_type": "stream",
     "text": [
      "Enter number for medicine you want or type n for total bill:  1\n"
     ]
    },
    {
     "name": "stdout",
     "output_type": "stream",
     "text": [
      "1.Rabekind -Rs.100 for 10\n",
      "2.Paracetamol -Rs.10 for 10\n",
      "3.Metxl - Rs.45 for 10\n",
      "4.Pantakind - Rs. 100 for 10\n",
      "5.Crocin -Rs. 5 for 10\n"
     ]
    },
    {
     "name": "stdin",
     "output_type": "stream",
     "text": [
      "Enter number for medicine you want or type n for total bill:  1\n"
     ]
    },
    {
     "name": "stdout",
     "output_type": "stream",
     "text": [
      "1.Rabekind -Rs.100 for 10\n",
      "2.Paracetamol -Rs.10 for 10\n",
      "3.Metxl - Rs.45 for 10\n",
      "4.Pantakind - Rs. 100 for 10\n",
      "5.Crocin -Rs. 5 for 10\n"
     ]
    },
    {
     "name": "stdin",
     "output_type": "stream",
     "text": [
      "Enter number for medicine you want or type n for total bill:  n\n"
     ]
    },
    {
     "name": "stdout",
     "output_type": "stream",
     "text": [
      "your total bill is  4000 you get  110 point\n"
     ]
    },
    {
     "name": "stdin",
     "output_type": "stream",
     "text": [
      "do you want to redeem points:  y\n",
      "Enter points 80\n"
     ]
    },
    {
     "name": "stdout",
     "output_type": "stream",
     "text": [
      "your total bill is  3200 you have remaining 30 point\n"
     ]
    },
    {
     "name": "stdin",
     "output_type": "stream",
     "text": [
      "Do you want to continue: n\n"
     ]
    }
   ],
   "source": [
    "flag = True\n",
    "total_points=0\n",
    "sums = 0\n",
    "medicine1 = [\"Crocin\", 10]\n",
    "medicine2 = [\"Paracetamol\", 100]\n",
    "medicine3 = [\"Metxl\", 450]\n",
    "medicine4 = [\"Pantakind\", 110]\n",
    "medicine5 = [\"Rabekind\", 1000]\n",
    "again = \"y\"\n",
    "while flag and (again==\"y\" or again==\"Y\"):\n",
    "    visit = int(input(\"Enter the visit\"))\n",
    "    while flag:\n",
    "        print(\"1.Rabekind -Rs.100 for 10\")\n",
    "        print(\"2.Paracetamol -Rs.10 for 10\")\n",
    "        print(\"3.Metxl - Rs.45 for 10\")\n",
    "        print(\"4.Pantakind - Rs. 100 for 10\")\n",
    "        print(\"5.Crocin -Rs. 5 for 10\")\n",
    "        num = input(\"Enter number for medicine you want or type n for total bill: \")\n",
    "        if visit>=1:\n",
    "            if num ==\"1\":\n",
    "                sums = sums+medicine5[1]\n",
    "            elif num ==\"2\":\n",
    "                sums = sums+medicine2[1]\n",
    "            elif num ==\"3\":\n",
    "                sums = sums+medicine3[1]\n",
    "            elif num ==\"4\":\n",
    "                sums = sums+medicine4[1]\n",
    "            elif num ==\"5\":\n",
    "                sums = sums+medicine1[1]\n",
    "            if num == \"N\" or num == \"n\":\n",
    "                if sums<1000:\n",
    "                    print(\"your total bill is\", sums, \"you get no point\")\n",
    "                    flag = False\n",
    "                if sums >=1000:\n",
    "                    point = (sums-1000)//100\n",
    "                    total_points = total_points+point\n",
    "                    print(\"your total bill is \", sums, \"you get \", total_points, \"point\")\n",
    "                    if visit>1 and total_points>=10:\n",
    "                        y=input(\"do you want to redeem points: \")\n",
    "                       \n",
    "                        if (y ==\"y\" or y==\"Y\")  :\n",
    "                            redeem=int(input(\"Enter points\"))\n",
    "                            if redeem<=total_points:\n",
    "                                sums = sums - redeem*10\n",
    "                                total_points = total_points-redeem\n",
    "                                print(\"your total bill is \", sums, \"you have remaining\", total_points, \"point\")\n",
    "                                \n",
    "                            else:\n",
    "                                print(\"Please enter valid number\")   \n",
    "                        if (y==\"n\" or y==\"N\"): \n",
    "                            print(\"your total bill is \", sums, \"you have remaining\", total_points, \"point\")\n",
    "                    again=input(\"Do you want to continue:\")\n",
    "                    if again==\"y\" or again==\"N\":\n",
    "                        visit = int(input(\"Enter the visit\"))\n",
    "                        sums =0\n",
    "                    else:\n",
    "                        flag = False\n",
    "                        "
   ]
  },
  {
   "cell_type": "code",
   "execution_count": 1,
   "id": "4331bb8b-4186-4f6b-8780-6aff3a09b32b",
   "metadata": {},
   "outputs": [
    {
     "name": "stdout",
     "output_type": "stream",
     "text": [
      "3\n",
      "Howy are you\n",
      "1\n",
      "1\n",
      "are\n",
      "Howy are you\n",
      "Howy Are You\n"
     ]
    }
   ],
   "source": [
    "s = \"Howy are you\"\n",
    "l=[25, 50, \"Hello\", \"l\"]\n",
    "print(s.find(\"y\"))\n",
    "print(s)\n",
    "print(l.count(\"l\"))\n",
    "print(s.index('o'))\n",
    "s1=s.split()\n",
    "print(s1[1])\n",
    "print(s.capitalize())\n",
    "print(s.title())"
   ]
  },
  {
   "cell_type": "code",
   "execution_count": 27,
   "id": "db506741-c738-4ef0-969b-07875026722a",
   "metadata": {},
   "outputs": [
    {
     "name": "stdin",
     "output_type": "stream",
     "text": [
      "Enter the number 10\n"
     ]
    },
    {
     "name": "stdout",
     "output_type": "stream",
     "text": [
      "1\n",
      "[20, 30, 20, 20, 60, 85, 90, 70, 80, 5, 98, 83]\n"
     ]
    }
   ],
   "source": [
    "l = [10, 20, 30, 20, 20, 60, 85, 90, 70, 80, 5, 98, 83]\n",
    "num = int(input(\"Enter the number\"))\n",
    "count = l.count(num)\n",
    "print(count)\n",
    "for i in range(count):\n",
    "    l.remove(num)\n",
    "print(l)"
   ]
  },
  {
   "cell_type": "code",
   "execution_count": 28,
   "id": "2f52a78a-fe77-4717-8411-691c0b534a00",
   "metadata": {},
   "outputs": [
    {
     "name": "stdin",
     "output_type": "stream",
     "text": [
      "Enter the number 50\n"
     ]
    },
    {
     "name": "stdout",
     "output_type": "stream",
     "text": [
      "[10, 20, 30, 20, 20, 60, 85, 90, 70, 80, 5, 98, 83]\n"
     ]
    }
   ],
   "source": [
    "l = [10, 20, 30, 20, 20, 60, 85, 90, 70, 80, 5, 98, 83]\n",
    "l.append(50)\n",
    "num = int(input(\"Enter the number\"))\n",
    "while num in l:\n",
    "    l.remove(num)\n",
    "print(l)"
   ]
  },
  {
   "cell_type": "code",
   "execution_count": 30,
   "id": "c2f1e11f-03a5-4a7d-b4ba-79352b8ff664",
   "metadata": {},
   "outputs": [
    {
     "name": "stdout",
     "output_type": "stream",
     "text": [
      "['Samarth Gupta', 'Kunal Lodhi', 'Jatin Rajput', 'Nishant Banger', 'Kumar Bansal']\n"
     ]
    }
   ],
   "source": [
    "l =[\"Samarth gupta\", \"Kunal lodhi\", \"jatin rajput\", \"nishant banger\", \"kUmar bANSAL\"]\n",
    "li=[]\n",
    "for i in range(len(l)):\n",
    "    s = l[i].title()\n",
    "    li.append(s)\n",
    "print(li)."
   ]
  },
  {
   "cell_type": "code",
   "execution_count": 55,
   "id": "e62f74be-da9a-4b81-bb9d-d09b5e8d8308",
   "metadata": {},
   "outputs": [
    {
     "name": "stdout",
     "output_type": "stream",
     "text": [
      "['SG', 'KL', 'JR', 'NKB', 'KB']\n"
     ]
    }
   ],
   "source": [
    "l =[\"Samarth Gupta\", \"Kunal lodhi\", \"Jatin Rajput\", \"Nishant Kumar Banger\", \"Kumar Bansal\"]\n",
    "li=[]\n",
    "for i in range(len(l)):\n",
    "    sl = l[i].split(\" \")\n",
    "    tl = []\n",
    "    for name in sl:\n",
    "        tl.append(name[0])\n",
    "    sg = ''.join(tl).upper()\n",
    "    li.append(sg)\n",
    "    \n",
    "print(li)"
   ]
  },
  {
   "cell_type": "code",
   "execution_count": 5,
   "id": "251b59d3-bf2f-4f85-9845-04aaf1faafa8",
   "metadata": {},
   "outputs": [
    {
     "name": "stdout",
     "output_type": "stream",
     "text": [
      "[210, 62, 50, 50, 40, 10, 10]\n",
      "[]\n"
     ]
    }
   ],
   "source": [
    "l = [10, 50, 62, 50, 40, 10, 210]\n",
    "l.sort(reverse=True)\n",
    "print(l)\n",
    "l.clear()\n",
    "print(l)"
   ]
  },
  {
   "cell_type": "code",
   "execution_count": 9,
   "id": "0cd74ece-501e-4387-a73c-2519340a9bbe",
   "metadata": {},
   "outputs": [
    {
     "name": "stdout",
     "output_type": "stream",
     "text": [
      "3\n"
     ]
    }
   ],
   "source": [
    "l = (10, 10, 10, 50, 45, 5)\n",
    "li = l.count(10)\n",
    "print(li)"
   ]
  },
  {
   "cell_type": "code",
   "execution_count": 19,
   "id": "e5f2ad1c-5896-4930-823d-b5c281d993b5",
   "metadata": {},
   "outputs": [
    {
     "name": "stdout",
     "output_type": "stream",
     "text": [
      "[(1, 20), (2, 30), (4, 50), (6, 50)]\n"
     ]
    }
   ],
   "source": [
    "d = {1:20, 2:30, 4:50, 6:50}\n",
    "l = list(d.items())\n",
    "print(l)"
   ]
  },
  {
   "cell_type": "code",
   "execution_count": 34,
   "id": "f1c56fdc-552c-44f2-abf1-4a274e406fa0",
   "metadata": {},
   "outputs": [
    {
     "name": "stdout",
     "output_type": "stream",
     "text": [
      "{}\n",
      "[(1, 20), (2, 30), (4, 50), (6, 50)]\n"
     ]
    }
   ],
   "source": [
    "d = {1:20, 2:30, 4:50, 6:50}\n",
    "l = list(d.items())\n",
    "d.clear()\n",
    "print(d)\n",
    "print(l)"
   ]
  },
  {
   "cell_type": "code",
   "execution_count": null,
   "id": "0292319a-45e6-4cbc-a960-7711fc5276bb",
   "metadata": {},
   "outputs": [],
   "source": []
  },
  {
   "cell_type": "code",
   "execution_count": 25,
   "id": "480d6577-6fc0-4a1a-b296-23a236f702c8",
   "metadata": {},
   "outputs": [
    {
     "name": "stdout",
     "output_type": "stream",
     "text": [
      "          Welcome to Rock paper Scissor       \n",
      "      You want to play with computer or two player\n"
     ]
    },
    {
     "name": "stdin",
     "output_type": "stream",
     "text": [
      " Type 1 for computer and 2 for two player 1\n",
      "   Type R for Rock, P for Paper, S for Scissor for Player1:    p\n"
     ]
    },
    {
     "name": "stdout",
     "output_type": "stream",
     "text": [
      "Player2 Wins\n"
     ]
    },
    {
     "name": "stdin",
     "output_type": "stream",
     "text": [
      "Do you want to play more type y for yes and n for no:  1\n"
     ]
    },
    {
     "name": "stdout",
     "output_type": "stream",
     "text": [
      "Player 1 wins  0 times\n",
      "Player 2 wins  1 times\n"
     ]
    }
   ],
   "source": [
    "import random as r\n",
    "s = 'RPS'\n",
    "flag = True\n",
    "count1=0\n",
    "count2=0\n",
    "print(\"          Welcome to Rock paper Scissor       \")\n",
    "print(\"      You want to play with computer or two player\")\n",
    "num = int(input(\" Type 1 for computer and 2 for two player\"))\n",
    "while flag:\n",
    "    if num==1:\n",
    "        user_input = input(\"   Type R for Rock, P for Paper, S for Scissor for Player1:   \").upper()\n",
    "        comp_input = r.choice(s)\n",
    "        flags=1\n",
    "    else:\n",
    "        user_input = input(\"   Type R for Rock, P for Paper, S for Scissor for Player1:   \").upper()\n",
    "        comp_input = input(\"   Type R for Rock, P for Paper, S for Scissor for Player2:   \").upper()\n",
    "    if comp_input == \"R\" and user_input ==\"R\":\n",
    "        print(\"Draw\")\n",
    "    elif comp_input == \"R\" and user_input ==\"S\":\n",
    "        print(\"Player2 Wins\")\n",
    "        count2=count2+1\n",
    "    elif comp_input == \"R\" and user_input ==\"P\":\n",
    "        print(\"Player2 Wins\")\n",
    "        count2=count2+1\n",
    "    elif comp_input == \"P\" and user_input ==\"P\":\n",
    "        print(\"Draw\")\n",
    "    elif comp_input == \"P\" and user_input ==\"S\":\n",
    "        print(\"Player1 Wins\")\n",
    "        count1=count1+1\n",
    "    elif comp_input == \"P\" and user_input ==\"R\":\n",
    "        print(\"Player1 Wins\")\n",
    "        count1=count1+1\n",
    "    elif comp_input == \"S\" and user_input ==\"S\":\n",
    "        print(\"Draw\")\n",
    "    elif comp_input == \"S\" and user_input ==\"R\":\n",
    "        print(\"Player1 Wins\")\n",
    "        count1=count1+1\n",
    "    elif comp_input == \"S\" and user_input ==\"P\":\n",
    "        print(\"Player2 Wins\")\n",
    "        count2=count2+1\n",
    "    regame=input(\"Do you want to play more type y for yes and n for no: \")\n",
    "    if regame==\"Y\" or regame==\"y\":\n",
    "        flag=True\n",
    "    else:\n",
    "        flag=False    \n",
    "\n",
    "\n",
    "print(\"Player 1 wins \", count1, \"times\")\n",
    "print(\"Player 2 wins \", count2, \"times\")"
   ]
  },
  {
   "cell_type": "code",
   "execution_count": 16,
   "id": "81dcf571-b3f9-4184-a5e3-24b1f26f441f",
   "metadata": {},
   "outputs": [
    {
     "name": "stdin",
     "output_type": "stream",
     "text": [
      "Enter the size of list 5\n",
      "Enter element 10\n",
      "Enter element 45\n",
      "Enter element 78\n",
      "Enter element 9\n",
      "Enter element 45\n"
     ]
    },
    {
     "name": "stdout",
     "output_type": "stream",
     "text": [
      "List before search  [10, 45, 78, 9, 45]\n"
     ]
    },
    {
     "name": "stdin",
     "output_type": "stream",
     "text": [
      "Enter the element you want to search 50\n"
     ]
    },
    {
     "name": "stdout",
     "output_type": "stream",
     "text": [
      "Element not found\n",
      "List After search  [10, 45, 78, 9, 45]\n"
     ]
    }
   ],
   "source": [
    "#WAP to take inputs from user to make a list. Length of the list has to be taken from the user.\n",
    "#Again take one input from user and search it in the list and delete that element, if found.\n",
    "#If not found, print \"Element not present\".\n",
    "flag=0\n",
    "size = int(input(\"Enter the size of list\"))\n",
    "l=[1]*size\n",
    "for i in range(size):\n",
    "    l[i]=int(input(\"Enter element\"))\n",
    "print(\"List before search \", l)\n",
    "search = int(input(\"Enter the element you want to search\"))\n",
    "for i in l:\n",
    "    if search==i:\n",
    "        flag ==1\n",
    "if flag==0:\n",
    "    print(\"Element not found\")\n",
    "print(\"List After search \", l)"
   ]
  },
  {
   "cell_type": "code",
   "execution_count": 21,
   "id": "cbdea610-86d4-45f0-acaa-9438674eeabf",
   "metadata": {},
   "outputs": [
    {
     "name": "stdin",
     "output_type": "stream",
     "text": [
      "Enter the start point 5\n",
      "Enter the end point 90\n"
     ]
    },
    {
     "name": "stdout",
     "output_type": "stream",
     "text": [
      "[89, 87, 85, 83, 81, 79, 77, 75, 73, 71, 69, 67, 65, 63, 61, 59, 57, 55, 53, 51, 49, 47, 45, 43, 41, 39, 37, 35, 33, 31, 29, 27, 25, 23, 21, 19, 17, 15, 13, 11, 9, 7, 5]\n"
     ]
    }
   ],
   "source": [
    "start=int(input(\"Enter the start point\"))\n",
    "end = int(input(\"Enter the end point\"))\n",
    "l =[]\n",
    "for i in range(start, end+1):\n",
    "    if i%2!=0:\n",
    "        l.append(i)\n",
    "l.reverse()\n",
    "print(l)"
   ]
  },
  {
   "cell_type": "code",
   "execution_count": 25,
   "id": "2c6f26f0-a000-490b-970a-a96c3af06f15",
   "metadata": {},
   "outputs": [
    {
     "name": "stdin",
     "output_type": "stream",
     "text": [
      "Enter range: 6\n"
     ]
    },
    {
     "name": "stdout",
     "output_type": "stream",
     "text": [
      "1 \n",
      "1 2 \n",
      "1 2 3 \n",
      "1 2 3 4 \n",
      "1 2 3 4 5 \n",
      "1 2 3 4 5 6 \n"
     ]
    }
   ],
   "source": [
    "num = int(input(\"Enter range:\"))\n",
    "for i in range(1,num+1):\n",
    "    for j in range(1,i+1):\n",
    "        print(j, end=\" \")\n",
    "    print()"
   ]
  },
  {
   "cell_type": "code",
   "execution_count": 39,
   "id": "e027f777-bf84-42a8-b8eb-7867876eb2a1",
   "metadata": {},
   "outputs": [
    {
     "name": "stdin",
     "output_type": "stream",
     "text": [
      "Enter terms 3\n",
      "Enter digit 1\n"
     ]
    },
    {
     "name": "stdout",
     "output_type": "stream",
     "text": [
      "123\n"
     ]
    }
   ],
   "source": [
    "num = int(input(\"Enter terms\"))\n",
    "digit =int(input(\"Enter digit\"))\n",
    "sums = \"0\"\n",
    "count = 0\n",
    "for i in range(1,num+1):\n",
    "     s = str(digit)\n",
    "     sums = sums+s\n",
    "     count = count+int(sums)\n",
    "print(count)\n",
    "     "
   ]
  },
  {
   "cell_type": "code",
   "execution_count": 42,
   "id": "bce2594f-d031-40da-8ff6-c4fe56b6d774",
   "metadata": {},
   "outputs": [
    {
     "name": "stdin",
     "output_type": "stream",
     "text": [
      "Enter the number 10\n",
      "Enter the number 20\n",
      "Enter the number 30\n",
      "Enter the number 50\n",
      "Enter the number 80\n",
      "Enter the number 100\n",
      "Enter the number 50\n",
      "Enter the number 0\n"
     ]
    },
    {
     "name": "stdout",
     "output_type": "stream",
     "text": [
      "42.5\n"
     ]
    }
   ],
   "source": [
    "flag = True\n",
    "count = 0\n",
    "sums =0\n",
    "while flag:\n",
    "    n = int(input(\"Enter the number\"))\n",
    "    sums = sums +n\n",
    "    if n==0:\n",
    "        flag = False\n",
    "    count = count +1\n",
    "print(sums/count)"
   ]
  },
  {
   "cell_type": "code",
   "execution_count": 52,
   "id": "7195e97f-a8a6-4960-bdfb-6b6d5f1c06ea",
   "metadata": {},
   "outputs": [
    {
     "name": "stdin",
     "output_type": "stream",
     "text": [
      "Enter a number Samarth\n"
     ]
    },
    {
     "name": "stdout",
     "output_type": "stream",
     "text": [
      "S = 1\n",
      "a = 2\n",
      "m = 1\n",
      "a = 2\n",
      "r = 1\n",
      "t = 1\n",
      "h = 1\n"
     ]
    }
   ],
   "source": [
    "name = input(\"Enter a number\")\n",
    "l = list(name)\n",
    "for i in range(len(name)):\n",
    "    count = 0\n",
    "    for j in name:\n",
    "        #print(j)\n",
    "        if l[i]==j:\n",
    "            count= count +1\n",
    "    print(l[i], \"=\", count)\n",
    "        \n",
    "     "
   ]
  },
  {
   "cell_type": "code",
   "execution_count": 54,
   "id": "2e94c1f8-e325-460d-b2ef-9d2b2e42b846",
   "metadata": {},
   "outputs": [
    {
     "name": "stdin",
     "output_type": "stream",
     "text": [
      "Enter a number 9685087053\n"
     ]
    },
    {
     "name": "stdout",
     "output_type": "stream",
     "text": [
      "124"
     ]
    }
   ],
   "source": [
    "num = int(input(\"Enter a number\"))\n",
    "for i in range(10):\n",
    "     if str(i) not in str(num):\n",
    "         print(i, end=\"\")\n",
    "    "
   ]
  },
  {
   "cell_type": "code",
   "execution_count": 60,
   "id": "a02b6c41-f8a9-4be9-a70e-9f61ccc61fff",
   "metadata": {},
   "outputs": [
    {
     "name": "stdin",
     "output_type": "stream",
     "text": [
      "Enter the any word Samrth Samr  Samarth@123\n"
     ]
    },
    {
     "name": "stdout",
     "output_type": "stream",
     "text": [
      "Digit = 3\n",
      "Special char = 1\n",
      "constant = 16\n",
      "vowel = 4\n",
      "Space  = 3\n"
     ]
    }
   ],
   "source": [
    "num = input(\"Enter the any word\")\n",
    "digit,vowel,special, const, space=0, 0, 0, 0, 0\n",
    "\n",
    "for i in num:\n",
    "    if i in \" \":\n",
    "        space = space+1\n",
    "    if i in \"1234567890\":\n",
    "        digit = digit+1\n",
    "    if i in \"AEIOUaeiou\":\n",
    "        vowel = vowel +1\n",
    "    if i in \"!@#$%^&*_?\":\n",
    "        special = special+1\n",
    "    if i not in \"1234567890\" and i not in \"AEIOUaeiou\" and i not in \"!@#$%^&*_?\":\n",
    "        const = const+1\n",
    "print(\"Digit =\", digit)\n",
    "print(\"Special char =\", special)\n",
    "print(\"constant =\", const)\n",
    "print(\"vowel =\", vowel)\n",
    "print(\"Space  =\", space)"
   ]
  },
  {
   "cell_type": "code",
   "execution_count": 70,
   "id": "e0f7b87e-18a6-42a2-8993-bd1fb245561b",
   "metadata": {},
   "outputs": [
    {
     "name": "stdin",
     "output_type": "stream",
     "text": [
      "Enter the any word Samarth12131\n"
     ]
    },
    {
     "name": "stdout",
     "output_type": "stream",
     "text": [
      "1\n",
      "Your Password is weak\n"
     ]
    }
   ],
   "source": [
    "num = input(\"Enter the any word\")\n",
    "point1, point2, point3, point4=0,0,0,0\n",
    "if len(num)>=8:\n",
    "    for i in num:\n",
    "        if i.isupper():\n",
    "            point1=1\n",
    "        if i.islower():\n",
    "            point2=1\n",
    "        if i in \"123456789\":\n",
    "            point3=1\n",
    "        if i in \"!@#$%^&*?\":\n",
    "            point4=1\n",
    "if point1==point2==point3==point4==1:\n",
    "    print(\"Your password in strong\")\n",
    "else:\n",
    "    print(\"Your Password is weak\")"
   ]
  },
  {
   "cell_type": "code",
   "execution_count": 72,
   "id": "1e4b51f0-fa97-4481-bbad-d6cdfb08b59f",
   "metadata": {},
   "outputs": [
    {
     "name": "stdin",
     "output_type": "stream",
     "text": [
      "Enter the name Samarth Gupta \n",
      "Enter alpha you want to search a\n"
     ]
    },
    {
     "name": "stdout",
     "output_type": "stream",
     "text": [
      "a = 3\n"
     ]
    }
   ],
   "source": [
    "name = input(\"Enter the name\")\n",
    "word = input(\"Enter alpha you want to search\")\n",
    "count = 0\n",
    "for i in name:\n",
    "    if i ==word:\n",
    "        count = count+1\n",
    "print(word, \"=\", count)"
   ]
  },
  {
   "cell_type": "code",
   "execution_count": 74,
   "id": "f64fdcb1-1ede-4a46-a605-73d89e7da0fe",
   "metadata": {},
   "outputs": [
    {
     "name": "stdin",
     "output_type": "stream",
     "text": [
      "Enter the name Samarth\n"
     ]
    },
    {
     "name": "stdout",
     "output_type": "stream",
     "text": [
      "S\n",
      "m\n",
      "r\n",
      "h\n"
     ]
    }
   ],
   "source": [
    "name = input(\"Enter the name\")\n",
    "for i in range(len(name)):\n",
    "    if i%2==0:\n",
    "        print(name[i])\n",
    "        "
   ]
  },
  {
   "cell_type": "code",
   "execution_count": 75,
   "id": "f0b53972-b78b-493d-9898-849717ee5934",
   "metadata": {},
   "outputs": [
    {
     "name": "stdout",
     "output_type": "stream",
     "text": [
      "['Afat', 'Jatin', 'Samarth']\n"
     ]
    }
   ],
   "source": [
    "l=[\"Samarth\", \"Jatin\", \"Afat\"]\n",
    "l.sort()\n",
    "print(l)"
   ]
  },
  {
   "cell_type": "code",
   "execution_count": 4,
   "id": "e383caec-2a76-4ad1-b80f-d730290bea2f",
   "metadata": {},
   "outputs": [
    {
     "name": "stdout",
     "output_type": "stream",
     "text": [
      "1\n",
      "2\n",
      "3\n",
      "Mumbai\n"
     ]
    }
   ],
   "source": [
    "l = {1:\"What is the capital of India\", 2:\"What is the capital of USA\", 3:\"What is the national Animal of India\"}\n",
    "for i in l:\n",
    "    print(i)\n",
    "option ={1:[\"Mumbai\", \"Delhi\", \"Kolkata\", \"Chennai\"],2:[\"Mumbai\", \"Delhi\", \"Washington\", \"Chennai\"], 3:[\"Lion\", \"TIger\", \"Dog\", \"Cat\"]}\n",
    "print(option[1][0])"
   ]
  },
  {
   "cell_type": "code",
   "execution_count": 21,
   "id": "44cef113-bb7c-458f-aa1f-d940c50506e6",
   "metadata": {},
   "outputs": [
    {
     "name": "stdout",
     "output_type": "stream",
     "text": [
      "What is the capital of India\n",
      "1 Mumbai\n",
      "2 Delhi\n",
      "3 Kolkata\n",
      "4 Chennai\n"
     ]
    },
    {
     "name": "stdin",
     "output_type": "stream",
     "text": [
      "Enter the 1,2,3,4 for your answer: 2\n"
     ]
    },
    {
     "name": "stdout",
     "output_type": "stream",
     "text": [
      "Correct Answer\n",
      "What is the capital of USA\n",
      "1 Mumbai\n",
      "2 Delhi\n",
      "3 Washington\n",
      "4 Chennai\n"
     ]
    },
    {
     "name": "stdin",
     "output_type": "stream",
     "text": [
      "Enter the 1,2,3,4 for your answer: 3\n"
     ]
    },
    {
     "name": "stdout",
     "output_type": "stream",
     "text": [
      "Correct Answer\n",
      "What is the national Animal of India\n",
      "1 Lion\n",
      "2 Tiger\n",
      "3 Dog\n",
      "4 Cat\n"
     ]
    },
    {
     "name": "stdin",
     "output_type": "stream",
     "text": [
      "Enter the 1,2,3,4 for your answer: 4\n"
     ]
    },
    {
     "name": "stdout",
     "output_type": "stream",
     "text": [
      "Incorrect anwser\n",
      "Which god is also known as ‘Gauri Nandan’?\n",
      "1 Lord Vishnu\n",
      "2 Lord Ganesha\n",
      "3 Lord Shiva\n",
      "4 Lord Brahma\n"
     ]
    },
    {
     "name": "stdin",
     "output_type": "stream",
     "text": [
      "Enter the 1,2,3,4 for your answer: 4\n"
     ]
    },
    {
     "name": "stdout",
     "output_type": "stream",
     "text": [
      "Incorrect anwser\n",
      "Which city is known as the Pink City of India?\n",
      "1 Mumbai\n",
      "2 Delhi\n",
      "3 Jaipur\n",
      "4 Chennai\n"
     ]
    },
    {
     "name": "stdin",
     "output_type": "stream",
     "text": [
      "Enter the 1,2,3,4 for your answer: 3\n"
     ]
    },
    {
     "name": "stdout",
     "output_type": "stream",
     "text": [
      "Correct Answer\n",
      "Yours answer is  20\n"
     ]
    }
   ],
   "source": [
    "l = {1:\"What is the capital of India\", \n",
    "     2:\"What is the capital of USA\", \n",
    "     3:\"What is the national Animal of India\",\n",
    "     4:\"Which god is also known as ‘Gauri Nandan’?\",\n",
    "    5:\"Which city is known as the Pink City of India?\"}\n",
    "    \n",
    "d = {1:\"Delhi\", 2:\"Washington\", 3:\"Tiger\",4:\"Lord Ganesha\",5:\"Jaipur\"}\n",
    "\n",
    "option ={1:[\"Mumbai\", \"Delhi\", \"Kolkata\", \"Chennai\"],\n",
    "         2:[\"Mumbai\", \"Delhi\", \"Washington\", \"Chennai\"],\n",
    "         3:[\"Lion\", \"Tiger\", \"Dog\", \"Cat\"], \n",
    "         4:[\"Lord Vishnu\", \"Lord Ganesha\", \"Lord Shiva\", \"Lord Brahma\"],\n",
    "         5:[\"Mumbai\", \"Delhi\", \"Jaipur\", \"Chennai\"]}\n",
    "z=1\n",
    "sums=0\n",
    "while z<=len(l):\n",
    "    print(l[z])\n",
    "    for j in range(len(option[z])):\n",
    "        print(j+1,option[z][j])\n",
    "    num = int(input(\"Enter the 1,2,3,4 for your answer:\"))\n",
    "    if option[z][num-1]==d[z]:\n",
    "        print(\"Correct Answer\")\n",
    "        sums = sums+10\n",
    "    else:\n",
    "        print(\"Incorrect anwser\")\n",
    "        sums = sums-5\n",
    "    z+=1\n",
    "print(\"Yours answer is \",sums)"
   ]
  },
  {
   "cell_type": "code",
   "execution_count": 24,
   "id": "873bb089-d0f4-441b-a0a7-684bb47d69af",
   "metadata": {},
   "outputs": [
    {
     "name": "stdout",
     "output_type": "stream",
     "text": [
      "S\n",
      "S\n",
      "H\n"
     ]
    }
   ],
   "source": [
    "lis = [\"Samarth\", 879, \"Saarth\", 33, 654, \"Happy\"]\n",
    "for i in lis:\n",
    "    i = str(i)\n",
    "    if i[0] not in \"123456789\":\n",
    "        print(i[0])\n",
    "        "
   ]
  },
  {
   "cell_type": "code",
   "execution_count": 8,
   "id": "152cae12-9679-4697-9dcc-e7eb84d366ec",
   "metadata": {},
   "outputs": [
    {
     "name": "stdin",
     "output_type": "stream",
     "text": [
      "ENter name Samarth\n",
      "ENter y for continue and n for stop y\n",
      "ENter name Samarth\n",
      "ENter y for continue and n for stop n\n"
     ]
    },
    {
     "name": "stdout",
     "output_type": "stream",
     "text": [
      "S\n",
      "S\n"
     ]
    }
   ],
   "source": [
    "l = []\n",
    "i=\"y\"\n",
    "while i==\"y\":\n",
    "    num=input(\"ENter name\")\n",
    "    l.append(num)\n",
    "    i=input(\"ENter y for continue and n for stop\")\n",
    "for i in l:\n",
    "    print(i[0])"
   ]
  },
  {
   "cell_type": "code",
   "execution_count": 5,
   "id": "3cd64858-f37e-407b-a6d3-4f331d711f9c",
   "metadata": {},
   "outputs": [
    {
     "name": "stdout",
     "output_type": "stream",
     "text": [
      "         Welcome to KBC Game       \n",
      "What is the capital of India\n",
      "1 Mumbai\n",
      "2 Delhi\n",
      "3 Kolkata\n",
      "4 Chennai\n"
     ]
    },
    {
     "name": "stdin",
     "output_type": "stream",
     "text": [
      "Enter the 1,2,3,4 for your answer: 2\n"
     ]
    },
    {
     "name": "stdout",
     "output_type": "stream",
     "text": [
      "Correct Answer\n",
      "You Won Rs. 1000\n"
     ]
    },
    {
     "name": "stdin",
     "output_type": "stream",
     "text": [
      "Do you want to continue enter y for yes and n for no: y\n"
     ]
    },
    {
     "name": "stdout",
     "output_type": "stream",
     "text": [
      "What is the capital of USA\n",
      "1 Mumbai\n",
      "2 Delhi\n",
      "3 Washington\n",
      "4 Chennai\n"
     ]
    },
    {
     "name": "stdin",
     "output_type": "stream",
     "text": [
      "Enter the 1,2,3,4 for your answer: 3\n"
     ]
    },
    {
     "name": "stdout",
     "output_type": "stream",
     "text": [
      "Correct Answer\n",
      "You Won Rs. 2000\n"
     ]
    },
    {
     "name": "stdin",
     "output_type": "stream",
     "text": [
      "Do you want to continue enter y for yes and n for no: y\n"
     ]
    },
    {
     "name": "stdout",
     "output_type": "stream",
     "text": [
      "What is the national Animal of India\n",
      "1 Lion\n",
      "2 Tiger\n",
      "3 Dog\n",
      "4 Cat\n"
     ]
    },
    {
     "name": "stdin",
     "output_type": "stream",
     "text": [
      "Enter the 1,2,3,4 for your answer: 2\n"
     ]
    },
    {
     "name": "stdout",
     "output_type": "stream",
     "text": [
      "Correct Answer\n",
      "You Won Rs. 5000\n"
     ]
    },
    {
     "name": "stdin",
     "output_type": "stream",
     "text": [
      "Do you want to continue enter y for yes and n for no: y\n"
     ]
    },
    {
     "name": "stdout",
     "output_type": "stream",
     "text": [
      "Which god is also known as ‘Gauri Nandan’?\n",
      "1 Lord Vishnu\n",
      "2 Lord Ganesha\n",
      "3 Lord Shiva\n",
      "4 Lord Brahma\n"
     ]
    },
    {
     "name": "stdin",
     "output_type": "stream",
     "text": [
      "Enter the 1,2,3,4 for your answer: 2\n"
     ]
    },
    {
     "name": "stdout",
     "output_type": "stream",
     "text": [
      "Correct Answer\n",
      "You Won Rs. 10000\n"
     ]
    },
    {
     "name": "stdin",
     "output_type": "stream",
     "text": [
      "Do you want to continue enter y for yes and n for no: y\n"
     ]
    },
    {
     "name": "stdout",
     "output_type": "stream",
     "text": [
      "Which city is known as the Pink City of India?\n",
      "1 Mumbai\n",
      "2 Delhi\n",
      "3 Jaipur\n",
      "4 Chennai\n"
     ]
    },
    {
     "name": "stdin",
     "output_type": "stream",
     "text": [
      "Enter the 1,2,3,4 for your answer: 3\n"
     ]
    },
    {
     "name": "stdout",
     "output_type": "stream",
     "text": [
      "Correct Answer\n",
      "You Won Rs. 20000\n"
     ]
    },
    {
     "name": "stdin",
     "output_type": "stream",
     "text": [
      "Do you want to continue enter y for yes and n for no: y\n"
     ]
    },
    {
     "name": "stdout",
     "output_type": "stream",
     "text": [
      "which Algo used by ZOMATO for Delivery\n",
      "1 Dijkstra\n",
      "2 Prims\n",
      "3 British Meuseum\n",
      "4 Johnson\n"
     ]
    },
    {
     "name": "stdin",
     "output_type": "stream",
     "text": [
      "Enter the 1,2,3,4 for your answer: 1\n"
     ]
    },
    {
     "name": "stdout",
     "output_type": "stream",
     "text": [
      "Correct Answer\n",
      "You Won Rs. 40000\n"
     ]
    },
    {
     "name": "stdin",
     "output_type": "stream",
     "text": [
      "Do you want to continue enter y for yes and n for no: y\n"
     ]
    },
    {
     "name": "stdout",
     "output_type": "stream",
     "text": [
      "In what country did the first Starbucks open outside of North America?\n",
      "1 India\n",
      "2 America\n",
      "3 Japan\n",
      "4 Pakistan\n"
     ]
    },
    {
     "name": "stdin",
     "output_type": "stream",
     "text": [
      "Enter the 1,2,3,4 for your answer: 3\n"
     ]
    },
    {
     "name": "stdout",
     "output_type": "stream",
     "text": [
      "Correct Answer\n",
      "You Won Rs. 80000\n"
     ]
    },
    {
     "name": "stdin",
     "output_type": "stream",
     "text": [
      "Do you want to continue enter y for yes and n for no: n\n"
     ]
    },
    {
     "name": "stdout",
     "output_type": "stream",
     "text": [
      "Congrats you won Rs. 80000\n"
     ]
    }
   ],
   "source": [
    "print(\"****************Welcome to KBC Game****************\")\n",
    "name = input(\"Enter your name\")\n",
    "l = {1:\"What is the capital of India\", \n",
    "     2:\"What is the capital of USA\", \n",
    "     3:\"What is the national Animal of India\",\n",
    "     4:\"Which god is also known as ‘Gauri Nandan’?\",\n",
    "    5:\"Which city is known as the Pink City of India?\",\n",
    "    6:\"which Algo used by ZOMATO for Delivery\",\n",
    "    7:\"In what country did the first Starbucks open outside of North America?\",\n",
    "    8:\"In a website browser address bar, what does “www” stand for?\",\n",
    "    9:\"Originally, Amazon only sold what kind of product?\",\n",
    "    10:\"Who was the first woman to win a Nobel Prize?\",\n",
    "    11:\"What was the original purpose of the tiny pocket in jeans?\",\n",
    "    12:\"What does SPF in sunscreen stand for?\",\n",
    "    13:\"In what year was the internet opened to the public?\",\n",
    "    14:\"Who is the founder of SpaceX\",\n",
    "    15:\"How many medals did India win at the Tokyo 2020 Paralympics?\"}\n",
    "    \n",
    "d = {1:\"Delhi\", 2:\"Washington\", 3:\"Tiger\",4:\"Lord Ganesha\",5:\"Jaipur\",6:\"Dijkstra\",7:\"Japan\", 8:\"World Wide Web\",9:\"Books\",10:\"Marie Curie\",11:\"To store pocket watches\",\n",
    "    12:\"Sun Protection Factor\", 13:\"1993\", 14:\"Elon Musk\", 15:\"19\"}\n",
    "\n",
    "option ={1:[\"Mumbai\", \"Delhi\", \"Kolkata\", \"Chennai\"],\n",
    "         2:[\"Mumbai\", \"Delhi\", \"Washington\", \"Chennai\"],\n",
    "         3:[\"Lion\", \"Tiger\", \"Dog\", \"Cat\"], \n",
    "         4:[\"Lord Vishnu\", \"Lord Ganesha\", \"Lord Shiva\", \"Lord Brahma\"],\n",
    "         5:[\"Mumbai\", \"Delhi\", \"Jaipur\", \"Chennai\"],\n",
    "        6:[\"Dijkstra\", \"Prims\", \"British Meuseum\", \"Johnson\"], \n",
    "        7:[\"India\", \"America\", \"Japan\", \"Pakistan\"],\n",
    "        8:[\"World Wide Web\", \"World watch Web\", \"World Web Watch\",\"World Web Wide\"],\n",
    "        9:[\"Books\", \"Shoes\", \"Watches\", \"TV\"],\n",
    "        10:[\"Marie Curie\", \"Kangana Ranaut\", \"James Bond\", \"Mother Teresa\"],\n",
    "        11:[\"To store pocket watches\", \"Just for design\", \"To store mobile\", \"To store toffee\"],\n",
    "        12:[\"Sun Protection Factor\", \"Sun Protect Factor\", \"Sun Protest Factor\", \"Soon protection Factor\"],\n",
    "        13:[\"1993\", \"1991\", \"1995\", \"1990\"],\n",
    "        14:[\"Elon Musk\", \"Narendra Modi\", \"Tom Holland\", \"Johnny Deep\"],\n",
    "        15:[\"20\", \"19\", \"29\", \"6\"]}\n",
    "z=1\n",
    "sums=0\n",
    "y = \"y\"\n",
    "prize=[1000,2000,5000, 10000, 20000, 40000, 80000, 160000, 320000, 640000, 1250000,2500000, 5000000, 10000000, 70000000]\n",
    "while z<=len(l) and y == \"y\":\n",
    "    print(l[z])\n",
    "    for j in range(len(option[z])):\n",
    "        print(j+1,option[z][j])\n",
    "    num = int(input(\"Enter the 1,2,3,4 for your answer:\"))\n",
    "    if option[z][num-1]==d[z]:\n",
    "        print(\"Correct Answer\")\n",
    "        print(\"You Won Rs.\",prize[sums])\n",
    "        sums=sums+1\n",
    "        y = input(\"Do you want to continue enter y for yes and n for no:\").lower()\n",
    "        if y[0]==\"n\":\n",
    "            quit=\"quit\"\n",
    "    else:\n",
    "        print(\"Incorrect anwser\")\n",
    "        y = \"n\"\n",
    "    z+=1\n",
    "if sums>0 and quit ==\"quit\":\n",
    "    print(\"Congrats\",name,\"you won Rs.\", prize[sums-1])\n",
    "elif sum==15:\n",
    "    print(\"Congrats\", name,\"you won Rs.\", prize[-1])\n",
    "elif (sums>=10 and sums<=15) and quit !=\"quit\":\n",
    "    print(\"Congrats\", name,\"you won Rs.\", prize[9])\n",
    "elif (sums>=4 and sums<10) and quit !=\"quit\":\n",
    "    print(\"Congrats\", name, \"you won Rs.\", prize[3])\n",
    "elif (sums>=0 and sums<5) and quit!=\"quit\":\n",
    "    print(\"Sorry\", name,\"You loose all money\")"
   ]
  },
  {
   "cell_type": "code",
   "execution_count": 4,
   "id": "3948aaf2-e2ef-4dae-9204-bad61719d716",
   "metadata": {},
   "outputs": [
    {
     "name": "stdout",
     "output_type": "stream",
     "text": [
      "htramaS"
     ]
    }
   ],
   "source": [
    "s = \"Samarth\"\n",
    "a=[\"A\", \"\"]\n",
    "i=-1\n",
    "while i>=len(s)*(-1):\n",
    "    print(s[i], end=\"\")\n",
    "    i = i-1"
   ]
  },
  {
   "cell_type": "code",
   "execution_count": null,
   "id": "5a4b9c57-b8a6-4660-83fb-c9013057cf21",
   "metadata": {},
   "outputs": [],
   "source": []
  },
  {
   "cell_type": "code",
   "execution_count": null,
   "id": "fc424f40-25e2-4c23-8833-f901119c5926",
   "metadata": {},
   "outputs": [],
   "source": [
    "#hagnman\n",
    "d = {1:\"\"}"
   ]
  },
  {
   "cell_type": "code",
   "execution_count": null,
   "id": "3e6a6694-15a4-4dee-a419-d0e1f59138a6",
   "metadata": {},
   "outputs": [],
   "source": [
    "s = (\"Samarth Gupta\").upper()\n",
    "l=s.split(\" \")\n",
    "alpha = [\"A\", \"B\", \"C\", \"D\", \"E\", \"F\", \"G\", \"H\", \"I\", \"J\", \"K\", \"L\", \"M\", \"N\", \"O\", \"P\", \"Q\", \"R\", \"S\",\"U\",\"V\", \"W\", \"X\", \"Y\",\"Z\"]\n",
    "add=[]\n",
    "k=0\n",
    "print(l)\n",
    "while k<len(l):\n",
    "    sums = 0\n",
    "    temp = l[k]\n",
    "    i = 0\n",
    "    print(s)\n",
    "    while i<len(temp):\n",
    "        for j in range(0, len(alpha)):\n",
    "            if temp[i]==alpha[j]:\n",
    "                sums = sums+j\n",
    "            add.append(sums)\n",
    "        i = i+1\n",
    "    k+1\n",
    "    print(add)\n",
    "print(add)"
   ]
  },
  {
   "cell_type": "code",
   "execution_count": 7,
   "id": "9377ef34-7d63-4a8a-bb9d-f44360141ba6",
   "metadata": {},
   "outputs": [
    {
     "name": "stdin",
     "output_type": "stream",
     "text": [
      "Enter the Name: abcd\n"
     ]
    },
    {
     "name": "stdout",
     "output_type": "stream",
     "text": [
      "[10]\n"
     ]
    }
   ],
   "source": [
    "s = (input(\"Enter the Name:\")).upper()\n",
    "l=s.split(\" \")\n",
    "alpha = [\"A\", \"B\", \"C\", \"D\", \"E\", \"F\", \"G\", \"H\", \"I\", \"J\", \"K\", \"L\", \"M\", \"N\", \"O\", \"P\", \"Q\", \"R\", \"S\",\"U\",\"V\", \"W\", \"X\", \"Y\",\"Z\"]\n",
    "add=[]\n",
    "k=0\n",
    "while k<len(l):\n",
    "    sums = 0\n",
    "    temp = l[k]\n",
    "    i = 0\n",
    "    while i<len(temp):\n",
    "        for j in range(0, len(alpha)):\n",
    "            if temp[i]==alpha[j]:\n",
    "                sums = sums+(j+1)\n",
    "        i=i+1\n",
    "    add.append(sums)\n",
    "    k=k+1\n",
    "print(add)"
   ]
  },
  {
   "cell_type": "code",
   "execution_count": 10,
   "id": "d3724060-b85f-42ec-9c22-fd4d00920a20",
   "metadata": {},
   "outputs": [
    {
     "name": "stdout",
     "output_type": "stream",
     "text": [
      "Computer Chance\n",
      "| O|  |  |\n",
      "|  |  |  |\n",
      "|  |  |  |\n",
      "\n"
     ]
    },
    {
     "name": "stdin",
     "output_type": "stream",
     "text": [
      "Enter position for X: 2\n"
     ]
    },
    {
     "name": "stdout",
     "output_type": "stream",
     "text": [
      "| O| X|  |\n",
      "|  |  |  |\n",
      "|  |  |  |\n",
      "\n",
      "Computer Chance\n",
      "| O| X|  |\n",
      "|  |  |  |\n",
      "|  | O|  |\n",
      "\n"
     ]
    },
    {
     "name": "stdin",
     "output_type": "stream",
     "text": [
      "Enter position for X: 3\n"
     ]
    },
    {
     "name": "stdout",
     "output_type": "stream",
     "text": [
      "| O| X| X|\n",
      "|  |  |  |\n",
      "|  | O|  |\n",
      "\n",
      "Computer Chance\n",
      "| O| X| X|\n",
      "|  |  | O|\n",
      "|  | O|  |\n",
      "\n"
     ]
    },
    {
     "name": "stdin",
     "output_type": "stream",
     "text": [
      "Enter position for X: 9\n"
     ]
    },
    {
     "name": "stdout",
     "output_type": "stream",
     "text": [
      "| O| X| X|\n",
      "|  |  | O|\n",
      "|  | O| X|\n",
      "\n",
      "Computer Chance\n",
      "| O| X| X|\n",
      "|  | O| O|\n",
      "|  | O| X|\n",
      "\n"
     ]
    },
    {
     "name": "stdin",
     "output_type": "stream",
     "text": [
      "Enter position for X: 7\n"
     ]
    },
    {
     "name": "stdout",
     "output_type": "stream",
     "text": [
      "| O| X| X|\n",
      "|  | O| O|\n",
      "| X| O| X|\n",
      "\n",
      "Computer Chance\n",
      "| O| X| X|\n",
      "| O| O| O|\n",
      "| X| O| X|\n",
      "\n",
      "o wins\n"
     ]
    },
    {
     "name": "stdin",
     "output_type": "stream",
     "text": [
      "Enter y for regame and n for finish: y\n"
     ]
    },
    {
     "name": "stdout",
     "output_type": "stream",
     "text": [
      "Computer Chance\n",
      "|  |  |  |\n",
      "|  |  |  |\n",
      "|  | O|  |\n",
      "\n"
     ]
    },
    {
     "name": "stdin",
     "output_type": "stream",
     "text": [
      "Enter position for X: 1\n"
     ]
    },
    {
     "name": "stdout",
     "output_type": "stream",
     "text": [
      "| X|  |  |\n",
      "|  |  |  |\n",
      "|  | O|  |\n",
      "\n",
      "Computer Chance\n",
      "| X|  |  |\n",
      "|  | O|  |\n",
      "|  | O|  |\n",
      "\n"
     ]
    },
    {
     "name": "stdin",
     "output_type": "stream",
     "text": [
      "Enter position for X: 2\n"
     ]
    },
    {
     "name": "stdout",
     "output_type": "stream",
     "text": [
      "| X| X|  |\n",
      "|  | O|  |\n",
      "|  | O|  |\n",
      "\n",
      "Computer Chance\n",
      "| X| X|  |\n",
      "|  | O|  |\n",
      "|  | O| O|\n",
      "\n"
     ]
    },
    {
     "name": "stdin",
     "output_type": "stream",
     "text": [
      "Enter position for X: 3\n"
     ]
    },
    {
     "name": "stdout",
     "output_type": "stream",
     "text": [
      "| X| X| X|\n",
      "|  | O|  |\n",
      "|  | O| O|\n",
      "\n",
      "X wins\n"
     ]
    },
    {
     "name": "stdin",
     "output_type": "stream",
     "text": [
      "Enter y for regame and n for finish: n\n"
     ]
    }
   ],
   "source": [
    "import random as r\n",
    "game = \"Y\"\n",
    "while game==\"Y\":\n",
    "    l = [1,2,3,4,5,6,7,8,9]\n",
    "    li1= [[\" \",\" \",\" \"],[\" \",\" \",\" \"],[\" \",\" \",\" \"]]\n",
    "    i=1\n",
    "    while i<=9:\n",
    "        if i%2==0:\n",
    "            num = int(input(\"Enter position for X:\"))\n",
    "        if i%2 != 0:\n",
    "            print(\"Computer Chance\")\n",
    "            num=r.choice(l)\n",
    "           # num = int(input(\"Enter position for O:\"))\n",
    "        if num in l:\n",
    "            for z in range(len(l)):\n",
    "                if l[z]==num:\n",
    "                    temp=z\n",
    "            l.pop(temp)\n",
    "            count = 0\n",
    "            for j in range(3):\n",
    "                for k in range(3):\n",
    "                    count = count+1\n",
    "                    if count==num and i%2==0:\n",
    "                        li1[j][k]=\"X\"\n",
    "                    if count==num and i%2!=0:\n",
    "                        li1[j][k]=\"O\"\n",
    "\n",
    "            \n",
    "            i=i+1\n",
    "            for j in range(3):\n",
    "                for k in range(3):\n",
    "                    print(\"|\",li1[j][k], end=\"\")\n",
    "                print(\"|\")\n",
    "            print()\n",
    "            if i>=5:\n",
    "                if 'O' == li1[0][0] == li1[0][1] == li1[0][2] or 'O' == li1[1][0] == li1[1][1] == li1[1][2] or 'O' == li1[2][0] == li1[2][1] == li1[2][2] :\n",
    "                    print(\"o wins\")\n",
    "                    break\n",
    "                  \n",
    "                elif 'X' == li1[0][0] == li1[0][1] == li1[0][2] or 'X' == li1[1][0] == li1[1][1] == li1[1][2] or 'X' == li1[2][0] == li1[2][1] == li1[2][2] :\n",
    "                    print(\"X wins\")\n",
    "                    break\n",
    "                    \n",
    "                elif 'O' == li1[0][0] == li1[1][0] == li1[2][0] or 'O' == li1[0][1] == li1[1][1] == li1[2][1] or 'O' == li1[0][2] == li1[1][2] == li1[2][2]:\n",
    "                    print(\"o wins\")\n",
    "                    break\n",
    "                    \n",
    "                elif 'X' == li1[0][0] == li1[1][0] == li1[2][0] or 'X' == li1[0][1] == li1[1][1] == li1[2][1] or 'X' == li1[0][2] == li1[1][2] == li1[2][2]:\n",
    "                    print(\"X wins\")\n",
    "                    break\n",
    "                 \n",
    "                elif 'O' == li1[0][0] == li1[1][1] == li1[2][2] or 'O' == li1[0][2] == li1[1][1] == li1[2][0]:\n",
    "                    print(\"o wins\")\n",
    "                    break\n",
    "                   \n",
    "                elif 'X' == li1[0][0] == li1[1][1] == li1[2][2] or 'X' == li1[0][2] == li1[1][1] == li1[2][0]:\n",
    "                    print(\"X wins\")\n",
    "                    break\n",
    "        else:\n",
    "            print(\"Invalid or wrong input\")\n",
    "    game = input(\"Enter y for regame and n for finish:\").upper()"
   ]
  },
  {
   "cell_type": "code",
   "execution_count": null,
   "id": "0f75088d-6ad2-434c-b55c-72b2c1290297",
   "metadata": {},
   "outputs": [],
   "source": [
    "d = {1:\"He is a King of Forest\", \n",
    "     2:\"He is a Former president and current President candidate of USA\", \n",
    "     3:\"It is programming language, also known as Language of Internet\",\n",
    "     4:\"He is Smallest Bird\",\n",
    "     5:\"It is country with very Diverse Culture\"}\n",
    "ans = {1:\"LION\", 2:\"DONALDTRUMPH\",3:\"JAVASCRIPT\",4:\"KIWI\",5:\"INDIA\"}\n",
    "game = \"Y\"\n",
    "while game ==\"Y\":\n",
    "    i=1\n",
    "    count=0\n",
    "    while i<len(d):\n",
    "        print(d[i])\n",
    "        for j in range(len(ans[i])):\n",
    "            print(\"_ \",end=\"\")\n",
    "        print(\"It has\",len(ans[i]), \"character\")\n",
    "        l=0\n",
    "        tl=[]\n",
    "        while l<3:\n",
    "            guess = input(\"Write your guess\").upper()\n",
    "            c=0\n",
    "            an=ans[i]\n",
    "            ls = \"_\"*len(an)\n",
    "            ts=\"\"\n",
    "            if len(guess)==1:\n",
    "                for k in range(len(an)):\n",
    "                    if guess==an[k]:\n",
    "                        tl.append(k)\n",
    "                        c=1\n",
    "                for z in range(len(ls)):\n",
    "                    if z in tl:\n",
    "                        ts +=an[z]\n",
    "                    else:\n",
    "                        ts+=ls[z]\n",
    "                ls = ts\n",
    "            if len(guess)==len(an):\n",
    "                for i in range(len(an)):\n",
    "                    if guess==an[i]:\n",
    "                        ls=an\n",
    "                        c=1\n",
    "            if c==0:\n",
    "                print(\"Wrong Guess\")\n",
    "                l=l+1\n",
    "            if ls==an:\n",
    "                break\n",
    "            print(ls)\n",
    "        i=i+1\n",
    "        if l==3:\n",
    "            print(\"       ********\")\n",
    "            print(\"       * *  * *\")\n",
    "            print(\"       *  *   *\")\n",
    "            print(\"       ********\")\n",
    "            print(\"           *       \")\n",
    "            print(\"           *       \")\n",
    "            print(\"    ***************\")\n",
    "            print(\"   **             **\")\n",
    "            print(\" *  *             * * \")\n",
    "            print(\"*   *             *   *\")\n",
    "            print(\"    ***************\")\n",
    "            print(\"      * *    * *\")\n",
    "            print(\"      * *    * *\")\n",
    "            print(\"      * *    * *\")\n",
    "            print(\"      ***    ***\")\n",
    "            print(\"Hanged, you loose the game\")\n",
    "            i = len(d)+1\n",
    "        if count==5:\n",
    "            print(\"Congratulation You wins The game\")\n",
    "    game = input(\"Do you want to play again type y for yes and n for no\").upper()"
   ]
  },
  {
   "cell_type": "code",
   "execution_count": 2,
   "id": "d5145536-753f-41eb-9ede-4291ab0c3d7e",
   "metadata": {},
   "outputs": [
    {
     "name": "stdout",
     "output_type": "stream",
     "text": [
      "1\n",
      "2\n",
      "3\n"
     ]
    }
   ],
   "source": [
    "d ={1:\"54654\", 2:\"55454\", 3:\"54654\"}\n",
    "for i in d.keys():\n",
    "    print(i)"
   ]
  },
  {
   "cell_type": "code",
   "execution_count": null,
   "id": "c315a28d-860a-4aa2-9f63-e1230ff36784",
   "metadata": {},
   "outputs": [],
   "source": [
    "num = input(\"Enter the any word\")\n",
    "point1, point2, point3, point4=0,0,0,0\n",
    "if len(num)>=8:\n",
    "    for i in num:\n",
    "        if i.isupper():\n",
    "            point1=1\n",
    "        if i.islower():\n",
    "            point2=1\n",
    "        if i in \"123456789\":\n",
    "            point3=1\n",
    "        if i in \"!@#$%^&*?\":\n",
    "            point4=1\n",
    "if point1==point2==point3==point4==1:\n",
    "    print(\"Your password in strong\")   \n",
    "else:\n",
    "    print(\"Your Password is weak\")"
   ]
  },
  {
   "cell_type": "code",
   "execution_count": 2,
   "id": "852d71c4-b078-4b2a-847f-1980542262d8",
   "metadata": {},
   "outputs": [
    {
     "name": "stdin",
     "output_type": "stream",
     "text": [
      "Enter 1. for Signup and 2. for Sign in  1\n",
      "Enter your name Samarth\n",
      "Enter the your username Samar\n",
      "Enter your password Samar@423\n",
      "What is your nickname samarth\n"
     ]
    },
    {
     "name": "stdout",
     "output_type": "stream",
     "text": [
      "Successfully Signed in\n"
     ]
    },
    {
     "name": "stdin",
     "output_type": "stream",
     "text": [
      "Do you want to login or signup again, type yes or no no\n"
     ]
    }
   ],
   "source": [
    "choice = \"y\"\n",
    "Name=[]\n",
    "ul = []\n",
    "pl = []\n",
    "sqans=[]\n",
    "mnumber = []\n",
    "while choice[0] ==\"y\":\n",
    "    num = int(input(\"Enter 1. for Signup and 2. for Sign in \"))\n",
    "    if num ==2:\n",
    "        username = input(\"Enter the your username\")\n",
    "        for i in range(len(ul)):\n",
    "            if username==ul[i]:\n",
    "                password = input(\"Enter your password\")\n",
    "                if password==pl[i]:\n",
    "                    print(\"Successfully logged in\")\n",
    "                    break\n",
    "                else:\n",
    "                    print(\"Invali Password\")\n",
    "                    temp = input(\"do you want to forget passwor, type yes or no:\").upper()\n",
    "                    if temp[0]==\"Y\":\n",
    "                        sq =input(\"What is your nickname\").lower()\n",
    "                        if sq==sqans[i]:\n",
    "                            password =input(\"Enter your new password\")\n",
    "                            pl.insert(i,password)\n",
    "                            break\n",
    "                        else:\n",
    "                            print(\"Wrong answer\")\n",
    "                            break\n",
    "            elif len(ul)==i+1:\n",
    "                print(\"Invalid username\")\n",
    "\n",
    "    elif num ==1:\n",
    "        name = input(\"Enter your name\")\n",
    "        Name.append(name)\n",
    "        point1 =1\n",
    "        while point1==1:\n",
    "            username = input(\"Enter the your username\")\n",
    "            if username in ul:\n",
    "                print(\"already exist username\")\n",
    "            else:\n",
    "                point1=0\n",
    "        point2, point3, point4=0,0,0\n",
    "        point1 =0\n",
    "        while point1==0:\n",
    "            password = input(\"Enter your password\")\n",
    "            if len(password)>=8:\n",
    "                for i in password:\n",
    "                    if i.isupper():\n",
    "                        point1=1\n",
    "                    if i.islower():\n",
    "                        point2=1\n",
    "                    if i in \"123456789\":\n",
    "                        point3=1\n",
    "                    if i in \"!@#$%^&*?\":\n",
    "                        point4=1\n",
    "            if point1==point2==point3==point4==1:\n",
    "                ul.append(username)\n",
    "                pl.append(password)\n",
    "                point1=1\n",
    "            else:\n",
    "                print(\"Your Password is weak\")\n",
    "        point1=0\n",
    "        while point1<0 or point1>10:\n",
    "            number = input(\"Enter your 10 digit mobile number\")\n",
    "            if len(number)==10:\n",
    "                for j in number:\n",
    "                    if j in \"0123456789\":\n",
    "                        point1=point1+1\n",
    "            if point1==10:\n",
    "                mnumber.append(number)\n",
    "            else:\n",
    "                print(\"Wrong Number Re enter again\")\n",
    "        sq = input(\"What is your nickname\").lower()\n",
    "        sqans.append(sq)\n",
    "        print(\"Successfully Signed in\")\n",
    "    else:\n",
    "        print(\"Invalid choices or input\")\n",
    "    choice = input(\"Do you want to login or signup again, type yes or no\").lower()"
   ]
  },
  {
   "cell_type": "code",
   "execution_count": 36,
   "id": "0833f086-9081-4304-97f5-90eaa9c2af08",
   "metadata": {},
   "outputs": [
    {
     "name": "stdout",
     "output_type": "stream",
     "text": [
      "Welcome to Phone Book\n"
     ]
    },
    {
     "name": "stdin",
     "output_type": "stream",
     "text": [
      "Please Enter any above number for your operation \n",
      " 1. Adding Contact \n",
      " 2. Updating Contact\n",
      " 3. Search Contact\n",
      " 4. Delete contact\n",
      " 5\n"
     ]
    },
    {
     "name": "stdout",
     "output_type": "stream",
     "text": [
      "Invalid Input\n"
     ]
    },
    {
     "name": "stdin",
     "output_type": "stream",
     "text": [
      "Do you want to repeat operation Type y for yes and n for no: no\n"
     ]
    }
   ],
   "source": [
    "# phone book management , add, search, update, dele\n",
    "Run = \"yes\"\n",
    "print(\"Welcome to Phone Book\")\n",
    "Names = []\n",
    "Numbers = []\n",
    "\n",
    "while Run[0] ==\"y\":\n",
    "    num =input(\"Please Enter any above number for your operation \\n 1. Adding Contact \\n 2. Updating Contact\\n 3. Search Contact\\n 4. Delete contact\\n\")\n",
    "    count=0\n",
    "    if num ==\"1\":\n",
    "        name = input(\"Enter the Name\").lower()\n",
    "        number = input(\"Enter the number\")\n",
    "        if len(number)==10 and name!= \"\":\n",
    "            for i in number:\n",
    "                if i in \"0123456789\":\n",
    "                    count=count+1\n",
    "            if count==10:\n",
    "                Names.append(name)\n",
    "                Numbers.append(number)\n",
    "                print(\"Successfully Added\")\n",
    "            else:\n",
    "                print(\"Number is not valid\")\n",
    "        else:\n",
    "            print(\"Wrong input\")\n",
    "    elif num ==\"3\":\n",
    "        search =input(\"Enter number you want to search\").lower()\n",
    "        for i in range(0, len(Names)):\n",
    "            if Numbers[i]==search:\n",
    "                print(\"Name is\", Names[i],\"and Number is\", Numbers[i])\n",
    "            elif len(Names)==i+1:\n",
    "                print(\"Not found\")\n",
    "    elif num==\"2\":\n",
    "        search=input(\"Enter number you want to update\")\n",
    "        for i in range(len(Numbers)):\n",
    "            if Numbers[i]==search:\n",
    "                number=input(\"Enter new number\")\n",
    "                Numbers[i]=number\n",
    "                print(\"Successfully Updated\")\n",
    "                break\n",
    "            elif len(Names)==i+1:\n",
    "                print(\"Not Found\")\n",
    "    elif num==\"4\":\n",
    "        search=input(\"Enter the number you want to delete\")\n",
    "        for i in range(len(Numbers)):\n",
    "            if Numbers[i]==search:\n",
    "                Numbers.pop(i)\n",
    "                Names.pop(i)\n",
    "                print(\"Successfully Deleted\")\n",
    "                break\n",
    "            elif len(Numbers)==i+1:\n",
    "                print(\"Not Found\")\n",
    "    else:\n",
    "        print(\"Invalid Input\")\n",
    "    Run = input(\"Do you want to repeat operation Type y for yes and n for no:\").lower()\n",
    "        \n",
    "        \n",
    "        "
   ]
  },
  {
   "cell_type": "code",
   "execution_count": 45,
   "id": "5dd7e149-9001-4fc5-9a33-2c53a655d6ee",
   "metadata": {},
   "outputs": [
    {
     "name": "stdin",
     "output_type": "stream",
     "text": [
      "Enter any number 5\n"
     ]
    },
    {
     "name": "stdout",
     "output_type": "stream",
     "text": [
      "5\n"
     ]
    }
   ],
   "source": [
    "num = int(input(\"Enter any number\"))\n",
    "i=2\n",
    "while i<num:\n",
    "    if num%i==0:\n",
    "        print(\"Not a prime\")\n",
    "        break\n",
    "    i=i+1\n",
    "print(i)"
   ]
  },
  {
   "cell_type": "code",
   "execution_count": 42,
   "id": "2a8d0f61-20fb-46a5-ade6-6f0bd0305ffe",
   "metadata": {},
   "outputs": [
    {
     "name": "stdout",
     "output_type": "stream",
     "text": [
      "756\n"
     ]
    }
   ],
   "source": [
    "print(27*28)"
   ]
  },
  {
   "cell_type": "code",
   "execution_count": 15,
   "id": "57bbf428-7636-46cd-abe0-14011bc45452",
   "metadata": {},
   "outputs": [
    {
     "name": "stdout",
     "output_type": "stream",
     "text": [
      "False\n",
      "Samarth Gupta\n",
      "3\n",
      "78\n",
      "5\n",
      "[1, 2, 3, 4, 56, 9]\n"
     ]
    }
   ],
   "source": [
    "import random as r\n",
    "st = \"Samarth gupta\"\n",
    "l = [1,2,3,4,56,78,9]\n",
    "print(st.istitle())\n",
    "print(st.title())\n",
    "print(st.count(\"a\"))\n",
    "s = r.choice(l)\n",
    "print(s)\n",
    "s=l.index(s)\n",
    "l.pop(s)\n",
    "print(s)\n",
    "print(l)"
   ]
  },
  {
   "cell_type": "code",
   "execution_count": 12,
   "id": "6150a421-1105-4d50-a681-24415147c0bc",
   "metadata": {},
   "outputs": [
    {
     "name": "stdin",
     "output_type": "stream",
     "text": [
      "Type any Number 123654789656987456321\n"
     ]
    },
    {
     "name": "stdout",
     "output_type": "stream",
     "text": [
      "6987456321\n",
      "6987456321\n",
      "It is a palindrome\n"
     ]
    }
   ],
   "source": [
    "x=(input(\"Type any Number\"))\n",
    "count=\"\"\n",
    "temp=x[slice((len(x)//2)+1,len(x))]\n",
    "for i in range(len(x)//2):\n",
    "    count=x[i]+count\n",
    "if count==temp:\n",
    "    print(\"It is a palindrome\")\n",
    "else:\n",
    "    print(\"Not a palindrome\")\n",
    "    \n",
    "    "
   ]
  },
  {
   "cell_type": "code",
   "execution_count": null,
   "id": "94173ac7-f5d5-492e-b73e-e6fda0df60f4",
   "metadata": {},
   "outputs": [],
   "source": [
    "Symbol       Value\n",
    "I             1\n",
    "V             5\n",
    "X             10\n",
    "L             50\n",
    "C             100\n",
    "D             500\n",
    "M             1000"
   ]
  },
  {
   "cell_type": "code",
   "execution_count": 7,
   "id": "4f16e182-6664-4581-bfd1-46d28e4bcbc1",
   "metadata": {},
   "outputs": [
    {
     "name": "stdout",
     "output_type": "stream",
     "text": [
      "2216\n"
     ]
    }
   ],
   "source": [
    "R ={\"I\":1,\"V\":5,\"X\":10, \"L\":50,\"C\":100,\"D\":500,\"M\":1000}\n",
    "num=\"MCMXCIV\" #1994\n",
    "i,count=0,0\n",
    "while i<len(num):\n",
    "    for j in R:\n",
    "        if num[i]==j:\n",
    "            count=count+R[num[i]]\n",
    "            break\n",
    "    i=i+1\n",
    "print(count)"
   ]
  },
  {
   "cell_type": "code",
   "execution_count": 3,
   "id": "fab5427f-04c6-4d0d-9914-d6a63f762ff3",
   "metadata": {},
   "outputs": [
    {
     "name": "stdout",
     "output_type": "stream",
     "text": [
      "-216\n"
     ]
    }
   ],
   "source": [
    "s=\"MCMXCIV\" #1994\n",
    "R ={\"I\":1,\"V\":5,\"X\":10, \"L\":50,\"C\":100,\"D\":500,\"M\":1000}\n",
    "l=len(s)-1\n",
    "count=0\n",
    "while l>=0:\n",
    "    for i in R:\n",
    "        if s[l]==i:\n",
    "            if l>=len(s)-2 or l>=1:\n",
    "                if s[l]>=s[l-1]:\n",
    "                    count=count-R[s[l]]\n",
    "                    break\n",
    "                else:\n",
    "                    count=count-R[s[l]]\n",
    "                    break\n",
    "            count=count+R[s[l]]\n",
    "    l=l-1\n",
    "print(count)"
   ]
  },
  {
   "cell_type": "code",
   "execution_count": 70,
   "id": "60e11456-e898-4b4a-b120-c814bb38ff3f",
   "metadata": {},
   "outputs": [
    {
     "name": "stdout",
     "output_type": "stream",
     "text": [
      "3\n"
     ]
    }
   ],
   "source": [
    "s = \"\"\n",
    "R ={\"I\":1,\"V\":5,\"X\":10, \"L\":50,\"C\":100,\"D\":500,\"M\":1000}\n",
    "count=0\n",
    "temp=0\n",
    "for i in range(len(s)-1,-1,-1):\n",
    "    for j in R:\n",
    "        if s[i]==j:\n",
    "            if i<=len(s)-2 or l==1:\n",
    "                if R[j]>=temp:\n",
    "                    count=count+R[j]\n",
    "                    temp=R[j]\n",
    "                    break\n",
    "                else:\n",
    "                    count=count-R[j]\n",
    "                    temp=R[j]\n",
    "                    break\n",
    "            count=count+R[j]\n",
    "            temp=R[j]\n",
    "            break\n",
    "print(count)\n",
    "            "
   ]
  },
  {
   "cell_type": "code",
   "execution_count": 124,
   "id": "f3f9dbe0-f46d-4f74-a0cc-aa4f0bf60c5b",
   "metadata": {},
   "outputs": [
    {
     "name": "stdout",
     "output_type": "stream",
     "text": [
      "f\n"
     ]
    }
   ],
   "source": [
    "strs = [\"flower\",\"flow\",\"flight\"]\n",
    "small=min(strs, key=len)\n",
    "k=0\n",
    "sums=\"\"\n",
    "count=\"\"\n",
    "for i in small:\n",
    "    for j in strs:\n",
    "        if i==j[k]:\n",
    "            continue\n",
    "        else:\n",
    "            sums=\"\"\n",
    "            break\n",
    "    count=count+i\n",
    "    if sums==\"\":\n",
    "        break\n",
    "    k=k+1\n",
    "print(count)"
   ]
  },
  {
   "cell_type": "code",
   "execution_count": 22,
   "id": "990867bf-9681-4f0c-9184-14fb3e81509f",
   "metadata": {},
   "outputs": [
    {
     "name": "stdout",
     "output_type": "stream",
     "text": [
      "f\n",
      "l\n",
      "fl\n"
     ]
    }
   ],
   "source": [
    "l = [\"flower\",\"flow\",\"flight\"]\n",
    "k=0\n",
    "p=\"\"\n",
    "for i in s:\n",
    "    count=0\n",
    "    for j in l:\n",
    "        if i==j[k]:\n",
    "            count=count+1\n",
    "        else:\n",
    "            break\n",
    "    if count==len(l):\n",
    "        print(i)\n",
    "        p=p+i\n",
    "    else:\n",
    "        break\n",
    "    k=k+1\n",
    "print(p)\n",
    "    \n"
   ]
  },
  {
   "cell_type": "code",
   "execution_count": 126,
   "id": "6080353a-d6f8-4387-a6e4-de91bafc2921",
   "metadata": {},
   "outputs": [
    {
     "name": "stdout",
     "output_type": "stream",
     "text": [
      "['S', 'S', 'G']\n"
     ]
    }
   ],
   "source": [
    "l=[\"S\",\"S\",\"G\"]\n",
    "s=str(l)\n",
    "print(s)  "
   ]
  },
  {
   "cell_type": "code",
   "execution_count": 42,
   "id": "e8e9bbc0-8d44-4fbb-8819-cba178104929",
   "metadata": {},
   "outputs": [
    {
     "name": "stdout",
     "output_type": "stream",
     "text": [
      "False\n"
     ]
    }
   ],
   "source": [
    "s = \"(){}}{\"\n",
    "if s.count(\"(\")==s.count(\")\"):\n",
    "    flag=True\n",
    "    if s.count(\"[\")==s.count(\"]\"):\n",
    "        flag=True\n",
    "        if s.count(\"{\")==s.count(\"}\"):\n",
    "            flag=True\n",
    "        else:\n",
    "            flag=False\n",
    "    else:\n",
    "        flag=False\n",
    "else:\n",
    "    flag=False\n",
    "print(flag)\n",
    "         "
   ]
  },
  {
   "cell_type": "code",
   "execution_count": 18,
   "id": "17c90796-91fb-4af9-b58d-114a54cab676",
   "metadata": {},
   "outputs": [
    {
     "name": "stdout",
     "output_type": "stream",
     "text": [
      "a in block -5\n",
      "a in main 16\n"
     ]
    }
   ],
   "source": [
    "a=10\n",
    "def add():\n",
    "    a=-5\n",
    "    print(\"a in block\",a)\n",
    "a+=6\n",
    "add()\n",
    "print(\"a in main\",a)\n",
    "\n"
   ]
  },
  {
   "cell_type": "code",
   "execution_count": 11,
   "id": "565639a9-1d25-421a-b084-67105d4fa8dd",
   "metadata": {},
   "outputs": [
    {
     "name": "stdout",
     "output_type": "stream",
     "text": [
      "Samarth\n"
     ]
    }
   ],
   "source": [
    "num = \"({[]})\"\n",
    "if num.count(\"(\")==num.count(\")\") and num.count(\"{\")==num.count(\"}\") and num.count(\"[\")==num.count(\"]\"):\n",
    "    print(\"Samarth\")"
   ]
  },
  {
   "cell_type": "code",
   "execution_count": 36,
   "id": "d833e6fc-7f2e-48f2-a913-7427c4809085",
   "metadata": {},
   "outputs": [
    {
     "name": "stdout",
     "output_type": "stream",
     "text": [
      "False\n"
     ]
    }
   ],
   "source": [
    "s=\"[[{()}]]\"\n",
    "flag=True\n",
    "i=0\n",
    "if len(s)%2==0:\n",
    "    if s.count(\"(\")==s.count(\")\") and s.count(\"{\")==s.count(\"}\") and s.count(\"[\")==s.count(\"]\"):\n",
    "        while i<len(s)-1:\n",
    "            if s[i]==\"(\":\n",
    "                if s[i+1]==\")\":\n",
    "                    i=i+1\n",
    "                elif s[i+1]==\"{\" or s[i+1]==\"[\" or s[i+1]==\"(\":\n",
    "                    i=i\n",
    "                else:\n",
    "                    flag=False\n",
    "                    break\n",
    "            elif s[i]==\"[\":\n",
    "                if s[i+1]==\"]\":\n",
    "                    i=i+1\n",
    "                elif s[i+1]==\"{\" or s[i+1]==\"(\" or s[i+1]==\"[\":\n",
    "                    i=i\n",
    "                else:\n",
    "                    flag=False\n",
    "                    break\n",
    "            elif s[i]==\"{\":\n",
    "                if s[i+1]==\"}\":\n",
    "                    i=i+1\n",
    "                elif s[i+1]==\"[\" or s[i+1]==\"(\" or s[i+1]==\"{\":\n",
    "                    i=i\n",
    "                else:\n",
    "                    flag=False\n",
    "                    break\n",
    "            else:\n",
    "                flag=False\n",
    "                break\n",
    "            i=i+1\n",
    "    else:\n",
    "        flag=False\n",
    "else:\n",
    "    flag=False\n",
    "print(flag)"
   ]
  },
  {
   "cell_type": "code",
   "execution_count": 56,
   "id": "7b809b61-b476-4e06-849f-25905596a76e",
   "metadata": {},
   "outputs": [
    {
     "name": "stdout",
     "output_type": "stream",
     "text": [
      "5\n",
      "[1, '', 2, 3, 4, 5, '']\n"
     ]
    }
   ],
   "source": [
    "nums=[1,1,2,3,4,5,5]\n",
    "count=0\n",
    "count1=0\n",
    "for i in range(len(nums)):\n",
    "    for j in range(len(nums)):\n",
    "        if nums[i]==nums[j] and i!=j:\n",
    "            nums.pop(j)\n",
    "            nums.insert(j,\"\")\n",
    "    #print(nums)\n",
    "for i in range(len(nums)):\n",
    "    if nums[i]!=\"\":\n",
    "        count1=count1+1\n",
    "print(count1)\n",
    "print(nums)"
   ]
  },
  {
   "cell_type": "code",
   "execution_count": 4,
   "id": "4555e0ec-e64a-47cb-aaf7-8f692584fe30",
   "metadata": {},
   "outputs": [
    {
     "name": "stdout",
     "output_type": "stream",
     "text": [
      "[1, 2, 3, '', '']\n",
      "3\n"
     ]
    }
   ],
   "source": [
    "nums=[1,1,2,2,3]\n",
    "count=0\n",
    "for i in range(len(nums)):\n",
    "    j=0\n",
    "    while j<len(nums):\n",
    "        if nums[i]==nums[j] and i!=j and nums[j]!=\"\":\n",
    "            nums.pop(j)\n",
    "            nums.append(\"\")\n",
    "            j=0\n",
    "        j=j+1\n",
    "for i in range(len(nums)):\n",
    "    if nums[i]!=\"\":\n",
    "        count=count+1\n",
    "print(nums)\n",
    "print(count)"
   ]
  },
  {
   "cell_type": "code",
   "execution_count": 6,
   "id": "a8af917b-a50a-4d81-a4fb-525e83a005ba",
   "metadata": {},
   "outputs": [
    {
     "name": "stdout",
     "output_type": "stream",
     "text": [
      "[1, 1, 1, 1]\n"
     ]
    }
   ],
   "source": [
    "nums=[1,1,1,1,5]\n",
    "nums.pop(4)\n",
    "print(nums)"
   ]
  },
  {
   "cell_type": "code",
   "execution_count": 27,
   "id": "c3a03802-d6b1-47cc-9a6a-bc764f2bd41f",
   "metadata": {},
   "outputs": [
    {
     "name": "stdout",
     "output_type": "stream",
     "text": [
      "first Name is 6\n",
      "Second Name is 8\n",
      "Second Name is 7\n"
     ]
    }
   ],
   "source": [
    "def func(x,y,z=7):\n",
    "    print(\"first Name is\",x)\n",
    "    print(\"Second Name is\",y)\n",
    "    print(\"Second Name is\",z)\n",
    "\n",
    "func(6,8)"
   ]
  },
  {
   "cell_type": "code",
   "execution_count": 34,
   "id": "5692d11f-7ae1-4712-970a-59c148a81b0e",
   "metadata": {},
   "outputs": [
    {
     "name": "stdout",
     "output_type": "stream",
     "text": [
      "{1, 2, 3, 4, 5}\n",
      "<class 'set'>\n"
     ]
    }
   ],
   "source": [
    "a=(1,2,2)\n",
    "b=set(a)\n",
    "b={1,2,3,4,5}\n",
    "print(b)\n",
    "print(type(b))"
   ]
  },
  {
   "cell_type": "code",
   "execution_count": 40,
   "id": "a568e0c6-cb33-4ca4-a840-5830a9ad29ba",
   "metadata": {},
   "outputs": [
    {
     "data": {
      "text/plain": [
       "(1, 'g', 'e', 545, 45, 5)"
      ]
     },
     "execution_count": 40,
     "metadata": {},
     "output_type": "execute_result"
    }
   ],
   "source": [
    "def func(*a):\n",
    "    return a\n",
    "func(1,\"g\",\"e\",545,45,5)"
   ]
  },
  {
   "cell_type": "code",
   "execution_count": 43,
   "id": "decf424e-2d5d-4a7a-999b-5c411bf3db0e",
   "metadata": {},
   "outputs": [
    {
     "data": {
      "text/plain": [
       "52.25"
      ]
     },
     "execution_count": 43,
     "metadata": {},
     "output_type": "execute_result"
    }
   ],
   "source": [
    "def aver(*a):\n",
    "    return sum(a)/len(a)\n",
    "aver(45,54,65,45)"
   ]
  },
  {
   "cell_type": "code",
   "execution_count": 51,
   "id": "12a8a7b7-6833-4d15-b517-c3956e7fc3a3",
   "metadata": {},
   "outputs": [
    {
     "data": {
      "text/plain": [
       "8"
      ]
     },
     "execution_count": 51,
     "metadata": {},
     "output_type": "execute_result"
    }
   ],
   "source": [
    "add = lambda *a:sum(a)\n",
    "add(3,5)\n",
    "#anonymous =gumnaam\n",
    "#lambda function can also be used as anonymous function because they can be defined wihtout name"
   ]
  },
  {
   "cell_type": "code",
   "execution_count": 24,
   "id": "f544ad95-cf7f-46e7-aae3-c08246ca58a7",
   "metadata": {},
   "outputs": [
    {
     "name": "stdout",
     "output_type": "stream",
     "text": [
      "False\n"
     ]
    }
   ],
   "source": [
    "l=[]\n",
    "d={\"(\":\")\",\"}\":\"{\",\"]\":\"[\"}\n",
    "flag=True\n",
    "s=\"((\"\n",
    "count=00\n",
    "if len(s)%2==0:\n",
    "    for i in range(len(s)):\n",
    "        if s[i]==\"(\" or s[i]==\"{\" or s[i]==\"[\":\n",
    "            l.append(s[i])\n",
    "        elif s[i]==\")\" or s[i]==\"}\" or s[i]==\"]\":\n",
    "            count=1\n",
    "            if len(l)>0:\n",
    "                if l[-1]+s[i]==\"()\":\n",
    "                    l.pop()\n",
    "                else:\n",
    "                    flag=False\n",
    "            else:\n",
    "                flag=False\n",
    "                break\n",
    "else:\n",
    "    flag=False\n",
    "if count==1:\n",
    "    count=0\n",
    "else:\n",
    "    flag=False\n",
    "print(flag)"
   ]
  },
  {
   "cell_type": "code",
   "execution_count": 56,
   "id": "80a28b54-494e-46e3-bc46-b4043cb89755",
   "metadata": {},
   "outputs": [
    {
     "name": "stdout",
     "output_type": "stream",
     "text": [
      "[1, 2, 3, 6, 3, 2, 1, 5]\n"
     ]
    }
   ],
   "source": [
    "#merge sorted list\n",
    "s1=[1,2,3,5]\n",
    "s2=[1,2,3,6]\n",
    "s3=[] #\n",
    "l=len(s1)\n",
    "for i in range(l):\n",
    "    if s1[i]==s2[i] or s1[i]<s2[i]:\n",
    "        s1.insert(j,s2[i])\n",
    "print(s1)\n",
    "            \n",
    "            "
   ]
  },
  {
   "cell_type": "code",
   "execution_count": 4,
   "id": "c2bcaecd-a242-4a30-9828-2f721d56d495",
   "metadata": {},
   "outputs": [
    {
     "name": "stdout",
     "output_type": "stream",
     "text": [
      "<class 'int'>\n",
      "<class 'str'>\n"
     ]
    }
   ],
   "source": [
    "l = [1,2,3,4,5]\n",
    "print(type(l[0]))\n",
    "l=list(map(str,l))\n",
    "print(type(l[0]))"
   ]
  },
  {
   "cell_type": "code",
   "execution_count": 12,
   "id": "af524167-b6a3-4b68-ab54-5e39108674ef",
   "metadata": {},
   "outputs": [
    {
     "name": "stdout",
     "output_type": "stream",
     "text": [
      "['A+', 'A', 'B+', 'A+', 'A+', 'Fail', 'Fail', 'Fail']\n"
     ]
    }
   ],
   "source": [
    "l=[95,85,75,98,100,40,50,45]\n",
    "ol=[]\n",
    "def grade(perc):\n",
    "    if perc>90 and perc<=100:\n",
    "        return \"A+\"\n",
    "    elif perc>80 and perc<=90:\n",
    "        return \"A\"\n",
    "    elif perc>70 and perc<=80:\n",
    "        return \"B+\"\n",
    "    elif perc>60 and perc<=70:\n",
    "        return \"B\"\n",
    "    elif perc>50 and perc<=60:\n",
    "        return \"C\"\n",
    "    else:\n",
    "        return \"Fail\"\n",
    "for marks in l:\n",
    "    g=grade(marks)\n",
    "    ol.append(g)\n",
    "print(ol)"
   ]
  },
  {
   "cell_type": "code",
   "execution_count": 11,
   "id": "706e45d0-e5a7-4b86-b704-3e914a4237dd",
   "metadata": {},
   "outputs": [
    {
     "name": "stdout",
     "output_type": "stream",
     "text": [
      "['A+', 'A', 'B+', 'A+', 'A+']\n"
     ]
    }
   ],
   "source": [
    "l=[95,85,75,98,100,40,50,45]\n",
    "ol=[]\n",
    "def grade(perc):\n",
    "    if perc>90 and perc<=100:\n",
    "        return \"A+\"\n",
    "    elif perc>80 and perc<=90:\n",
    "        return \"A\"\n",
    "    elif perc>70 and perc<=80:\n",
    "        return \"B+\"\n",
    "    elif perc>60 and perc<=70:\n",
    "        return \"B\"\n",
    "    elif perc>50 and perc<=60:\n",
    "        return \"C\"\n",
    "    else:\n",
    "        return \"Fail\"\n",
    "ol=list(map(grade,l))\n",
    "print(ol)"
   ]
  },
  {
   "cell_type": "code",
   "execution_count": 14,
   "id": "e1a01873-126e-43ea-84a6-c2824ecce854",
   "metadata": {},
   "outputs": [
    {
     "name": "stdout",
     "output_type": "stream",
     "text": [
      "[7, 2, 10, 8]\n"
     ]
    }
   ],
   "source": [
    "l=[(5,6,7),(2,1),(3,10,9,4,6),(5,8)]\n",
    "ol=[]\n",
    "def func(tup):\n",
    "    return max(tup)\n",
    "for i in l:\n",
    "    g=func(i)\n",
    "    ol.append(g)\n",
    "print(ol)"
   ]
  },
  {
   "cell_type": "code",
   "execution_count": 21,
   "id": "3d4e477f-ea30-418b-b042-728bdf99b56e",
   "metadata": {},
   "outputs": [
    {
     "name": "stdout",
     "output_type": "stream",
     "text": [
      "[7, 2, 10, 8]\n"
     ]
    }
   ],
   "source": [
    "l=[(5,6,7),(2,1),(3,10,9,4,6),(5,8)]\n",
    "ol = list(map(max,l))\n",
    "print(ol)"
   ]
  },
  {
   "cell_type": "code",
   "execution_count": 37,
   "id": "577873f3-c2df-4212-bcde-b846b6e0e06c",
   "metadata": {},
   "outputs": [
    {
     "name": "stdout",
     "output_type": "stream",
     "text": [
      "[6, 2, (10, 4, 6), 8]\n"
     ]
    }
   ],
   "source": [
    "l=[(5,6,7),(2,1),(3,10,9,4,6),(5,8)] \n",
    "ol=[]\n",
    "def eve(num):\n",
    "    l=[]\n",
    "    for i in num:\n",
    "        if i%2==0:\n",
    "            l.append(i)\n",
    "    if len(l)==1:\n",
    "        return l[0]\n",
    "    elif len(l)>1:\n",
    "        return tuple(l)        \n",
    "ol=list(map(eve,l))\n",
    "print(ol)"
   ]
  },
  {
   "cell_type": "code",
   "execution_count": 48,
   "id": "27277812-47da-4927-a92d-1978226a544c",
   "metadata": {},
   "outputs": [
    {
     "name": "stdout",
     "output_type": "stream",
     "text": [
      "['O', 'E', 'O', 'E', 'O', 'O', 'E', 'O', 'E', 'E', 'O', 'E']\n"
     ]
    }
   ],
   "source": [
    "l=[5,6,7,2,1,3,10,9,4,6,5,8] \n",
    "ol=list(map((lambda d:\"E\" if d%2==0 else \"O\"),l))\n",
    "print(ol)\n",
    "#shorthand notation  for if else -> return \"E\" if data%2 ==0 else \"O\""
   ]
  },
  {
   "cell_type": "code",
   "execution_count": 47,
   "id": "fea8acb4-0938-48c9-b67d-bece77dd8e02",
   "metadata": {},
   "outputs": [
    {
     "name": "stdout",
     "output_type": "stream",
     "text": [
      "<class 'tuple'>\n"
     ]
    }
   ],
   "source": [
    "t=(1,)\n",
    "print(type(t))"
   ]
  },
  {
   "cell_type": "code",
   "execution_count": 11,
   "id": "2d339a00-3509-41cc-970c-68336ff414be",
   "metadata": {},
   "outputs": [
    {
     "name": "stdout",
     "output_type": "stream",
     "text": [
      "['AS#03@24', 'SC#08@19', 'MR#07@07', 'SK#11@26', 'IJ#10@14']\n"
     ]
    }
   ],
   "source": [
    "'''Given a list storing the names of employees as names = [‘Aanchal Sharma’, ‘Shubham Chhipa, ‘Mohit Rawat’, ‘Salman Khan’, ‘Ishani Janveja’]\n",
    "   Given a list storing the dob of the employees as dob = [’24/03/1999′, ’19/08/1997′, ’07/07/1990′, ’26/11/2000′, ’14/10/1993′]\n",
    "   Create a 3rd list storing their suggested passwords as per the following format:\n",
    "Input: name = Aanchal Sharma\n",
    "               dob = 24/03/1999\n",
    "Output: pass = AS#03@24\n",
    "Logic: Initials#MM@DD'''\n",
    "names = [\"Aanchal Sharma\", \"Shubham Chhipa\", \"Mohit Rawat\", \"Salman Khan\", \"Ishani Janvej\"]\n",
    "dob = [\"24/03/1999\", \"19/08/1997\", \"07/07/1990\", \"26/11/2000\", \"14/10/1993\"]\n",
    "suggest_pass=[]\n",
    "for i in range(len(names)):\n",
    "    temp_name=names[i].split(\" \")\n",
    "    temp_dob=dob[i].split(\"/\")\n",
    "    init=\"\"\n",
    "    for j in temp_name:\n",
    "        init=init+j[0]\n",
    "    suggest_pass.append(init+\"#\"+temp_dob[1]+\"@\"+temp_dob[0])\n",
    "print(suggest_pass)\n"
   ]
  },
  {
   "cell_type": "code",
   "execution_count": 2,
   "id": "c310bd78-bf10-4245-91a1-bdd28378f452",
   "metadata": {},
   "outputs": [
    {
     "name": "stdin",
     "output_type": "stream",
     "text": [
      " Mumbai is good but Gwalior is also good\n"
     ]
    },
    {
     "name": "stdout",
     "output_type": "stream",
     "text": [
      "Mumbai is good but Gwalior also\n"
     ]
    }
   ],
   "source": [
    "'''Given a sentence containing n words/strings. Remove all duplicates words/strings which are similar to each others.\n",
    "    Examples:  \n",
    "Input : Bye Bye bro\n",
    "Output : Bye bro'''\n",
    "n=input().split(\" \")\n",
    "temp=n\n",
    "#temp=\"\"\n",
    "i=0\n",
    "while i<len(n):\n",
    "    j=0\n",
    "    while j<len(n):\n",
    "        if n[i]==n[j] and i!=j:\n",
    "            temp.pop(j)\n",
    "        j=j+1\n",
    "    i=i+1\n",
    "print(\" \".join(temp))"
   ]
  },
  {
   "cell_type": "code",
   "execution_count": 29,
   "id": "230e684c-16de-44a3-9eb1-2565645a340d",
   "metadata": {},
   "outputs": [
    {
     "name": "stdout",
     "output_type": "stream",
     "text": [
      "4\n"
     ]
    }
   ],
   "source": [
    "s = \"moon\"\n",
    "i=len(s)-1\n",
    "count=0\n",
    "flag=True\n",
    "while i>=0:\n",
    "    if s[i]!=\" \":\n",
    "        count=count+1\n",
    "        if s[i-1]==\" \":\n",
    "            break\n",
    "    i=i-1\n",
    "print(count)\n",
    "            "
   ]
  },
  {
   "cell_type": "code",
   "execution_count": 34,
   "id": "8fe4be17-ac63-4471-a3ed-1db9c7e5e7c9",
   "metadata": {},
   "outputs": [
    {
     "name": "stdout",
     "output_type": "stream",
     "text": [
      "[1, 0]\n"
     ]
    }
   ],
   "source": [
    "digits = [9]\n",
    "ans=[]\n",
    "temp=\"\"\n",
    "for i in digits:\n",
    "    temp=temp+str(i)\n",
    "temp=int(temp)+1\n",
    "temp=str(temp)\n",
    "for i in temp:\n",
    "    ans.append(int(i))\n",
    "print(ans)"
   ]
  },
  {
   "cell_type": "code",
   "execution_count": 43,
   "id": "1af89639-16ee-402d-b389-e8f04e8400f1",
   "metadata": {},
   "outputs": [
    {
     "name": "stdout",
     "output_type": "stream",
     "text": [
      "9\n"
     ]
    }
   ],
   "source": [
    "s=10 #3\n",
    "temp=0\n",
    "for i in range(len(s)-1):\n",
    "    temp= temp+int(s[i])*2+int(s[i+1])\n",
    "print(temp)"
   ]
  },
  {
   "cell_type": "code",
   "execution_count": 83,
   "id": "50ce120e-60cf-49e5-ba82-e3123df4f1aa",
   "metadata": {},
   "outputs": [
    {
     "name": "stdout",
     "output_type": "stream",
     "text": [
      "0 0\n",
      "0\n",
      "0\n"
     ]
    }
   ],
   "source": [
    "s=\"0\"\n",
    "s1=\"0\"\n",
    "temp1=0\n",
    "temp2=0\n",
    "i=0\n",
    "while i<len(s) or i<len(s1):\n",
    "    if i<len(s):\n",
    "        temp1=temp1*2+int(s[i])\n",
    "    if i<len(s1):\n",
    "        temp2=temp2*2+int(s1[i])\n",
    "    i=i+1\n",
    "print(temp1, temp2)\n",
    "temp3+=temp1+temp2\n",
    "temp1=\"0\"\n",
    "print(temp3)\n",
    "while temp3!=0:\n",
    "    temp1=str(temp3%2)+temp1\n",
    "    temp3=temp3//2\n",
    "print(temp1)"
   ]
  },
  {
   "cell_type": "code",
   "execution_count": 34,
   "id": "3a1b5abb-032b-41fe-ac5b-af7915d55fe1",
   "metadata": {},
   "outputs": [
    {
     "name": "stdout",
     "output_type": "stream",
     "text": [
      "1\n"
     ]
    }
   ],
   "source": [
    "x=2\n",
    "for i in range(1,x):\n",
    "    if x//i==i:\n",
    "        print(i)\n",
    "        break\n",
    "    elif (x/i>i-1 and x/i<=i):\n",
    "        print(i-1)\n",
    "        break\n",
    "    elif (x/i>i and x/i<=i+1):\n",
    "        print(i)\n",
    "        break"
   ]
  },
  {
   "cell_type": "code",
   "execution_count": 6,
   "id": "449249c5-b883-4b38-bcbe-dae0763812c3",
   "metadata": {},
   "outputs": [
    {
     "name": "stdout",
     "output_type": "stream",
     "text": [
      "89\n"
     ]
    }
   ],
   "source": [
    "n=10\n",
    "i=0\n",
    "if n>3:\n",
    "    init=2\n",
    "    last=3\n",
    "    j=0\n",
    "    n=n-3\n",
    "    while j<n:\n",
    "        temp=init+last\n",
    "        init=last\n",
    "        last=temp\n",
    "        j=j+1 \n",
    "else:\n",
    "    temp=n\n",
    "print(temp)"
   ]
  },
  {
   "cell_type": "code",
   "execution_count": 18,
   "id": "e329ddb8-c149-4958-88a8-61d5c37bd08b",
   "metadata": {},
   "outputs": [
    {
     "name": "stdout",
     "output_type": "stream",
     "text": [
      "[1, 2, 6, 45]\n"
     ]
    }
   ],
   "source": [
    "nums1=[1,2,3,0,0,0]\n",
    "nums2=[2,5,6]\n",
    "nums1=nums1+nums2\n",
    "i=0\n",
    "while i<len(nums1):\n",
    "    if nums1[i]==0:\n",
    "        nums1.pop(i)\n",
    "        i=i-1\n",
    "    i=i+1\n",
    "i=0 \n",
    "nums1.sort()\n",
    "print(nums1)\n"
   ]
  },
  {
   "cell_type": "code",
   "execution_count": 7,
   "id": "8310b315-7d6a-4552-8445-bc825956e79e",
   "metadata": {},
   "outputs": [
    {
     "name": "stdout",
     "output_type": "stream",
     "text": [
      "(10, 2)\n"
     ]
    }
   ],
   "source": [
    "'''Create a list storing the number of vowels in the textual representation in the range of 0 to 9 in the following format,\n",
    "[(0, 2), (1, 2), (2, 1)……]\n",
    "Logic: 0 can be written as zero. zero has 2 vowels.'''\n",
    "d={0:2,1:2,2:1,3:2,4:2,5:2,6:1,7:2,8:2,9:2}\n"
   ]
  },
  {
   "cell_type": "code",
   "execution_count": 12,
   "id": "225f2447-4196-4b53-8d0f-dbfe4768cd29",
   "metadata": {},
   "outputs": [
    {
     "name": "stdin",
     "output_type": "stream",
     "text": [
      "Enter start number 10\n",
      "Enter end number 15\n"
     ]
    },
    {
     "name": "stdout",
     "output_type": "stream",
     "text": [
      "There are total 3 numbers between 10 and 15\n"
     ]
    }
   ],
   "source": [
    "'''Write a Python program to count the number of elements in a list within a specified range.\n",
    "Input: l = [2, 16, 9, 10, 15, 8, 11]\n",
    "Input Range:\n",
    "   Start: 9\n",
    "   End:   13\n",
    "Output:3'''\n",
    "l = [2, 16, 9, 10, 15, 8, 11]\n",
    "start=input(\"Enter start number\")\n",
    "end=input(\"Enter end number\")\n",
    "count=0\n",
    "for i in range(len(l)):\n",
    "    if l[i]>=int(start) and l[i]<=int(end):\n",
    "        count=count+1\n",
    "print(\"There are total\",count,\"numbers between\",start,\"and\",end)"
   ]
  },
  {
   "cell_type": "code",
   "execution_count": 22,
   "id": "a7813509-f519-46d5-ac79-f8385d97931d",
   "metadata": {},
   "outputs": [
    {
     "name": "stdout",
     "output_type": "stream",
     "text": [
      "[1, 5]\n"
     ]
    }
   ],
   "source": [
    "'''You are given a list of integers nums and an integer k. Write a function max_subarray_sum that finds the maximum sum of any continuous subarray of length k in nums and returns the corresponding array.\n",
    "   Example Input:\n",
    "    nums = [2, 1, 5, 1, 3, 2]\n",
    "    k = 3\n",
    "   Function Call:\n",
    "max_subarray_sum(nums, k)\n",
    "   Output: \n",
    "  array = [5, 1, 3] \n",
    "   Explanation: The subarray [5, 1, 3] has the maximum sum among all contiguous subarrays of length 3 in nums.'''\n",
    "nums = [2, 1, 5, 1, 3, 2]\n",
    "subarr=[]\n",
    "sums=[]\n",
    "k=2\n",
    "count1=0\n",
    "for i in range(len(nums)-k+1):\n",
    "    temp=nums[slice(i,i+k)]\n",
    "    subarr.append(temp)\n",
    "    count=0\n",
    "    for i in temp:\n",
    "        count=count+i    \n",
    "    if count>count1:\n",
    "        sums.append(count)\n",
    "    else:\n",
    "        count=count\n",
    "        sums.append(count1)\n",
    "ind=subarr[sums.index(max(sums))]\n",
    "print(ind)"
   ]
  },
  {
   "cell_type": "code",
   "execution_count": 28,
   "id": "7eee6616-8969-4a11-9476-00728906db5d",
   "metadata": {},
   "outputs": [
    {
     "name": "stdout",
     "output_type": "stream",
     "text": [
      "a2b3c3\n"
     ]
    }
   ],
   "source": [
    "chars = ['a','a','b','b','b','c','c','c']\n",
    "freq=\"\"\n",
    "\n",
    "for i in range(0,len(chars),count):\n",
    "    count=0\n",
    "    for j in range(len(chars)):\n",
    "        if chars[i]==chars[j]:\n",
    "            count=count+1\n",
    "    freq=freq+chars[i]+str(count)\n",
    "print(freq)"
   ]
  },
  {
   "cell_type": "code",
   "execution_count": 2,
   "id": "e701854d-d015-43a9-bc80-1d439ad18f09",
   "metadata": {},
   "outputs": [
    {
     "name": "stdout",
     "output_type": "stream",
     "text": [
      "[2, 10, 60]\n"
     ]
    }
   ],
   "source": [
    "# filter runs only on true and false\n",
    "def even(data):\n",
    "    if data%2==0:\n",
    "        return True\n",
    "    else:\n",
    "        return False\n",
    "data=[2,5,10,11,45,60]\n",
    "li=list(filter(even, data))\n",
    "print(li)"
   ]
  },
  {
   "cell_type": "code",
   "execution_count": 8,
   "id": "0fb6ae81-50d5-43a2-b929-de22b6af8612",
   "metadata": {},
   "outputs": [
    {
     "name": "stdout",
     "output_type": "stream",
     "text": [
      "60\n"
     ]
    }
   ],
   "source": [
    "import Module as m\n",
    "r=m.add(10,50)\n",
    "print(r)"
   ]
  },
  {
   "cell_type": "code",
   "execution_count": 4,
   "id": "60bd4275-a85b-44c4-be8f-8a3fc8c1c05b",
   "metadata": {},
   "outputs": [
    {
     "name": "stdout",
     "output_type": "stream",
     "text": [
      "0\n"
     ]
    }
   ],
   "source": [
    "from Module import add,sub\n",
    "r=add(4,5)\n",
    "r=sub(45,45)\n",
    "print(r)\n"
   ]
  },
  {
   "cell_type": "code",
   "execution_count": 8,
   "id": "1e7589a5-cc85-4d09-9876-42d5a34a57bb",
   "metadata": {},
   "outputs": [
    {
     "data": {
      "text/plain": [
       "['__builtins__',\n",
       " '__cached__',\n",
       " '__doc__',\n",
       " '__file__',\n",
       " '__loader__',\n",
       " '__name__',\n",
       " '__package__',\n",
       " '__spec__',\n",
       " 'add',\n",
       " 'sub']"
      ]
     },
     "execution_count": 8,
     "metadata": {},
     "output_type": "execute_result"
    }
   ],
   "source": [
    "import Module\n",
    "dir(Module)"
   ]
  },
  {
   "cell_type": "code",
   "execution_count": 2,
   "id": "ebc8ac52-89a5-462c-b4b7-a0b12334b253",
   "metadata": {},
   "outputs": [
    {
     "name": "stdout",
     "output_type": "stream",
     "text": [
      "<module 'Module' from 'C:\\\\Users\\\\H.P\\\\Documents\\\\Python\\\\Module.py'>\n",
      "[10, 20, 30]\n",
      "<module 'Module' from 'C:\\\\Users\\\\H.P\\\\Documents\\\\Python\\\\Module.py'>\n"
     ]
    }
   ],
   "source": [
    "Module=5\n",
    "import Module \n",
    "print(Module)\n",
    "print(Module.l)\n",
    "print(Module)"
   ]
  },
  {
   "cell_type": "code",
   "execution_count": 3,
   "id": "afcb2bc3-555d-42d6-b605-38a8a165d86e",
   "metadata": {},
   "outputs": [
    {
     "name": "stdout",
     "output_type": "stream",
     "text": [
      "30\n",
      "10\n"
     ]
    }
   ],
   "source": [
    "from Module import *\n",
    "print(add(10,20))\n",
    "print(sub(20,10))"
   ]
  },
  {
   "cell_type": "code",
   "execution_count": 5,
   "id": "2b18e0d4-361d-4a88-9b6a-ada23cef688d",
   "metadata": {},
   "outputs": [
    {
     "name": "stdout",
     "output_type": "stream",
     "text": [
      "3.0\n"
     ]
    }
   ],
   "source": [
    "import math as m\n",
    "print(m.log10(1000))-"
   ]
  },
  {
   "cell_type": "code",
   "execution_count": 1,
   "id": "417184f2-dc99-4522-bfd6-510eb438b330",
   "metadata": {},
   "outputs": [
    {
     "name": "stdout",
     "output_type": "stream",
     "text": [
      "1\n",
      "2\n",
      "1\n",
      "2\n"
     ]
    }
   ],
   "source": [
    "#Construction and Destructor\n",
    "class Human:\n",
    "    count=0\n",
    "    def __init__(self):\n",
    "        Human.count+=1\n",
    "    def __del__(self):\n",
    "        Human.count-=1\n",
    "def fun():\n",
    "    h3=Human()\n",
    "    print(Human.count)\n",
    "h1=Human()\n",
    "print(Human.count)\n",
    "h2=Human()\n",
    "print(Human.count)\n",
    "del h1\n",
    "print(Human.count)\n",
    "fun()\n"
   ]
  },
  {
   "cell_type": "code",
   "execution_count": 1,
   "id": "b94249cf-5ecd-469e-ab93-82371907deb4",
   "metadata": {},
   "outputs": [
    {
     "name": "stdout",
     "output_type": "stream",
     "text": [
      "2\n",
      "True\n"
     ]
    }
   ],
   "source": [
    "class Human:\n",
    "    count=0\n",
    "    def __init__(self):\n",
    "        Human.count+=1\n",
    "    def __del__(self):\n",
    "        Human.count-=1\n",
    "def fun():\n",
    "    h3=Human()\n",
    "    print(Human.count)\n",
    "h1=Human()\n",
    "Human.heart=True\n",
    "h2=Human()\n",
    "print(Human.count)\n",
    "print(h2.heart)"
   ]
  },
  {
   "cell_type": "code",
   "execution_count": 36,
   "id": "b6cb9e14-75cf-4f50-89ad-b3fe3a95c020",
   "metadata": {},
   "outputs": [
    {
     "name": "stdout",
     "output_type": "stream",
     "text": [
      "Samarth\n",
      "True\n"
     ]
    }
   ],
   "source": [
    "class Human:\n",
    "    count=0\n",
    "    def __init__(self, tn, gen):\n",
    "        self.tn=tn\n",
    "        self.gen=gen\n",
    "        Human.count+=1\n",
    "    def naamkaran(self,name):\n",
    "        self.permname=name\n",
    "        Human.count-=1\n",
    "def fun():\n",
    "    h3=Human()\n",
    "    print(Human.count)\n",
    "h1=Human(\"Chotu\", \"M\")\n",
    "h2=Human(\"Choti\", \"F\")\n",
    "Human.heart=True\n",
    "h1.naamkaran(\"Samarth\")\n",
    "h2.naamkaran(\"Gupta\")\n",
    "print(h1.permname)\n",
    "print(h2.heart)\n",
    "del h1.tn"
   ]
  },
  {
   "cell_type": "code",
   "execution_count": 5,
   "id": "de368ffb-eb13-40b3-bf2b-a57afd527827",
   "metadata": {},
   "outputs": [
    {
     "name": "stdout",
     "output_type": "stream",
     "text": [
      "[<class 'str'>, <class 'int'>, <class 'float'>]\n"
     ]
    }
   ],
   "source": [
    "l=[\"Samarth\", 2,2.5]\n",
    "li=list(map(type,l))\n",
    "print(li)"
   ]
  },
  {
   "cell_type": "code",
   "execution_count": 2,
   "id": "f17d5f6e-4bc8-49f8-8f22-66c481d61b0b",
   "metadata": {},
   "outputs": [
    {
     "name": "stdout",
     "output_type": "stream",
     "text": [
      "True\n",
      "i can wlk\n",
      "Carnivours\n",
      "i eat animal\n",
      "i can wlk\n",
      "True\n"
     ]
    }
   ],
   "source": [
    "#single level\n",
    "class animal:\n",
    "    tail=True\n",
    "    def walk(self):\n",
    "        print(\"i can wlk\")\n",
    "class lion (animal):\n",
    "    types = \"Carnivours\"\n",
    "    def eatinghabit(self):\n",
    "        print(\"I eat animals\")\n",
    "    def walk(self):\n",
    "        print(\"i eat animal\")\n",
    "    def walkparent(self):\n",
    "        super().walk() \n",
    "\n",
    "a1=animal()\n",
    "print(a1.tail)\n",
    "a1.walk()\n",
    "l1=lion()\n",
    "print(l1.types)\n",
    "l1.walk()\n",
    "l1.walkparent()\n",
    "print(l1.tail)"
   ]
  },
  {
   "cell_type": "code",
   "execution_count": 19,
   "id": "5733d5f9-ca2b-458b-8ff1-54faf871f99d",
   "metadata": {},
   "outputs": [
    {
     "name": "stdout",
     "output_type": "stream",
     "text": [
      "Helo\n",
      "Samarth\n",
      "Else\n"
     ]
    }
   ],
   "source": [
    "#multiple\n",
    "class dad:\n",
    "    Name=\"Samarth\"\n",
    "    def habit(self):\n",
    "        print(\"Cricket\")\n",
    "class mom:\n",
    "    name=\"Else\"\n",
    "    def habit(self):\n",
    "        print(\"Nothing\")\n",
    "class child(mom,dad):\n",
    "    \n",
    "    def hel(self):\n",
    "        print(\"Helo\")\n",
    "h1=child()\n",
    "h1.hel()\n",
    "h2=dad()\n",
    "print(h1.Name)\n",
    "print(h1.name)\n",
    "        "
   ]
  },
  {
   "cell_type": "code",
   "execution_count": 24,
   "id": "8677ba79-cb90-411e-9b60-c39f18bf32d2",
   "metadata": {},
   "outputs": [
    {
     "name": "stdout",
     "output_type": "stream",
     "text": [
      "Drinking\n",
      "Drinking\n",
      "Samarth Samarth\n"
     ]
    }
   ],
   "source": [
    "#hierarachical\n",
    "class dad:\n",
    "    Name=\"Samarth\"\n",
    "    def habit(self):\n",
    "        print(\"Cricket\")\n",
    "class child1(dad):\n",
    "    name=\"Sam\"\n",
    "    def hab(self):\n",
    "        print(\"Drink\")\n",
    "class child2(dad):\n",
    "    name = \"arth\"\n",
    "    def hub(self):\n",
    "        print(\"Dare\")\n",
    "c1 = child1()\n",
    "c1.habit()\n",
    "c2=child2()\n",
    "c2.habit()\n",
    "print(c1.Name,c2.Name)"
   ]
  },
  {
   "cell_type": "code",
   "execution_count": 27,
   "id": "66f8e012-632c-4ac3-afcd-c051fb15b46e",
   "metadata": {},
   "outputs": [
    {
     "name": "stdout",
     "output_type": "stream",
     "text": [
      "golf\n"
     ]
    }
   ],
   "source": [
    "#multilevel\n",
    "class dad:\n",
    "    Name=\"Samarth\"\n",
    "    def habit(self):\n",
    "        print(\"Cricket\")\n",
    "class son(dad):\n",
    "    def hab(self):\n",
    "        print(\"golf\")\n",
    "class grandson(son):\n",
    "    def hub(self):\n",
    "        print(\"Hockey\")\n",
    "gs=grandson()\n",
    "gs.hab()"
   ]
  },
  {
   "cell_type": "code",
   "execution_count": 17,
   "id": "9a844f6a-235c-418f-9370-bf5560fcb5dc",
   "metadata": {},
   "outputs": [
    {
     "name": "stdout",
     "output_type": "stream",
     "text": [
      "Can Fly\n",
      "Can Fly\n",
      "Can't Fly\n",
      "C\n",
      "Can Fly\n",
      "C\n"
     ]
    }
   ],
   "source": [
    "#polymorsphism\n",
    "class penuin:\n",
    "    def fly (self):\n",
    "        print(\"Can't Fly\")\n",
    "class pigeon (penuin):\n",
    "    def fly (self):\n",
    "        print(\"Can Fly\")\n",
    "def flying(x):\n",
    "    x.fly()\n",
    "    print(\"C\")\n",
    "pe1=penuin()\n",
    "pe2=pigeon()\n",
    "pe2.fly()\n",
    "pe2.fly()\n",
    "flying(pe1)\n",
    "flying(pe2)"
   ]
  },
  {
   "cell_type": "code",
   "execution_count": 28,
   "id": "d1926f77-28f3-4dd0-b3d8-21eff195a96d",
   "metadata": {},
   "outputs": [
    {
     "name": "stdout",
     "output_type": "stream",
     "text": [
      "Pumping\n",
      "20\n",
      "10\n",
      "Pumping\n",
      "10\n",
      "11\n"
     ]
    }
   ],
   "source": [
    "#Encapsulation\n",
    "class Human:\n",
    "    __bg=20\n",
    "    def __pumpblood(self):\n",
    "        print(\"Pumping\")\n",
    "    def heartusage(self):\n",
    "        self.__pumpblood()\n",
    "        print(self.__bg)\n",
    "        return self.__bg\n",
    "    def heart(self,new):\n",
    "        self.__bg=new\n",
    "        print(self.__bg)\n",
    "h=Human()\n",
    "h.heartusage()\n",
    "h.heart(10)\n",
    "h.heart(h.heartusage()+1)"
   ]
  },
  {
   "cell_type": "code",
   "execution_count": 6,
   "id": "d8679149-c739-4820-9c6b-6746b3af434d",
   "metadata": {},
   "outputs": [
    {
     "name": "stdout",
     "output_type": "stream",
     "text": [
      "[[1 2 3]\n",
      " [4 5 6]]\n",
      "Overall mean: 3.5\n",
      "Row mean: [2. 5.]\n",
      "Column mean: [2.5 3.5 4.5]\n"
     ]
    }
   ],
   "source": [
    "import numpy as np\n",
    "\n",
    "# Create a 2D array\n",
    "data = np.array([[1, 2, 3], \n",
    "                 [4, 5, 6]])\n",
    "print(data)\n",
    "# Compute the mean of the entire array\n",
    "overall_mean = np.mean(data)\n",
    "print(\"Overall mean:\", overall_mean)\n",
    "\n",
    "# Compute the mean along rows (axis=1)\n",
    "row_mean = np.mean(data, axis=1)\n",
    "print(\"Row mean:\", row_mean)\n",
    "\n",
    "# Compute the mean along columns (axis=0)\n",
    "column_mean = np.mean(data, axis=0)\n",
    "print(\"Column mean:\", column_mean)"
   ]
  },
  {
   "cell_type": "code",
   "execution_count": 7,
   "id": "f26a8aca-e246-409f-86db-e086bbd02a47",
   "metadata": {},
   "outputs": [],
   "source": [
    "import pyqrcode\n",
    "import png\n",
    "link = \"https://edslash.com/python-projects/\"\n",
    "qrcode = pyqrcode.create(link)\n",
    "qrcode.png(\"New.png\",scale=5)"
   ]
  },
  {
   "cell_type": "code",
   "execution_count": 24,
   "id": "af44ced5-7302-4534-a49c-f2074e95021a",
   "metadata": {},
   "outputs": [
    {
     "name": "stdout",
     "output_type": "stream",
     "text": [
      "Collecting pypngNote: you may need to restart the kernel to use updated packages.\n",
      "\n",
      "  Downloading pypng-0.20220715.0-py3-none-any.whl.metadata (13 kB)\n",
      "Downloading pypng-0.20220715.0-py3-none-any.whl (58 kB)\n",
      "Installing collected packages: pypng\n",
      "Successfully installed pypng-0.20220715.0\n"
     ]
    },
    {
     "name": "stderr",
     "output_type": "stream",
     "text": [
      "\n",
      "[notice] A new release of pip is available: 24.2 -> 24.3.1\n",
      "[notice] To update, run: python.exe -m pip install --upgrade pip\n"
     ]
    }
   ],
   "source": [
    "pip install pypng"
   ]
  },
  {
   "cell_type": "code",
   "execution_count": 29,
   "id": "b61b0306-c601-4078-87f7-caa405970eca",
   "metadata": {},
   "outputs": [],
   "source": [
    "import pyqrcode\n",
    "import png\n",
    "link = \"https://google.com/\"\n",
    "qrcode = pyqrcode.create(link)\n",
    "data = qrcode.png(\"gogle.png\",scale=10)\n"
   ]
  },
  {
   "cell_type": "code",
   "execution_count": 8,
   "id": "ffb70b7f-c9a0-40e1-bc6e-f1c3b5f3098e",
   "metadata": {},
   "outputs": [],
   "source": [
    "import tkinter as t\n",
    "m = t.Tk(className=\"First\")\n",
    "n = Label(m, text=\"hello World\")\n",
    "button = t.Button(m, text =\"continue\")\n",
    "n.pack() \n",
    "button.pack()\n",
    "m.mainloop()"
   ]
  },
  {
   "cell_type": "code",
   "execution_count": 57,
   "id": "35f05985-965f-450f-acc1-b819080336e8",
   "metadata": {},
   "outputs": [],
   "source": [
    "import tkinter as tk\n",
    "\n",
    "r = tk.Tk()\n",
    "r.title('Counting Seconds')\n",
    "button = tk.Button(r, text='Stop', width=25, command=r.destroy)\n",
    "button.pack()\n",
    "r.mainloop()\n"
   ]
  },
  {
   "cell_type": "code",
   "execution_count": 12,
   "id": "1d0cd93f-4b50-45ee-95c5-99e7f56c1859",
   "metadata": {},
   "outputs": [],
   "source": [
    "from tkinter import *\n",
    "\n",
    "master = Tk()\n",
    "Label(master, text='First Name').grid(row=0)\n",
    "Label(master, text='Last Name').grid(row=1)\n",
    "Label(master, text='Last name').grid(row=2)\n",
    "e1 = Entry(master)\n",
    "e2 = Entry(master)\n",
    "e3 = Entry(master)\n",
    "e1.grid(row=0, column=1)\n",
    "e2.grid(row=1, column=1)\n",
    "e3.grid(row=2, column=1)\n",
    "mainloop()"
   ]
  },
  {
   "cell_type": "code",
   "execution_count": 6,
   "id": "ee0c846a-55f4-4618-bc34-508ce6037f2c",
   "metadata": {},
   "outputs": [],
   "source": [
    "import tkinter as tk\n",
    "def demo():\n",
    "    i=0\n",
    "    while i<=10:\n",
    "        tk.Label(n, text=i).pack()\n",
    "        i=i+1\n",
    "n = tk.Tk()\n",
    "n.title(\"First Window\")\n",
    "w = tk.Label(n, text=\"Hello This is first page\")\n",
    "w.pack()\n",
    "b = tk.Button(n, text = \"Start\",command=demo)\n",
    "b.pack()\n",
    "b1 = tk.Button(n, text=\"Close\", command=n.destroy)\n",
    "b1.pack()\n",
    "n.mainloop()"
   ]
  },
  {
   "cell_type": "code",
   "execution_count": 11,
   "id": "949aa4d7-8cf5-4114-8dac-968542f82467",
   "metadata": {},
   "outputs": [
    {
     "ename": "TclError",
     "evalue": "cannot use geometry manager grid inside . which already has slaves managed by pack",
     "output_type": "error",
     "traceback": [
      "\u001b[1;31m---------------------------------------------------------------------------\u001b[0m",
      "\u001b[1;31mTclError\u001b[0m                                  Traceback (most recent call last)",
      "Cell \u001b[1;32mIn[11], line 7\u001b[0m\n\u001b[0;32m      5\u001b[0m w \u001b[38;5;241m=\u001b[39m tk\u001b[38;5;241m.\u001b[39mLabel(n, text\u001b[38;5;241m=\u001b[39m\u001b[38;5;124m\"\u001b[39m\u001b[38;5;124mHello This is first page\u001b[39m\u001b[38;5;124m\"\u001b[39m)\n\u001b[0;32m      6\u001b[0m w\u001b[38;5;241m.\u001b[39mpack()\n\u001b[1;32m----> 7\u001b[0m c1\u001b[38;5;241m=\u001b[39m\u001b[43mtk\u001b[49m\u001b[38;5;241;43m.\u001b[39;49m\u001b[43mLabel\u001b[49m\u001b[43m(\u001b[49m\u001b[43mn\u001b[49m\u001b[43m,\u001b[49m\u001b[43mtext\u001b[49m\u001b[38;5;241;43m=\u001b[39;49m\u001b[38;5;124;43m\"\u001b[39;49m\u001b[38;5;124;43mFirst Name\u001b[39;49m\u001b[38;5;124;43m\"\u001b[39;49m\u001b[43m)\u001b[49m\u001b[38;5;241;43m.\u001b[39;49m\u001b[43mgrid\u001b[49m\u001b[43m(\u001b[49m\u001b[43mrow\u001b[49m\u001b[38;5;241;43m=\u001b[39;49m\u001b[38;5;241;43m0\u001b[39;49m\u001b[43m)\u001b[49m\n\u001b[0;32m      8\u001b[0m c2\u001b[38;5;241m=\u001b[39mtk\u001b[38;5;241m.\u001b[39mLabel(n,Text\u001b[38;5;241m=\u001b[39m\u001b[38;5;124m\"\u001b[39m\u001b[38;5;124mLast Name\u001b[39m\u001b[38;5;124m\"\u001b[39m)\u001b[38;5;241m.\u001b[39mgrid(row\u001b[38;5;241m=\u001b[39m\u001b[38;5;241m1\u001b[39m)\n\u001b[0;32m      9\u001b[0m c3 \u001b[38;5;241m=\u001b[39mtk\u001b[38;5;241m.\u001b[39mLabel(n,text\u001b[38;5;241m=\u001b[39m\u001b[38;5;124m\"\u001b[39m\u001b[38;5;124mEmail\u001b[39m\u001b[38;5;124m\"\u001b[39m)\u001b[38;5;241m.\u001b[39mgrid(row\u001b[38;5;241m=\u001b[39m\u001b[38;5;241m2\u001b[39m)\n",
      "File \u001b[1;32m~\\AppData\\Local\\Programs\\Python\\Python312\\Lib\\tkinter\\__init__.py:2580\u001b[0m, in \u001b[0;36mGrid.grid_configure\u001b[1;34m(self, cnf, **kw)\u001b[0m\n\u001b[0;32m   2565\u001b[0m \u001b[38;5;28;01mdef\u001b[39;00m \u001b[38;5;21mgrid_configure\u001b[39m(\u001b[38;5;28mself\u001b[39m, cnf\u001b[38;5;241m=\u001b[39m{}, \u001b[38;5;241m*\u001b[39m\u001b[38;5;241m*\u001b[39mkw):\n\u001b[0;32m   2566\u001b[0m \u001b[38;5;250m    \u001b[39m\u001b[38;5;124;03m\"\"\"Position a widget in the parent widget in a grid. Use as options:\u001b[39;00m\n\u001b[0;32m   2567\u001b[0m \u001b[38;5;124;03m    column=number - use cell identified with given column (starting with 0)\u001b[39;00m\n\u001b[0;32m   2568\u001b[0m \u001b[38;5;124;03m    columnspan=number - this widget will span several columns\u001b[39;00m\n\u001b[1;32m   (...)\u001b[0m\n\u001b[0;32m   2578\u001b[0m \u001b[38;5;124;03m                  widget stick to the cell boundary\u001b[39;00m\n\u001b[0;32m   2579\u001b[0m \u001b[38;5;124;03m    \"\"\"\u001b[39;00m\n\u001b[1;32m-> 2580\u001b[0m     \u001b[38;5;28;43mself\u001b[39;49m\u001b[38;5;241;43m.\u001b[39;49m\u001b[43mtk\u001b[49m\u001b[38;5;241;43m.\u001b[39;49m\u001b[43mcall\u001b[49m\u001b[43m(\u001b[49m\n\u001b[0;32m   2581\u001b[0m \u001b[43m          \u001b[49m\u001b[43m(\u001b[49m\u001b[38;5;124;43m'\u001b[39;49m\u001b[38;5;124;43mgrid\u001b[39;49m\u001b[38;5;124;43m'\u001b[39;49m\u001b[43m,\u001b[49m\u001b[43m \u001b[49m\u001b[38;5;124;43m'\u001b[39;49m\u001b[38;5;124;43mconfigure\u001b[39;49m\u001b[38;5;124;43m'\u001b[39;49m\u001b[43m,\u001b[49m\u001b[43m \u001b[49m\u001b[38;5;28;43mself\u001b[39;49m\u001b[38;5;241;43m.\u001b[39;49m\u001b[43m_w\u001b[49m\u001b[43m)\u001b[49m\n\u001b[0;32m   2582\u001b[0m \u001b[43m          \u001b[49m\u001b[38;5;241;43m+\u001b[39;49m\u001b[43m \u001b[49m\u001b[38;5;28;43mself\u001b[39;49m\u001b[38;5;241;43m.\u001b[39;49m\u001b[43m_options\u001b[49m\u001b[43m(\u001b[49m\u001b[43mcnf\u001b[49m\u001b[43m,\u001b[49m\u001b[43m \u001b[49m\u001b[43mkw\u001b[49m\u001b[43m)\u001b[49m\u001b[43m)\u001b[49m\n",
      "\u001b[1;31mTclError\u001b[0m: cannot use geometry manager grid inside . which already has slaves managed by pack"
     ]
    }
   ],
   "source": [
    "import tkinter as tk\n",
    "\n",
    "n = tk.Tk()\n",
    "n.title(\"First Window\")\n",
    "w = tk.Label(n, text=\"Hello This is first page\")\n",
    "w.pack()\n",
    "c1=tk.Label(n,text=\"First Name\").grid(row=0)\n",
    "c2=tk.Label(n,Text=\"Last Name\").grid(row=1)\n",
    "c3 =tk.Label(n,text=\"Email\").grid(row=2)\n",
    "f1=Entry(n)\n",
    "l1=Entry(n)\n",
    "Em=Entry(n)\n",
    "f1.grid(row=0,column=1)\n",
    "l1.grid(row=1,column=1)\n",
    "Em.grid(row=2,column=1)\n",
    "n.mainloop()"
   ]
  },
  {
   "cell_type": "code",
   "execution_count": 20,
   "id": "1d604c65-4818-4d15-929d-fcbb7727c1ab",
   "metadata": {},
   "outputs": [
    {
     "ename": "TclError",
     "evalue": "cannot use geometry manager grid inside . which already has slaves managed by pack",
     "output_type": "error",
     "traceback": [
      "\u001b[1;31m---------------------------------------------------------------------------\u001b[0m",
      "\u001b[1;31mTclError\u001b[0m                                  Traceback (most recent call last)",
      "Cell \u001b[1;32mIn[20], line 7\u001b[0m\n\u001b[0;32m      5\u001b[0m w \u001b[38;5;241m=\u001b[39m tk\u001b[38;5;241m.\u001b[39mLabel(n, text\u001b[38;5;241m=\u001b[39m\u001b[38;5;124m\"\u001b[39m\u001b[38;5;124mHello This is first page\u001b[39m\u001b[38;5;124m\"\u001b[39m)\n\u001b[0;32m      6\u001b[0m w\u001b[38;5;241m.\u001b[39mpack()\n\u001b[1;32m----> 7\u001b[0m \u001b[43mLabel\u001b[49m\u001b[43m(\u001b[49m\u001b[43mn\u001b[49m\u001b[43m,\u001b[49m\u001b[43mtext\u001b[49m\u001b[38;5;241;43m=\u001b[39;49m\u001b[38;5;124;43m\"\u001b[39;49m\u001b[38;5;124;43mFirstName\u001b[39;49m\u001b[38;5;124;43m\"\u001b[39;49m\u001b[43m)\u001b[49m\u001b[38;5;241;43m.\u001b[39;49m\u001b[43mgrid\u001b[49m\u001b[43m(\u001b[49m\u001b[43mrow\u001b[49m\u001b[38;5;241;43m=\u001b[39;49m\u001b[38;5;241;43m0\u001b[39;49m\u001b[43m)\u001b[49m\n\u001b[0;32m      8\u001b[0m Label(n,Text\u001b[38;5;241m=\u001b[39m\u001b[38;5;124m\"\u001b[39m\u001b[38;5;124mLast Name\u001b[39m\u001b[38;5;124m\"\u001b[39m)\u001b[38;5;241m.\u001b[39mgrid(row\u001b[38;5;241m=\u001b[39m\u001b[38;5;241m1\u001b[39m)\n\u001b[0;32m      9\u001b[0m Label(n,text\u001b[38;5;241m=\u001b[39m\u001b[38;5;124m\"\u001b[39m\u001b[38;5;124mEmail\u001b[39m\u001b[38;5;124m\"\u001b[39m)\u001b[38;5;241m.\u001b[39mgrid(row\u001b[38;5;241m=\u001b[39m\u001b[38;5;241m2\u001b[39m)\n",
      "File \u001b[1;32m~\\AppData\\Local\\Programs\\Python\\Python312\\Lib\\tkinter\\__init__.py:2580\u001b[0m, in \u001b[0;36mGrid.grid_configure\u001b[1;34m(self, cnf, **kw)\u001b[0m\n\u001b[0;32m   2565\u001b[0m \u001b[38;5;28;01mdef\u001b[39;00m \u001b[38;5;21mgrid_configure\u001b[39m(\u001b[38;5;28mself\u001b[39m, cnf\u001b[38;5;241m=\u001b[39m{}, \u001b[38;5;241m*\u001b[39m\u001b[38;5;241m*\u001b[39mkw):\n\u001b[0;32m   2566\u001b[0m \u001b[38;5;250m    \u001b[39m\u001b[38;5;124;03m\"\"\"Position a widget in the parent widget in a grid. Use as options:\u001b[39;00m\n\u001b[0;32m   2567\u001b[0m \u001b[38;5;124;03m    column=number - use cell identified with given column (starting with 0)\u001b[39;00m\n\u001b[0;32m   2568\u001b[0m \u001b[38;5;124;03m    columnspan=number - this widget will span several columns\u001b[39;00m\n\u001b[1;32m   (...)\u001b[0m\n\u001b[0;32m   2578\u001b[0m \u001b[38;5;124;03m                  widget stick to the cell boundary\u001b[39;00m\n\u001b[0;32m   2579\u001b[0m \u001b[38;5;124;03m    \"\"\"\u001b[39;00m\n\u001b[1;32m-> 2580\u001b[0m     \u001b[38;5;28;43mself\u001b[39;49m\u001b[38;5;241;43m.\u001b[39;49m\u001b[43mtk\u001b[49m\u001b[38;5;241;43m.\u001b[39;49m\u001b[43mcall\u001b[49m\u001b[43m(\u001b[49m\n\u001b[0;32m   2581\u001b[0m \u001b[43m          \u001b[49m\u001b[43m(\u001b[49m\u001b[38;5;124;43m'\u001b[39;49m\u001b[38;5;124;43mgrid\u001b[39;49m\u001b[38;5;124;43m'\u001b[39;49m\u001b[43m,\u001b[49m\u001b[43m \u001b[49m\u001b[38;5;124;43m'\u001b[39;49m\u001b[38;5;124;43mconfigure\u001b[39;49m\u001b[38;5;124;43m'\u001b[39;49m\u001b[43m,\u001b[49m\u001b[43m \u001b[49m\u001b[38;5;28;43mself\u001b[39;49m\u001b[38;5;241;43m.\u001b[39;49m\u001b[43m_w\u001b[49m\u001b[43m)\u001b[49m\n\u001b[0;32m   2582\u001b[0m \u001b[43m          \u001b[49m\u001b[38;5;241;43m+\u001b[39;49m\u001b[43m \u001b[49m\u001b[38;5;28;43mself\u001b[39;49m\u001b[38;5;241;43m.\u001b[39;49m\u001b[43m_options\u001b[49m\u001b[43m(\u001b[49m\u001b[43mcnf\u001b[49m\u001b[43m,\u001b[49m\u001b[43m \u001b[49m\u001b[43mkw\u001b[49m\u001b[43m)\u001b[49m\u001b[43m)\u001b[49m\n",
      "\u001b[1;31mTclError\u001b[0m: cannot use geometry manager grid inside . which already has slaves managed by pack"
     ]
    }
   ],
   "source": [
    "import tkinter as tk\n",
    "\n",
    "n = tk.Tk()\n",
    "n.title(\"First Window\")\n",
    "w = tk.Label(n, text=\"Hello This is first page\")\n",
    "w.pack()\n",
    "Label(n,text=\"FirstName\").grid(row=0)\n",
    "Label(n,Text=\"Last Name\").grid(row=1)\n",
    "Label(n,text=\"Email\").grid(row=2)\n",
    "f1=Entry(n)\n",
    "l1=Entry(n)\n",
    "Em=Entry(n)\n",
    "f1.grid(row=0,column=1)\n",
    "l1.grid(row=1,column=1)\n",
    "Em.grid(row=2,column=1)\n",
    "n.mainloop()"
   ]
  },
  {
   "cell_type": "code",
   "execution_count": 21,
   "id": "4b64db17-724f-49b5-b129-c2da3e27f229",
   "metadata": {},
   "outputs": [],
   "source": [
    "from tkinter import *\n",
    "\n",
    "top = Tk()\n",
    "Lb = Listbox(top)\n",
    "Lb.insert(1, 'Python')\n",
    "Lb.insert(2, 'Java')\n",
    "Lb.insert(3, 'C++')\n",
    "Lb.insert(4, 'Any other')\n",
    "Lb.pack()\n",
    "top.mainloop()\n"
   ]
  },
  {
   "cell_type": "code",
   "execution_count": 27,
   "id": "699a0d91-c175-4280-bb49-e71e7544b8f9",
   "metadata": {},
   "outputs": [
    {
     "ename": "TypeError",
     "evalue": "can only concatenate str (not \"int\") to str",
     "output_type": "error",
     "traceback": [
      "\u001b[1;31m---------------------------------------------------------------------------\u001b[0m",
      "\u001b[1;31mTypeError\u001b[0m                                 Traceback (most recent call last)",
      "Cell \u001b[1;32mIn[27], line 9\u001b[0m\n\u001b[0;32m      6\u001b[0m mylist \u001b[38;5;241m=\u001b[39m Listbox(root, yscrollcommand\u001b[38;5;241m=\u001b[39mscrollbar\u001b[38;5;241m.\u001b[39mset)\n\u001b[0;32m      8\u001b[0m \u001b[38;5;28;01mfor\u001b[39;00m line \u001b[38;5;129;01min\u001b[39;00m \u001b[38;5;28mrange\u001b[39m(\u001b[38;5;241m100\u001b[39m):\n\u001b[1;32m----> 9\u001b[0m     mylist\u001b[38;5;241m.\u001b[39minsert(END, \u001b[38;5;124;43m'\u001b[39;49m\u001b[38;5;124;43mThis is line number\u001b[39;49m\u001b[38;5;124;43m'\u001b[39;49m\u001b[43m \u001b[49m\u001b[38;5;241;43m+\u001b[39;49m\u001b[43m \u001b[49m\u001b[43mline\u001b[49m)\n\u001b[0;32m     11\u001b[0m mylist\u001b[38;5;241m.\u001b[39mpack(side\u001b[38;5;241m=\u001b[39mLEFT, fill\u001b[38;5;241m=\u001b[39mBOTH)\n\u001b[0;32m     12\u001b[0m scrollbar\u001b[38;5;241m.\u001b[39mconfig(command\u001b[38;5;241m=\u001b[39mmylist\u001b[38;5;241m.\u001b[39myview)\n",
      "\u001b[1;31mTypeError\u001b[0m: can only concatenate str (not \"int\") to str"
     ]
    }
   ],
   "source": [
    "from tkinter import *\n",
    "\n",
    "root = Tk()\n",
    "scrollbar = Scrollbar(root)\n",
    "scrollbar.pack(side=RIGHT, fill=Y)\n",
    "mylist = Listbox(root, yscrollcommand=scrollbar.set)\n",
    "\n",
    "for line in range(100):\n",
    "    mylist.insert(END, 'This is line number' + str(line))\n",
    "    \n",
    "mylist.pack(side=LEFT, fill=BOTH)\n",
    "scrollbar.config(command=mylist.yview)\n",
    "mainloop()"
   ]
  },
  {
   "cell_type": "code",
   "execution_count": 26,
   "id": "8715792b-8650-41b5-929b-314b4b61c629",
   "metadata": {},
   "outputs": [],
   "source": [
    "from tkinter import *\n",
    "\n",
    "root = Tk()\n",
    "menu = Menu(root)\n",
    "root.config(menu=menu)\n",
    "filemenu = Menu(menu)\n",
    "menu.add_cascade(label='File', menu=filemenu)\n",
    "filemenu.add_command(label='New')\n",
    "filemenu.add_command(label='Open...')\n",
    "filemenu.add_separator()\n",
    "filemenu.add_command(label='Exit', command=root.quit)\n",
    "helpmenu = Menu(menu)\n",
    "menu.add_cascade(label='Help', menu=helpmenu)\n",
    "helpmenu.add_command(label='About')\n",
    "mainloop()"
   ]
  },
  {
   "cell_type": "code",
   "execution_count": 30,
   "id": "12f4463f-7f81-4a41-9ef6-aa218afcb5ff",
   "metadata": {},
   "outputs": [],
   "source": [
    "import tkinter as tk\n",
    "from tkinter import ttk\n",
    "\n",
    "def on_select(event):\n",
    "    selected_item = combo_box.get()\n",
    "    label.config(text=\"Selected Item: \" + selected_item)\n",
    "\n",
    "root = tk.Tk()\n",
    "root.title(\"Combobox Example\")\n",
    "\n",
    "# Create a label\n",
    "label = tk.Label(root, text=\"Selected Item: \")\n",
    "label.pack(pady=10)\n",
    "\n",
    "# Create a Combobox widget\n",
    "combo_box = ttk.Combobox(root, values=[\"Option 1\", \"Option 2\", \"Option 3\"])\n",
    "combo_box.pack(pady=5)\n",
    "\n",
    "# Set default value\n",
    "combo_box.set(\"Option 1\")\n",
    "\n",
    "# Bind event to selection\n",
    "combo_box.bind(\"<<ComboboxSelected>>\", on_select)\n",
    "\n",
    "root.mainloop()\n"
   ]
  },
  {
   "cell_type": "code",
   "execution_count": 32,
   "id": "c3969dab-3163-4531-894e-38659f25dc2f",
   "metadata": {},
   "outputs": [],
   "source": [
    "from tkinter import *\n",
    "\n",
    "root = Tk()\n",
    "root.title('GfG')\n",
    "top = Toplevel()\n",
    "top.title('Python')\n",
    "top.mainloop()\n"
   ]
  },
  {
   "cell_type": "code",
   "execution_count": 37,
   "id": "d700e61d-e008-49d6-ac9d-28d58a0f88c8",
   "metadata": {},
   "outputs": [],
   "source": [
    "import tkinter as tk\n",
    "\n",
    "root = tk.Tk()\n",
    "root.title(\"Color Options in Tkinter\")\n",
    "\n",
    "# Create a button with active background and foreground colors\n",
    "button = tk.Button(root, text=\"Click Me\", activebackground=\"yellow\", activeforeground=\"black\")\n",
    "button.pack()\n",
    "\n",
    "# Create a label with background and foreground colors\n",
    "label = tk.Label(root, text=\"Hello, Tkinter!\", bg=\"lightgray\", fg=\"black\")\n",
    "label.pack()\n",
    "\n",
    "# Create an Entry widget with selection colors\n",
    "entry = tk.Entry(root, selectbackground=\"yellow\", selectforeground=\"black\")\n",
    "entry.pack()\n",
    "\n",
    "root.mainloop()"
   ]
  },
  {
   "cell_type": "code",
   "execution_count": 40,
   "id": "7eeca5c8-2dba-4c4c-8110-67b49efd389a",
   "metadata": {},
   "outputs": [],
   "source": [
    "from tkinter import *\n",
    "\n",
    "master = Tk()\n",
    "w = Canvas(master, width=40, height=60)\n",
    "w.pack()\n",
    "canvas_height=20\n",
    "canvas_width=200\n",
    "y = int(canvas_height)\n",
    "w.create_line(0, y, canvas_width, y )\n",
    "mainloop()"
   ]
  },
  {
   "cell_type": "code",
   "execution_count": 1,
   "id": "78a9d42f-4112-49d4-bfe3-ab8922f5cf18",
   "metadata": {},
   "outputs": [],
   "source": [
    "from tkinter import *\n",
    "\n",
    "root = Tk()\n",
    "T = Text(root, height=2, width=30)\n",
    "T.pack()\n",
    "T.insert(END, 'GeeksforGeeks\\nBEST WEBSITE\\n')\n",
    "mainloop()"
   ]
  },
  {
   "cell_type": "code",
   "execution_count": 14,
   "id": "e0cd638a-d5a9-47a6-81d1-ad91bfc2afcd",
   "metadata": {},
   "outputs": [
    {
     "name": "stderr",
     "output_type": "stream",
     "text": [
      "Exception in Tkinter callback\n",
      "Traceback (most recent call last):\n",
      "  File \"C:\\Users\\H.P\\AppData\\Local\\Programs\\Python\\Python312\\Lib\\tkinter\\__init__.py\", line 1968, in __call__\n",
      "    return self.func(*args)\n",
      "           ^^^^^^^^^^^^^^^^\n",
      "  File \"C:\\Users\\H.P\\AppData\\Local\\Temp\\ipykernel_14796\\2888106729.py\", line 12, in <lambda>\n",
      "    w = Button(f, text=\"Show\", command=lambda: demo(v)).grid(row=2, column=0)\n",
      "                                               ^^^^^^^\n",
      "  File \"C:\\Users\\H.P\\AppData\\Local\\Temp\\ipykernel_14796\\2888106729.py\", line 5, in demo\n",
      "    Label(f, text = a).pack()\n",
      "  File \"C:\\Users\\H.P\\AppData\\Local\\Programs\\Python\\Python312\\Lib\\tkinter\\__init__.py\", line 2483, in pack_configure\n",
      "    self.tk.call(\n",
      "_tkinter.TclError: cannot use geometry manager pack inside . which already has slaves managed by grid\n"
     ]
    }
   ],
   "source": [
    "from tkinter import *\n",
    "\n",
    "def demo(v):\n",
    "    a = v\n",
    "    Label(f, text = a).pack()\n",
    "    \n",
    "f = Tk()\n",
    "w = Label(f, text=\"Enter Email:\").grid(row=0)\n",
    "v=StringVar()\n",
    "w = Entry(f,textvariable = v)\n",
    "w.grid(row=0,column=1)\n",
    "w = Button(f, text=\"Show\", command=lambda: demo(v)).grid(row=2, column=0)\n",
    "f.mainloop()"
   ]
  },
  {
   "cell_type": "code",
   "execution_count": null,
   "id": "6f2f6ea8-ad12-4cb8-907b-b22ae13903f3",
   "metadata": {},
   "outputs": [],
   "source": [
    "from tkinter import *\n",
    "import tkinter as tk\n",
    "def demo():\n",
    "    flag = False\n",
    "    v = e1.get()\n",
    "    p = e2.get()\n",
    "    g = Toplevel()\n",
    "    g.title(\"New Window\")\n",
    "    email = [\"sg2195594@gmail.com\",\"Samarthg442@gmail.com\",\"edslash@gmail.com\"]\n",
    "    pw = [\"Samar@123\",\"Abcd@123\",\"Edslash123@\"]\n",
    "    for i in range(len(email)):\n",
    "        if v == email[i] and p == pw[i]:\n",
    "            flag = True\n",
    "            break\n",
    "    if flag:\n",
    "        Label(g, text = \"Login Successful\").grid() \n",
    "    else:\n",
    "        Label(g, text = \"Login Failed\").grid()\n",
    "    g.mainloop()\n",
    "    \n",
    "f =Tk()\n",
    "Label(f, text = \"Enter Email\").grid(row=0,column=3)\n",
    "Label(f, text = \"Password\").grid(row=1)\n",
    "v = StringVar()\n",
    "p = StringVar()\n",
    "e1 = Entry(f,textvariable = v,text=\"Enter email\")\n",
    "e2 = Entry(f,textvariable = p)\n",
    "e1.grid(row=0, column = 1)\n",
    "e2.grid(row=1, column = 1)\n",
    "tk.Button(f, text= \"Login\", command=demo).grid()\n",
    "f.minsize(width=500,height=500)\n",
    "f.mainloop()"
   ]
  },
  {
   "cell_type": "code",
   "execution_count": 51,
   "id": "0b4e32dd-d031-403e-99d8-41068345c2e1",
   "metadata": {},
   "outputs": [],
   "source": [
    "import tkinter as tk\n",
    "def demo():\n",
    "    i=0\n",
    "    while i<=10:\n",
    "        tk.Label(n, text=i).pack()\n",
    "        i=i+1\n",
    "n = tk.Tk()\n",
    "n.title(\"First Window\")\n",
    "w = tk.Label(n, text=\"Hello This is first page\")\n",
    "w.pack()\n",
    "b = tk.Button(n, text = \"Start\",command=demo)\n",
    "b.pack()\n",
    "b1 = tk.Button(n, text=\"Close\", command=n.destroy)\n",
    "b1.pack()\n",
    "n.mainloop()"
   ]
  },
  {
   "cell_type": "code",
   "execution_count": null,
   "id": "78896b7d-3b1c-4e53-9f83-0304894d4cd4",
   "metadata": {},
   "outputs": [],
   "source": [
    "from tkinter import *\n",
    "\n",
    "def cal():\n",
    "    n1 = int(num1.get())\n",
    "    n2 = int(num2.get())\n",
    "    sg = sign.get()\n",
    "    if sg==\"*\":\n",
    "        Label(calculator, text=n1*n2).grid()\n",
    "    else:\n",
    "        Label(calculator, text=\"Something is wrong\").grid()\n",
    "        Label(calculator, text = sg).grid()\n",
    "    if sg==\"+\":\n",
    "        Label(calculator, text=n1+n2).grid()\n",
    "    else:\n",
    "        Label(calculator, text=\"Something is wrong\").grid()\n",
    "        Label(calculator, text = sg).grid()\n",
    "    if sg==\"-\":\n",
    "        Label(calculator, text=n1-n2).grid()\n",
    "    else:\n",
    "        Label(calculator, text=\"Something is wrong\").grid()\n",
    "        Label(calculator, text = sg).grid()\n",
    "    if sg==\"/\":\n",
    "        Label(calculator, text=n1/n2).grid()\n",
    "    else:\n",
    "        Label(calculator, text=\"Something is wrong\").grid()\n",
    "        Label(calculator, text = sg).grid()\n",
    "    \n",
    "        \n",
    "calculator = Tk()\n",
    "Label(calculator, text = \"Calculator\").grid(row=0,column=20)\n",
    "Label(calculator, text = \"First Number\").grid(row=1)\n",
    "Label(calculator, text = \"Second Number\").grid(row=2)\n",
    "Label(calculator, text = \"Enter Sign\").grid(row=3)\n",
    "n1 = StringVar()\n",
    "n2 = StringVar()\n",
    "sg = StringVar()\n",
    "num1 = Entry(calculator,textvariable = n1)\n",
    "num2 = Entry(calculator, textvariable = n2)\n",
    "sign=Entry(calculator, textvariable = sg)\n",
    "num1.grid(row=1,column = 1)\n",
    "num2.grid(row=2,column = 1)\n",
    "sign.grid(row=3,column=1)\n",
    "Button(calculator, text = \"Submit\", command = cal).grid()\n",
    "calculator.minsize(width = 500, height = 500)\n",
    "calculator.mainloop()"
   ]
  },
  {
   "cell_type": "code",
   "execution_count": 13,
   "id": "ccec6717-c1c3-4a8a-a728-48fd0644098a",
   "metadata": {},
   "outputs": [
    {
     "data": {
      "text/plain": [
       "'\\nLabel option -> command, bg, fg, image, width, height, font\\n\\n'"
      ]
     },
     "execution_count": 13,
     "metadata": {},
     "output_type": "execute_result"
    }
   ],
   "source": [
    "'''\n",
    "Label option -> command, bg, fg, image, width, height, font\n",
    "\n",
    "'''"
   ]
  },
  {
   "cell_type": "code",
   "execution_count": 6,
   "id": "1b29482b-602b-4b63-84f9-d100265e2636",
   "metadata": {},
   "outputs": [
    {
     "name": "stderr",
     "output_type": "stream",
     "text": [
      "Exception in Tkinter callback\n",
      "Traceback (most recent call last):\n",
      "  File \"C:\\Users\\H.P\\AppData\\Local\\Programs\\Python\\Python312\\Lib\\tkinter\\__init__.py\", line 1968, in __call__\n",
      "    return self.func(*args)\n",
      "           ^^^^^^^^^^^^^^^^\n",
      "  File \"C:\\Users\\H.P\\AppData\\Local\\Temp\\ipykernel_17156\\3833839182.py\", line 53, in login_form\n",
      "    login_button = tk.Button(button_frame, text=\"Login\", command=authenticate_user, bg=\"#28a745\", fg=\"white\",\n",
      "                                                                ^^^^^^^^^^^^^^^^^\n",
      "UnboundLocalError: cannot access local variable 'authenticate_user' where it is not associated with a value\n"
     ]
    }
   ],
   "source": [
    "import tkinter as tk\n",
    "from tkinter import messagebox\n",
    "pass_ans = [\"Samar\", \"Abd\", \"Ed\"]\n",
    "valid_emails = [\"sg2195594@gmail.com\", \"Samarthg442@gmail.com\", \"edslash@gmail.com\"]\n",
    "valid_passwords = [\"Samar@123\", \"Abcd@123\", \"Edslash123@\"]\n",
    "# def authenticate_user():\n",
    "#     email = email_entry.get()\n",
    "#     password = password_entry.get()\n",
    "\n",
    "#     if email in valid_emails:\n",
    "#         index = valid_emails.index(email)\n",
    "#         if password == valid_passwords[index]:\n",
    "#             show_result_window(\"Login Successful\", \"#d4edda\")\n",
    "#         else:\n",
    "#             show_result_window(\"Incorrect Password\", \"#f8d7da\")\n",
    "#     else:\n",
    "#         show_result_window(\"Email not registered\", \"#f8d7da\")\n",
    "\n",
    "# def show_result_window(message, bg_color):\n",
    "#     result_window = tk.Toplevel()\n",
    "#     result_window.title(\"Result\")\n",
    "#     result_window.geometry(\"300x150\")\n",
    "#     result_window.configure(bg=bg_color)\n",
    "\n",
    "#     tk.Label(result_window, text=message, font=(\"Arial\", 14), bg=bg_color).pack(expand=True, pady=20)\n",
    "#     tk.Button(result_window, text=\"Close\", command=result_window.destroy, bg=\"#007bff\", fg=\"white\", \n",
    "#               font=(\"Arial\", 12), relief=\"solid\").pack(pady=10)\n",
    "\n",
    "# def clear_entries():\n",
    "    \n",
    "#     email_entry.delete(0, tk.END)\n",
    "#     password_entry.delete(0, tk.END)\n",
    "def login_form():\n",
    "    for widget in root.winfo_children():\n",
    "        widget.destroy()\n",
    "    \n",
    "    tk.Label(root, text=\"Login Form\", font=(\"Arial\", 20, \"bold\"), bg=\"#f8f9fa\", fg=\"#343a40\").pack(pady=10)\n",
    "\n",
    "    # Email label and entry\n",
    "    tk.Label(root, text=\"Email:\", font=(\"Arial\", 12), bg=\"#f8f9fa\", fg=\"#343a40\").pack(pady=5)\n",
    "    email_entry = tk.Entry(root, font=(\"Arial\", 12), width=30)\n",
    "    email_entry.pack(pady=5)\n",
    "    \n",
    "    # Password label and entry\n",
    "    tk.Label(root, text=\"Password:\", font=(\"Arial\", 12), bg=\"#f8f9fa\", fg=\"#343a40\").pack(pady=5)\n",
    "    password_entry = tk.Entry(root, font=(\"Arial\", 12), width=30, show=\"*\")\n",
    "    password_entry.pack(pady=5)\n",
    "    \n",
    "    # Buttons\n",
    "    button_frame = tk.Frame(root, bg=\"#f8f9fa\")\n",
    "    button_frame.pack(pady=20)\n",
    "    \n",
    "    login_button = tk.Button(button_frame, text=\"Login\", command=authenticate_user, bg=\"#28a745\", fg=\"white\", \n",
    "                             font=(\"Arial\", 12), relief=\"solid\", width=10).pack()\n",
    "    # login_button.grid(row=0, column=0, padx=10)\n",
    "    \n",
    "    def authenticate_user():\n",
    "        email = email_entry.get()\n",
    "        password = password_entry.get()\n",
    "    \n",
    "        if email in valid_emails:\n",
    "            index = valid_emails.index(email)\n",
    "            if password == valid_passwords[index]:\n",
    "                show_result_window(\"Login Successful\", \"#d4edda\")\n",
    "            else:\n",
    "                show_result_window(\"Incorrect Password\", \"#f8d7da\")\n",
    "        else:\n",
    "            show_result_window(\"Email not registered\", \"#f8d7da\")\n",
    "    \n",
    "        def show_result_window(message, bg_color):\n",
    "            result_window = tk.Toplevel()\n",
    "            result_window.title(\"Result\")\n",
    "            result_window.geometry(\"300x150\")\n",
    "            result_window.configure(bg=bg_color)\n",
    "        \n",
    "            tk.Label(result_window, text=message, font=(\"Arial\", 14), bg=bg_color).pack(expand=True, pady=20)\n",
    "            tk.Button(result_window, text=\"Close\", command=result_window.destroy, bg=\"#007bff\", fg=\"white\", \n",
    "                      font=(\"Arial\", 12), relief=\"solid\").pack(pady=10)\n",
    "            \n",
    "        Forget_password_button = tk.Button(root, text=\"Forget Password\", command=forget_password_window, bg = 'Blue', fg = 'Black', relief = \"solid\")\n",
    "        Forget_password_button.pack()\n",
    "    def forget_password_window():\n",
    "    # Create Forget Password Window\n",
    "        for_get = tk.Toplevel()\n",
    "        for_get.title(\"Forget Password\")\n",
    "        for_get.minsize(width=500, height=500)\n",
    "    \n",
    "        # Email Input\n",
    "        tk.Label(for_get, text=\"Email:\", font=(\"Arial\", 12)).pack(pady=10)\n",
    "        email_var = StringVar()\n",
    "        email_entry = tk.Entry(for_get, font=(\"Arial\", 12), textvariable=email_var, width=30)\n",
    "        email_entry.pack(pady=5)\n",
    "    \n",
    "        def submit_email():\n",
    "            email = email_var.get()\n",
    "            if email in valid_emails:\n",
    "                position = valid_emails.index(email)\n",
    "                ask_nickname(for_get, position)\n",
    "            else:\n",
    "                tk.Label(for_get, text=\"Invalid Email\", fg=\"red\").pack(pady=5)\n",
    "    \n",
    "        tk.Button(for_get, text=\"Submit\", command=submit_email).pack(pady=10)\n",
    "    \n",
    "    \n",
    "        def ask_nickname(for_get, position):\n",
    "            # Clear Window\n",
    "            for widget in for_get.winfo_children():\n",
    "                widget.destroy()\n",
    "        \n",
    "            # Nickname Input\n",
    "            tk.Label(for_get, text=\"What is your nickname?\", font=(\"Arial\", 12)).pack(pady=10)\n",
    "            nickname_var = StringVar()\n",
    "            tk.Entry(for_get, font=(\"Arial\", 12), textvariable=nickname_var, width=30).pack(pady=5)\n",
    "        \n",
    "            def submit_nickname():\n",
    "                if nickname_var.get() == pass_ans[position]:\n",
    "                    set_new_password(for_get, position)\n",
    "                else:\n",
    "                    tk.Label(for_get, text=\"Invalid answer\", fg=\"red\").pack(pady=5)\n",
    "        \n",
    "            tk.Button(for_get, text=\"Submit\", command=submit_nickname).pack(pady=10)\n",
    "        \n",
    "        \n",
    "        def set_new_password(for_get, position):\n",
    "            # Clear Window\n",
    "            for widget in for_get.winfo_children():\n",
    "                widget.destroy()\n",
    "        \n",
    "            # New Password Input\n",
    "            tk.Label(for_get, text=\"Enter New Password:\", font=(\"Arial\", 12)).pack(pady=10)\n",
    "            new_pass_var = StringVar()\n",
    "            tk.Entry(for_get, font=(\"Arial\", 12), textvariable=new_pass_var, width=30, show=\"*\").pack(pady=5)\n",
    "        \n",
    "            def submit_new_password():\n",
    "                new_password = new_pass_var.get()\n",
    "                valid_passwords[position] = new_password\n",
    "                tk.Label(for_get, text=\"Password updated successfully!\", fg=\"green\").pack(pady=10)\n",
    "                tk.Button(for_get, text=\"Close\", command=for_get.destroy).pack(pady=5)\n",
    "        \n",
    "            tk.Button(for_get, text=\"Submit\", command=submit_new_password).pack(pady=10)\n",
    "        \n",
    "\n",
    "# Main application window\n",
    "root = tk.Tk()\n",
    "root.title(\"Login System\")\n",
    "root.geometry(\"400x300\")\n",
    "root.configure(bg=\"#f8f9fa\")\n",
    "\n",
    "# Header label\n",
    "Signup = Button(root, text=\"Signup\",bg = \"Green\", fg = \"White\", relief= \"flat\", font = (\"Calibari\", 20, \"bold\")).pack(pady = 10)\n",
    "Label(root, text = \"Or\").pack(pady=10)\n",
    "Login = Button(root, text = \"Login\", bg = \"lightBlue\", fg = \"Black\", font = (\"Calibari\", 20, \"bold\"), relief = \"solid\", command = login_form).pack(pady = 10)\n",
    "# Run the application\n",
    "root.mainloop()\n"
   ]
  },
  {
   "cell_type": "code",
   "execution_count": 30,
   "id": "d72e7bc7-9443-4b15-9b2c-edfb311fcbbe",
   "metadata": {},
   "outputs": [],
   "source": []
  },
  {
   "cell_type": "code",
   "execution_count": 34,
   "id": "fb8ec196-9e23-4c35-893a-056db164f130",
   "metadata": {},
   "outputs": [],
   "source": [
    "from tkinter import *\n",
    "import tkinter as tk\n",
    "\n",
    "\n",
    "# User Data\n",
    "valid_emails = [\"sg2195594@gmail.com\", \"Samarthg442@gmail.com\", \"edslash@gmail.com\"]\n",
    "valid_passwords = [\"Samar@123\", \"Abcd@123\", \"Edslash123@\"]\n",
    "\n",
    "\n",
    "def forget_password_window():\n",
    "    # Create Forget Password Window\n",
    "    for_get = tk.Toplevel()\n",
    "    for_get.title(\"Forget Password\")\n",
    "    for_get.minsize(width=500, height=500)\n",
    "\n",
    "    # Email Input\n",
    "    tk.Label(for_get, text=\"Email:\", font=(\"Arial\", 12)).pack(pady=10)\n",
    "    email_var = StringVar()\n",
    "    email_entry = tk.Entry(for_get, font=(\"Arial\", 12), textvariable=email_var, width=30)\n",
    "    email_entry.pack(pady=5)\n",
    "\n",
    "    def submit_email():\n",
    "        email = email_var.get()\n",
    "        if email in valid_emails:\n",
    "            position = valid_emails.index(email)\n",
    "            ask_nickname(for_get, position)\n",
    "        else:\n",
    "            tk.Label(for_get, text=\"Invalid Email\", fg=\"red\").pack(pady=5)\n",
    "\n",
    "    tk.Button(for_get, text=\"Submit\", command=submit_email).pack(pady=10)\n",
    "\n",
    "\n",
    "def ask_nickname(for_get, position):\n",
    "    # Clear Window\n",
    "    for widget in for_get.winfo_children():\n",
    "        widget.destroy()\n",
    "\n",
    "    # Nickname Input\n",
    "    tk.Label(for_get, text=\"What is your nickname?\", font=(\"Arial\", 12)).pack(pady=10)\n",
    "    nickname_var = StringVar()\n",
    "    tk.Entry(for_get, font=(\"Arial\", 12), textvariable=nickname_var, width=30).pack(pady=5)\n",
    "\n",
    "    def submit_nickname():\n",
    "        if nickname_var.get() == pass_ans[position]:\n",
    "            set_new_password(for_get, position)\n",
    "        else:\n",
    "            tk.Label(for_get, text=\"Invalid answer\", fg=\"red\").pack(pady=5)\n",
    "\n",
    "    tk.Button(for_get, text=\"Submit\", command=submit_nickname).pack(pady=10)\n",
    "\n",
    "\n",
    "def set_new_password(for_get, position):\n",
    "    # Clear Window\n",
    "    for widget in for_get.winfo_children():\n",
    "        widget.destroy()\n",
    "\n",
    "    # New Password Input\n",
    "    tk.Label(for_get, text=\"Enter New Password:\", font=(\"Arial\", 12)).pack(pady=10)\n",
    "    new_pass_var = StringVar()\n",
    "    tk.Entry(for_get, font=(\"Arial\", 12), textvariable=new_pass_var, width=30, show=\"*\").pack(pady=5)\n",
    "\n",
    "    def submit_new_password():\n",
    "        new_password = new_pass_var.get()\n",
    "        valid_passwords[position] = new_password\n",
    "        tk.Label(for_get, text=\"Password updated successfully!\", fg=\"green\").pack(pady=10)\n",
    "        tk.Button(for_get, text=\"Close\", command=for_get.destroy).pack(pady=5)\n",
    "\n",
    "    tk.Button(for_get, text=\"Submit\", command=submit_new_password).pack(pady=10)\n",
    "\n",
    "\n",
    "# Main Window\n",
    "Home = Tk()\n",
    "Home.title(\"Home Window\")\n",
    "Home.minsize(width=500, height=500)\n",
    "\n",
    "tk.Button(Home, text=\"Forget Password\", command=forget_password_window).pack(pady=20)\n",
    "\n",
    "Home.mainloop()\n"
   ]
  },
  {
   "cell_type": "code",
   "execution_count": 40,
   "id": "0a4bc8e8-f57e-40d9-9914-3b85eb9aedb9",
   "metadata": {},
   "outputs": [],
   "source": [
    "from tkinter import *\n",
    "\n",
    "root = Tk()\n",
    "root.title(\"Pack and Grid Example\")\n",
    "root.geometry(\"400x300\")\n",
    "\n",
    "# Frame using pack\n",
    "frame1 = Frame(root, bg=\"lightblue\", height=150)\n",
    "frame1.pack(fill=\"x\", side=\"top\")\n",
    "\n",
    "Label(frame1, text=\"This is packed at the top\", bg=\"lightblue\").pack(pady=10)\n",
    "\n",
    "# Frame using grid\n",
    "frame2 = Frame(root, bg=\"lightgray\")\n",
    "frame2.pack(fill=\"both\", expand=True)\n",
    "\n",
    "Label(frame2, text=\"Row 0, Column 0\", bg=\"lightgray\").grid(row=0, column=0, padx=10, pady=10)\n",
    "Label(frame2, text=\"Row 0, Column 1\", bg=\"lightgray\").grid(row=0, column=1, padx=10, pady=10)\n",
    "Label(frame2, text=\"Row 1, Column 0\", bg=\"lightgray\").grid(row=1, column=0, padx=10, pady=10)\n",
    "Label(frame2, text=\"Row 1, Column 1\", bg=\"lightgray\").grid(row=1, column=1, padx=10, pady=10)\n",
    "\n",
    "root.mainloop()\n"
   ]
  },
  {
   "cell_type": "code",
   "execution_count": 41,
   "id": "03e7bbc8-afe8-4bc7-8022-19a66cc9d5f9",
   "metadata": {},
   "outputs": [],
   "source": [
    "import tkinter as tk\n",
    "from tkinter import messagebox, StringVar\n",
    "from time import strftime\n",
    "\n",
    "\n",
    "# Valid data\n",
    "signup_details = {\"sg2195594@gmail.com\":[\"Samarth Gupta\", \"24\", \"Male\", 8815871424,\"\"], \n",
    "                  \"Samarthg442@gmmail.com\":[\"Nishant Banger\", \"24\", \"Male\", 9755840059,\"\"], \n",
    "                  \"Edslash@gmail.com\":[\"Samarth Gupta\", \"2\", \"None\", 9999999999,\"\"], \n",
    "                 }\n",
    "forget_pass_ans = {\"sg2195594@gmail.com\":[\"Samar\", \"Samar@123\"],\n",
    "                   \"Samarthg442@gmail.com\":[\"Abd\", \"Abcd@123\"],\n",
    "                   \"edslash@gmail.com\":[\"Ed\",\"Edslash123@\"]\n",
    "}\n",
    "\n",
    "def signup_new_user():\n",
    "    user_name = name.get()\n",
    "    user_age = age.get()\n",
    "    user_contact = contact_num.get()\n",
    "    email = email_enter.get()\n",
    "    password = password_enter.get()\n",
    "    nickname = nickname_enter.get()\n",
    "    user_gender = \" \"\n",
    "    current_time = strftime('%Y-%m-%d %H:%M:%S')\n",
    "    if email !=\"\" and password !=\"\" and nickname !=\"\" and user_name!=\"\" and user_age!=\"\" and user_contact!=\"\" and user_gender!=\"\" and email not in signup_details.keys():\n",
    "        signup_details[email] =[user_name, user_age, user_gender,user_contact,current_time] \n",
    "        forget_pass_ans[email] = [nickname, password]\n",
    "        signup_result(\"Successfully Registered\")\n",
    "        print(signup_details)\n",
    "    else:\n",
    "        signup_result(\"Incomplete or invalid details or Email Already Exists\")\n",
    "        \n",
    "def signup_result(message):\n",
    "    temp_window = tk.Toplevel()\n",
    "    temp_window.title(\"Signup Result\")\n",
    "    temp_window.geometry(\"200x200\")\n",
    "\n",
    "    tk.Label(temp_window, text= message, font =(\"Arial\", 20, \"bold\")).pack(pady=10)\n",
    "    destroy_button = tk.Button(temp_window, text = \"Close\", font= (\"Calibri\", 10),command = temp_window.destroy, fg = \"white\", bg = \"grey\")\n",
    "    destroy_button.pack(pady=10)\n",
    "    \n",
    "def signup_form():\n",
    "    for widget in root.winfo_children():\n",
    "        widget.destroy()\n",
    "    root.geometry(\"600x400\")\n",
    "    tk.Label(root, text=\"full Name:\", font = (\"Arial\", 15, \"bold\")).pack(pady=10)\n",
    "    global name\n",
    "    name = tk.Entry(root, font = (\"Arial\",15,\"bold\"), width = 15)\n",
    "    name.pack(pady = 10)\n",
    "    tk.Label(root, text=\"Age:\", font = (\"Arial\", 15, \"bold\")).pack(pady=10)\n",
    "    global age\n",
    "    age = tk.Entry(root, font = (\"Arial\",15,\"bold\"), width = 15)\n",
    "    age.pack(pady = 10)\n",
    "    global gender\n",
    "    gender = tk.Radiobutton(root, text=\"Male\",value=\"Male\", fg = \"black\")\n",
    "    gender.pack()\n",
    "    gender = tk.Radiobutton(root, text=\"Female\", value=\"Female\", fg = \"black\")\n",
    "    gender.pack()\n",
    "    tk.Label(root, text=\"Email:\", font = (\"Arial\", 15, \"bold\")).pack(pady=10)\n",
    "    global email_enter\n",
    "    email_enter = tk.Entry(root, font = (\"Arial\",15,\"bold\"),width = 15)\n",
    "    email_enter.pack(pady=10)\n",
    "    tk.Label(root, text=\"Contact Number:\", font = (\"Arial\", 15, \"bold\")).pack(pady=10)\n",
    "    global contact_num\n",
    "    contact_num =tk.Entry(root, font = (\"Arial\",15,\"bold\"), width = 15)\n",
    "    contact_num.pack(pady = 10)\n",
    "    tk.Label(root, text=\"password:\", font = (\"Arial\", 15, \"bold\")).pack(pady=10)\n",
    "    global password_enter\n",
    "    password_enter = tk.Entry(root, font = (\"Arial\", 15, \"bold\"))\n",
    "    password_enter.pack(pady=10)\n",
    "    tk.Label(root, text=\"What is your nickname:\", font = (\"Arial\", 15, \"bold\")).pack(pady=10)\n",
    "    global nickname_enter\n",
    "    nickname_enter = tk.Entry(root, font = (\"Arial\", 15, \"bold\"))\n",
    "    nickname_enter.pack(pady = 10)\n",
    "    Signup_button = tk.Button(root, text=\"Sign up\", font = (\"Arial\", 15, \"bold\"), fg = \"Black\", bg=\"lightblue\", command=signup_new_user)\n",
    "    Signup_button.pack(pady=10)\n",
    "    \n",
    "\n",
    "def show_result_window(message, bg_color,email=\"\"):\n",
    "    \n",
    "    if message ==\"Successful\":\n",
    "        home_page(email)\n",
    "    else:\n",
    "        result_window = tk.Toplevel()\n",
    "        result_window.title(\"Result\")\n",
    "        result_window.geometry(\"300x150\")\n",
    "        result_window.configure(bg=bg_color)\n",
    "    \n",
    "        tk.Label(result_window, text=message, font=(\"Arial\", 14), bg=bg_color).pack(expand=True, pady=20)\n",
    "        tk.Button(result_window, text=\"Close\", command=result_window.destroy, bg=\"#007bff\", fg=\"white\", \n",
    "                font=(\"Arial\", 12), relief=\"solid\").pack(pady=10)\n",
    "def home_page(email):\n",
    "    for widget in root.winfo_children():\n",
    "        widget.destroy()\n",
    "    tk.Label(root,text = \"Welcome to our Page\",font = (\"Arial\", 20, \"bold\")).pack(padx=10,anchor=\"e\")\n",
    "    tk.Label(root, text = signup_details[email][0], font =(\"calibri\", 20, \"italic\"), bg = \"lightgrey\").pack()\n",
    "\n",
    "def authenticate_user():\n",
    "    email = email_entry.get()\n",
    "    password = password_entry.get()\n",
    "\n",
    "    if email in forget_pass_ans.keys():\n",
    "        if password == forget_pass_ans[email][1]:\n",
    "            show_result_window(\"Successful\", \"#d4edda\",email)\n",
    "        else:\n",
    "            show_result_window(\"Incorrect Password\", \"#f8d7da\")\n",
    "    else:\n",
    "        show_result_window(\"Email not registered\", \"#f8d7da\")\n",
    "\n",
    "def forget_password_window():\n",
    "    for_get = tk.Toplevel()\n",
    "    for_get.title(\"Forget Password\")\n",
    "    for_get.geometry(\"400x300\")\n",
    "\n",
    "    tk.Label(for_get, text=\"Email:\", font=(\"Arial\", 12)).pack(pady=10)\n",
    "    email_var = StringVar()\n",
    "    email_entry = tk.Entry(for_get, font=(\"Arial\", 12), textvariable=email_var, width=30)\n",
    "    email_entry.pack(pady=5)\n",
    "\n",
    "    def submit_email():\n",
    "        email = email_var.get()\n",
    "        if email in forget_pass_ans.keys():\n",
    "            ask_nickname(for_get, email)\n",
    "        else:\n",
    "            tk.Label(for_get, text=\"Invalid Email\", fg=\"red\").pack(pady=5)\n",
    "\n",
    "    tk.Button(for_get, text=\"Submit\", command=submit_email).pack(pady=10)\n",
    "\n",
    "def ask_nickname(for_get, email):\n",
    "    for widget in for_get.winfo_children():\n",
    "        widget.destroy()\n",
    "\n",
    "    tk.Label(for_get, text=\"What is your nickname?\", font=(\"Arial\", 12)).pack(pady=10)\n",
    "    nickname_var = StringVar()\n",
    "    tk.Entry(for_get, font=(\"Arial\", 12), textvariable=nickname_var, width=30).pack(pady=5)\n",
    "\n",
    "    def submit_nickname():\n",
    "        if nickname_var.get() == forget_pass_ans[email][1]:\n",
    "            set_new_password(for_get, email)\n",
    "        else:\n",
    "            tk.Label(for_get, text=\"Invalid answer\", fg=\"red\").pack(pady=5)\n",
    "\n",
    "    tk.Button(for_get, text=\"Submit\", command=submit_nickname).pack(pady=10)\n",
    "\n",
    "def set_new_password(for_get, email):\n",
    "    for widget in for_get.winfo_children():\n",
    "        widget.destroy()\n",
    "\n",
    "    tk.Label(for_get, text=\"Enter New Password:\", font=(\"Arial\", 12)).pack(pady=10)\n",
    "    new_pass_var = StringVar()\n",
    "    tk.Entry(for_get, font=(\"Arial\", 12), textvariable=new_pass_var, width=30, show=\"*\").pack(pady=5)\n",
    "\n",
    "    def submit_new_password():\n",
    "        new_password = new_pass_var.get()\n",
    "        forget_pass_ans[email][1] = new_password\n",
    "        tk.Label(for_get, text=\"Password updated successfully!\", fg=\"green\").pack(pady=10)\n",
    "        tk.Button(for_get, text=\"Close\", command=for_get.destroy).pack(pady=5)\n",
    "\n",
    "    tk.Button(for_get, text=\"Submit\", command=submit_new_password).pack(pady=10)\n",
    "\n",
    "def login_form():\n",
    "    for widget in root.winfo_children():\n",
    "        widget.destroy()\n",
    "\n",
    "    tk.Label(root, text=\"Login Form\", font=(\"Arial\", 20, \"bold\"), bg=\"#f8f9fa\", fg=\"#343a40\").pack(pady=10)\n",
    "\n",
    "    # Email label and entry\n",
    "    tk.Label(root, text=\"Email:\", font=(\"Arial\", 12), bg=\"#f8f9fa\", fg=\"#343a40\").pack(pady=5)\n",
    "    global email_entry\n",
    "    email_entry = tk.Entry(root, font=(\"Arial\", 12), width=30)\n",
    "    email_entry.pack(pady=5)\n",
    "\n",
    "    # Password label and entry\n",
    "    tk.Label(root, text=\"Password:\", font=(\"Arial\", 12), bg=\"#f8f9fa\", fg=\"#343a40\").pack(pady=5)\n",
    "    global password_entry\n",
    "    password_entry = tk.Entry(root, font=(\"Arial\", 12), width=30, show=\"*\")\n",
    "    password_entry.pack(pady=5)\n",
    "\n",
    "    # Buttons\n",
    "    button_frame = tk.Frame(root, bg=\"#f8f9fa\")\n",
    "    button_frame.pack(pady=20)\n",
    "\n",
    "    tk.Button(button_frame, text=\"Login\", command=authenticate_user, bg=\"#28a745\", fg=\"white\", \n",
    "              font=(\"Arial\", 12), relief=\"solid\", width=10).pack()\n",
    "\n",
    "    tk.Button(button_frame, text=\"Forget Password\", command=forget_password_window, bg=\"blue\", fg=\"white\", \n",
    "              font=(\"Arial\", 12), relief=\"solid\", width=15).pack(pady=5)\n",
    "\n",
    "# Main application window\n",
    "root = tk.Tk()\n",
    "root.title(\"Login System\")\n",
    "root.geometry(\"400x300\")\n",
    "root.configure(bg=\"#f8f9fa\")\n",
    "\n",
    "# Header label\n",
    "tk.Button(root, text=\"Signup\", bg=\"green\", fg=\"white\", relief=\"flat\", font=(\"Calibri\", 20, \"bold\"), command =signup_form).pack(pady=10)\n",
    "tk.Label(root, text=\"Or\", font=(\"Arial\", 12)).pack(pady=10)\n",
    "tk.Button(root, text=\"Login\", bg=\"lightblue\", fg=\"black\", font=(\"Calibri\", 20, \"bold\"), relief=\"solid\", command=login_form).pack(pady=10)\n",
    "\n",
    "\n",
    "# Run the application\n",
    "root.mainloop()"
   ]
  },
  {
   "cell_type": "code",
   "execution_count": 6,
   "id": "aa1aea7e-6155-4e1d-a2a4-b8b77f38ef8f",
   "metadata": {},
   "outputs": [],
   "source": [
    "import tkinter as tk\n",
    "from tkinter import messagebox, StringVar, Radiobutton, IntVar\n",
    "from time import strftime\n",
    "from tkinter import filedialog\n",
    "from PIL import Image, ImageTk\n",
    "\n",
    "# Valid data\n",
    "signup_details = {\n",
    "    \"sg2195594@gmail.com\": [\"Samarth Gupta\", \"24\", \"Male\", 8815871424, \"\",'C:/Users/H.P/Documents/Python/edslash.png'],\n",
    "    \"Samarthg442@gmmail.com\": [\"Nishant Banger\", \"24\", \"Male\", 9755840059, \"\",'C:/Users/H.P/Documents/Python/edslash.png'],\n",
    "    \"Edslash@gmail.com\": [\"Samarth Gupta\", \"2\", \"None\", 9999999999, \"\",'C:/Users/H.P/Documents/Python/edslash.png'],\n",
    "}\n",
    "forget_pass_ans = {\n",
    "    \"sg2195594@gmail.com\": [\"Samar\", \"Samar@123\"],\n",
    "    \"Samarthg442@gmail.com\": [\"Abd\", \"Abcd@123\"],\n",
    "    \"edslash@gmail.com\": [\"Ed\", \"Edslash123@\"]\n",
    "}\n",
    "login_timing = {\n",
    "    \"sg2195594@gmail.com\" : [],\n",
    "    \"Samarthg442@gmail.com\" :[],\n",
    "    \"edslash@gmail.com\": []\n",
    "}\n",
    "# Signup Logic\n",
    "def signup_new_user():\n",
    "    user_name = name.get()\n",
    "    user_age = age.get()\n",
    "    user_gender = gender.get()\n",
    "    user_contact = contact_num.get()\n",
    "    email = email_enter.get()\n",
    "    password = password_enter.get()\n",
    "    nickname = nickname_enter.get()\n",
    "    current_time = strftime('%Y-%m-%d %H:%M:%S')\n",
    "    global uploaded_image_path  # Get the uploaded file path\n",
    "    file_path = uploaded_image_path\n",
    "    # Validation\n",
    "    if not user_name or not user_age or not user_contact or not email or not password or not nickname or not user_gender:\n",
    "        signup_result(\"Please fill all fields!\")\n",
    "        return\n",
    "    if len(email)<12 or not (email[-10:]==\"@gmail.com\"):\n",
    "        signup_result(\"Invalid Mail\")\n",
    "        return\n",
    "    if not user_age.isdigit() or int(user_age) <= 0:\n",
    "        signup_result(\"Invalid Age!\")\n",
    "        return\n",
    "\n",
    "    if len(user_contact) != 10 or not user_contact.isdigit():\n",
    "        signup_result(\"Invalid Contact Number!\")\n",
    "        return\n",
    "\n",
    "    if email in signup_details:\n",
    "        signup_result(\"Email Already Exists!\")\n",
    "        return\n",
    "    if len(password) <8:\n",
    "        signup_result(\"Password is weak!\")\n",
    "        return\n",
    "    # Save Details\n",
    "    signup_details[email] = [user_name, user_age, user_gender, user_contact, current_time,file_path]\n",
    "    forget_pass_ans[email] = [nickname, password]\n",
    "    signup_result(\"Successfully Registered!\")\n",
    "    print(signup_details)\n",
    "\n",
    "def signup_result(message):\n",
    "    messagebox.showinfo(\"Signup Result\", message)\n",
    "\n",
    "# Signup Forms\n",
    "def signup_form():\n",
    "    for widget in frame_mid.winfo_children():\n",
    "        widget.destroy()\n",
    "\n",
    "    root.geometry(\"400x500\")\n",
    "    tk.Label(frame_mid, text=\"Signup Form\", font=(\"Arial\", 20, \"bold\")).pack(pady=10)\n",
    "\n",
    "    global name, age, gender, contact_num, email_enter, password_enter, nickname_enter\n",
    "    name = create_labeled_entry(frame_mid, \"Full Name:\")\n",
    "    age = create_labeled_entry(frame_mid, \"Age:\")\n",
    "    \n",
    "    gender = StringVar(value=\"None\")\n",
    "    new= tk.Frame(frame_mid,bg = \"lightgrey\")\n",
    "    new.pack()\n",
    "    tk.Label(new, text=\"Gender:\", font=(\"Arial\", 12),bg = \"lightgrey\").grid(row=7, column=0, pady=5, sticky=\"w\")\n",
    "    Radiobutton(new, text=\"Male\", variable=gender, value=\"Male\",bg = \"lightgrey\").grid(row=7, column=1, sticky=\"w\")\n",
    "    Radiobutton(new, text=\"Female\", variable=gender, value=\"Female\",bg = \"lightgrey\").grid(row=7, column=2, sticky=\"w\")\n",
    "    contact_num = create_labeled_entry(frame_mid, \"Contact Number:\")\n",
    "    email_enter = create_labeled_entry(frame_mid, \"Email:\")\n",
    "    password_enter = create_labeled_entry(frame_mid, \"Password:\", show=\"*\")\n",
    "    nickname_enter = create_labeled_entry(frame_mid, \"Nickname:\")\n",
    "    def upload_image():\n",
    "        global uploaded_image_path\n",
    "        uploaded_image_path = filedialog.askopenfilename(filetypes=[(\"Image Files\", \"*.png;*.jpg;*.jpeg;*.bmp\")])\n",
    "        if uploaded_image_path:\n",
    "            img = Image.open(uploaded_image_path)\n",
    "            img = img.resize((100, 100))  # Resize for display purposes\n",
    "            img_tk = ImageTk.PhotoImage(img)\n",
    "            img_label.config(image=img_tk)\n",
    "            img_label.image = img_tk  # Save a reference to avoid garbage collection\n",
    "\n",
    "    tk.Button(frame_mid, text=\"Upload Photo\", command=upload_image).pack(pady=10)\n",
    "    img_label = tk.Label(frame_mid)\n",
    "    img_label.pack(pady=10)\n",
    "    tk.Button(frame_mid, text=\"Sign Up\", font=(\"Arial\", 15), bg=\"lightblue\", command=signup_new_user).pack(pady=10)\n",
    "    tk.Label(frame_mid,text =\"----or----\",font=(\"Arial\",20),bg=\"lightgrey\").pack(pady=10)\n",
    "    tk.Button(frame_mid, text=\"Login\", font=(\"Arial\", 12), command=login_form).pack(pady=10)\n",
    "\n",
    "def create_labeled_entry(parent, label_text, show=None):\n",
    "    new_label = tk.Frame(parent, bg = \"lightgrey\")\n",
    "    new_label.pack()\n",
    "    tk.Label(new_label, text=label_text, font=(\"Arial\", 12),bg = \"lightgrey\").grid(row=create_labeled_entry.row, column=0, pady=5, sticky=\"w\")\n",
    "    entry = tk.Entry(new_label, font=(\"Arial\", 12), show=show)\n",
    "    entry.grid(row=create_labeled_entry.row, column=1, pady=5, columnspan=2, sticky=\"ew\")\n",
    "    create_labeled_entry.row += 1\n",
    "    return entry\n",
    "\n",
    "create_labeled_entry.row = 0\n",
    "\n",
    "# Login authentication\n",
    "def authenticate_user():\n",
    "    email = email_entry.get()\n",
    "    password = password_entry.get()\n",
    "    current_time = strftime('%Y-%m-%d %H:%M:%S')\n",
    "    if email in forget_pass_ans:\n",
    "        if password == forget_pass_ans[email][1]:\n",
    "            temp = login_timing[email]\n",
    "            temp.append(current_time)\n",
    "            login_timing[email] = temp\n",
    "            print(login_timing[email])\n",
    "            home_page(email)\n",
    "        else:\n",
    "            show_result_window(\"Incorrect Password!\", \"#f8d7da\")\n",
    "    else:\n",
    "        show_result_window(\"Email not registered!\", \"#f8d7da\")\n",
    "#showing result if login fails\n",
    "def show_result_window(message, bg_color,email=\"\"):\n",
    "    \n",
    "    result_window = tk.Toplevel()\n",
    "    result_window.title(\"Result\")\n",
    "    result_window.geometry(\"300x150\")\n",
    "    result_window.configure(bg=bg_color)\n",
    "\n",
    "    tk.Label(result_window, text=message, font=(\"Arial\", 14), bg=bg_color).pack(expand=True, pady=20)\n",
    "    tk.Button(result_window, text=\"Close\", command=result_window.destroy, bg=\"#007bff\", fg=\"white\", \n",
    "            font=(\"Arial\", 12), relief=\"solid\").pack(pady=10)\n",
    "def login_form():\n",
    "    for widget in frame_mid.winfo_children():\n",
    "        widget.destroy()\n",
    "\n",
    "    root.geometry(\"400x300\")\n",
    "    tk.Label(frame_mid, text=\"Login Form\", font=(\"Arial\", 20, \"bold\")).pack(pady=10)\n",
    "    global email_entry, password_entry\n",
    "    email_entry = create_labeled_entry(frame_mid, \"Email:\")\n",
    "    password_entry = create_labeled_entry(frame_mid, \"Password:\", show=\"*\")\n",
    "\n",
    "    tk.Button(frame_mid, text=\"Login\", font=(\"Arial\", 15), bg=\"lightgreen\", command=authenticate_user).pack(pady=10)\n",
    "    tk.Button(frame_mid, text=\"Forget Password\", font=(\"Arial\", 12), command=forget_password_window).pack(pady=5)\n",
    "    tk.Button(frame_mid, text=\"Signup\", font=(\"Arial\", 12), command=signup_form).pack()\n",
    "\n",
    "# Forget Password\n",
    "def forget_password_window():\n",
    "    for_get = tk.Toplevel()\n",
    "    for_get.title(\"Forget Password\")\n",
    "    for_get.geometry(\"400x300\")\n",
    "\n",
    "    tk.Label(for_get, text=\"Email:\", font=(\"Arial\", 12)).pack(pady=10)\n",
    "    email_var = StringVar()\n",
    "    email_entry = tk.Entry(for_get, font=(\"Arial\", 12), textvariable=email_var, width=30)\n",
    "    email_entry.pack(pady=5)\n",
    "\n",
    "    def submit_email():\n",
    "        email = email_var.get()\n",
    "        if email in forget_pass_ans.keys():\n",
    "            ask_nickname(for_get, email)\n",
    "        else:\n",
    "            tk.Label(for_get, text=\"Invalid Email\", fg=\"red\").pack(pady=5)\n",
    "\n",
    "    tk.Button(for_get, text=\"Submit\", command=submit_email).pack(pady=10)\n",
    "\n",
    "def ask_nickname(for_get, email):\n",
    "    for widget in for_get.winfo_children():\n",
    "        widget.destroy()\n",
    "\n",
    "    tk.Label(for_get, text=\"What is your nickname?\", font=(\"Arial\", 12)).pack(pady=10)\n",
    "    nickname_var = StringVar()\n",
    "    tk.Entry(for_get, font=(\"Arial\", 12), textvariable=nickname_var, width=30).pack(pady=5)\n",
    "\n",
    "    def submit_nickname():\n",
    "        if nickname_var.get() == forget_pass_ans[email][1]:\n",
    "            set_new_password(for_get, email)\n",
    "        else:\n",
    "            tk.Label(for_get, text=\"Invalid answer\", fg=\"red\").pack(pady=5)\n",
    "\n",
    "    tk.Button(for_get, text=\"Submit\", command=submit_nickname).pack(pady=10)\n",
    "\n",
    "def set_new_password(for_get, email):\n",
    "    for widget in for_get.winfo_children():\n",
    "        widget.destroy()\n",
    "\n",
    "    tk.Label(for_get, text=\"Enter New Password:\", font=(\"Arial\", 12)).pack(pady=10)\n",
    "    new_pass_var = StringVar()\n",
    "    tk.Entry(for_get, font=(\"Arial\", 12), textvariable=new_pass_var, width=30, show=\"*\").pack(pady=5)\n",
    "\n",
    "    def submit_new_password():\n",
    "        new_password = new_pass_var.get()\n",
    "        forget_pass_ans[email][1] = new_password\n",
    "        tk.Label(for_get, text=\"Password updated successfully!\", fg=\"green\").pack(pady=10)\n",
    "        tk.Button(for_get, text=\"Close\", command=for_get.destroy).pack(pady=5)\n",
    "\n",
    "    tk.Button(for_get, text=\"Submit\", command=submit_new_password).pack(pady=10)\n",
    "# Home Page\n",
    "def home_page(email):\n",
    "    for widget in frame_mid.winfo_children():\n",
    "        widget.destroy()\n",
    "    tk.Label(frame_mid, text=f\"Welcome, {signup_details[email][0]}\", font=(\"Arial\", 20, \"bold\")).pack(pady=20)\n",
    "    file_path =signup_details[email][-1]\n",
    "    img = Image.open(file_path)\n",
    "    img = img.resize((300, 300))  # Resize for display purposes\n",
    "    img_tk = ImageTk.PhotoImage(img)\n",
    "    img_label = tk.Label(frame_mid)\n",
    "    img_label.config(image=img_tk)\n",
    "    img_label.image = img_tk\n",
    "    img_label.pack()\n",
    "\n",
    "# Main Application\n",
    "root = tk.Tk()\n",
    "root.title(\"Login System\")\n",
    "root.configure(bg=\"#f8f9fa\")\n",
    "root.geometry(\"400x400\")\n",
    "frame_top = tk.Frame(root, bg=\"black\", height=100)\n",
    "frame_top.pack(side=\"top\", fill=\"x\")\n",
    "Label=tk.Label(frame_top,text=\"Gaming.com\",font =(\"Times New Roman\", 35, \"bold\"), fg=\"grey\", bg = \"black\")\n",
    "frame_mid = tk.Frame(root, bg =\"lightgrey\",height = 700)\n",
    "frame_mid.pack(fill = \"both\")\n",
    "Label.pack()\n",
    "tk.Label(frame_mid, text=\"Welcome! to Gaming \", font=(\"Arial\", 20, \"bold\")).pack(pady=50)\n",
    "tk.Button(frame_mid, text=\"Login\", font=(\"Arial\", 15), bg=\"lightblue\", command=login_form).pack(pady=10)\n",
    "tk.Button(frame_mid, text=\"Signup\", font=(\"Arial\", 15), bg=\"lightgreen\", command=signup_form).pack(pady=10)\n",
    "root.mainloop()"
   ]
  },
  {
   "cell_type": "code",
   "execution_count": 37,
   "id": "1e014c6c-b19d-4166-ac13-59a28246fc96",
   "metadata": {},
   "outputs": [],
   "source": [
    "import tkinter as tk\n",
    "from tkinter import filedialog\n",
    "from PIL import Image, ImageTk\n",
    "\n",
    "# Create the main Tkinter window\n",
    "root = tk.Tk()\n",
    "root.title(\"Photo Input and Display\")\n",
    "\n",
    "\n",
    "# Label to display the image\n",
    "img_label = tk.Label(root)\n",
    "img_label.pack(pady=10)\n",
    "\n",
    "# Bind the button to the image upload functionality\n",
    "file_path = filedialog.askopenfilename(filetypes=[(\"Image Files\", \"*.png;*.jpg;*.jpeg;*.bmp\")])\n",
    "if file_path:\n",
    "    # Open and display the selected image\n",
    "    img = Image.open(file_path)\n",
    "    img = img.resize((300, 300))  # Resize for display purposes\n",
    "    img_tk = ImageTk.PhotoImage(img)\n",
    "    img_label.config(image=img_tk)\n",
    "    img_label.image = img_tk  # Save a reference to avoid garbage collection\n",
    "\n",
    "# Run the Tkinter main loop\n",
    "root.mainloop()\n"
   ]
  },
  {
   "cell_type": "code",
   "execution_count": null,
   "id": "2d586d3c-4471-4432-b45a-62dcee509da2",
   "metadata": {},
   "outputs": [],
   "source": []
  }
 ],
 "metadata": {
  "kernelspec": {
   "display_name": "Python 3 (ipykernel)",
   "language": "python",
   "name": "python3"
  },
  "language_info": {
   "codemirror_mode": {
    "name": "ipython",
    "version": 3
   },
   "file_extension": ".py",
   "mimetype": "text/x-python",
   "name": "python",
   "nbconvert_exporter": "python",
   "pygments_lexer": "ipython3",
   "version": "3.12.5"
  }
 },
 "nbformat": 4,
 "nbformat_minor": 5
}
